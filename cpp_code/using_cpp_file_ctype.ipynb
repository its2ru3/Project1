{
 "cells": [
  {
   "cell_type": "code",
   "execution_count": 1,
   "metadata": {},
   "outputs": [],
   "source": [
    "%load_ext autoreload\n",
    "%autoreload 2"
   ]
  },
  {
   "cell_type": "code",
   "execution_count": 9,
   "metadata": {},
   "outputs": [],
   "source": [
    "# import sys\n",
    "# sys.path.append(\"..\")\n",
    "from qiskit import QuantumCircuit\n",
    "import Dependencies.functions_list as df\n",
    "# import functions_listCpp as dfcpp"
   ]
  },
  {
   "cell_type": "code",
   "execution_count": 10,
   "metadata": {},
   "outputs": [
    {
     "name": "stdout",
     "output_type": "stream",
     "text": [
      "     ┌───┐   ┌───┐             \n",
      "q_0: ┤ H ├─■─┤ T ├───────────■─\n",
      "     ├───┤ │ ├───┤┌───┐┌───┐ │ \n",
      "q_1: ┤ H ├─■─┤ S ├┤ H ├┤ Z ├─■─\n",
      "     ├───┤   └───┘└───┘└───┘ │ \n",
      "q_2: ┤ H ├───────────────────■─\n",
      "     └───┘                     \n"
     ]
    }
   ],
   "source": [
    "n = 3\n",
    "qc = QuantumCircuit(n)\n",
    "qc.h([0,1,2])\n",
    "qc.cz(0,1)\n",
    "qc.s(1)\n",
    "qc.h(1)\n",
    "# qc.s(0)\n",
    "qc.t(0)\n",
    "qc.z(1)\n",
    "qc.ccz(0,1,2)\n",
    "d = qc.depth()\n",
    "print(qc)"
   ]
  },
  {
   "cell_type": "code",
   "execution_count": 11,
   "metadata": {},
   "outputs": [
    {
     "name": "stdout",
     "output_type": "stream",
     "text": [
      "[('h', [0]), ('h', [1]), ('h', [2]), ('cz', [0, 1]), ('s', [1]), ('h', [1]), ('t', [0]), ('z', [1]), ('ccz', [0, 1, 2])]\n"
     ]
    }
   ],
   "source": [
    "instructions = [(instruction.operation.name,\n",
    "                    [qc.find_bit(q).index for q in instruction.qubits]) \n",
    "                    for index, instruction in enumerate(qc.data)]\n",
    "print(instructions)"
   ]
  },
  {
   "cell_type": "code",
   "execution_count": 12,
   "metadata": {},
   "outputs": [],
   "source": [
    "!g++ -fPIC -shared -o polylib.so functions_listCpp.cpp"
   ]
  },
  {
   "cell_type": "code",
   "execution_count": 13,
   "metadata": {},
   "outputs": [
    {
     "name": "stdout",
     "output_type": "stream",
     "text": [
      "[[4, [0, 3]], [4, [1, 4]], [4, [2, 5]], [4, [3, 4]], [2, [4]], [4, [4, 6]], [1, [3]], [4, [6]], [4, [3, 6, 5]]]\n",
      "[[0, 3], [1, 4, 6], [2, 5]]\n",
      "7\n",
      "[3, 6, 5]\n"
     ]
    }
   ],
   "source": [
    "terms, wire_array, max_new_var = df.create_poly(qc, n)\n",
    "print(terms)\n",
    "print(wire_array)\n",
    "print(max_new_var)\n",
    "ovs = [sub[-1] for sub in wire_array]\n",
    "print(ovs)"
   ]
  },
  {
   "cell_type": "code",
   "execution_count": null,
   "metadata": {},
   "outputs": [
    {
     "name": "stdout",
     "output_type": "stream",
     "text": [
      "[False False False]\n"
     ]
    },
    {
     "ename": "ArgumentError",
     "evalue": "argument 1: TypeError: Don't know how to convert parameter 1",
     "output_type": "error",
     "traceback": [
      "\u001b[31m---------------------------------------------------------------------------\u001b[39m",
      "\u001b[31mArgumentError\u001b[39m                             Traceback (most recent call last)",
      "\u001b[36mCell\u001b[39m\u001b[36m \u001b[39m\u001b[32mIn[14]\u001b[39m\u001b[32m, line 8\u001b[39m\n\u001b[32m      5\u001b[39m \u001b[38;5;28;01mimport\u001b[39;00m\u001b[38;5;250m \u001b[39m\u001b[34;01mctypes\u001b[39;00m\n\u001b[32m      6\u001b[39m lib = ctypes.CDLL(\u001b[33m'\u001b[39m\u001b[33m./polylib.so\u001b[39m\u001b[33m'\u001b[39m)\n\u001b[32m----> \u001b[39m\u001b[32m8\u001b[39m tt = \u001b[43mlib\u001b[49m\u001b[43m.\u001b[49m\u001b[43mget_truthtable\u001b[49m\u001b[43m(\u001b[49m\u001b[43mterms\u001b[49m\u001b[43m,\u001b[49m\u001b[43m \u001b[49m\u001b[43mn\u001b[49m\u001b[43m,\u001b[49m\u001b[43m \u001b[49m\u001b[43mmax_new_var\u001b[49m\u001b[43m,\u001b[49m\u001b[43m \u001b[49m\u001b[43minitial_state\u001b[49m\u001b[43m)\u001b[49m\n\u001b[32m      9\u001b[39m \u001b[38;5;28mprint\u001b[39m(tt)\n",
      "\u001b[31mArgumentError\u001b[39m: argument 1: TypeError: Don't know how to convert parameter 1"
     ]
    }
   ],
   "source": [
    "import numpy as np\n",
    "initial_state = np.zeros(n, dtype=bool)\n",
    "print(initial_state)\n",
    "\n",
    "import ctypes\n",
    "lib = ctypes.CDLL('./polylib.so')\n",
    "lib.get_truthtable.argtypes = [ctypes.POINTER(ctypes.c_int), ctypes.c_int, ctypes.c_int, ctypes.POINTER(ctypes.c_bool)]\n",
    "\n",
    "tt = lib.get_truthtable(terms, n, max_new_var, initial_state)\n",
    "print(tt)"
   ]
  },
  {
   "cell_type": "code",
   "execution_count": null,
   "metadata": {},
   "outputs": [
    {
     "name": "stdout",
     "output_type": "stream",
     "text": [
      "{0: array([1, 0, 1, 0, 0, 0, 0, 0]), 2: array([0, 0, 1, 0, 1, 0, 0, 0]), 1: array([1, 0, 1, 0, 0, 0, 0, 0]), 3: array([0, 0, 1, 0, 1, 0, 0, 0]), 4: array([0, 1, 0, 0, 0, 0, 0, 1]), 6: array([0, 0, 0, 0, 0, 1, 0, 1]), 5: array([0, 1, 0, 0, 0, 0, 0, 1]), 7: array([0, 1, 0, 1, 0, 0, 0, 0])}\n",
      "<class 'numpy.ndarray'>\n",
      "Statevector using BOOLEAN equation: \n",
      "|000> : 0.250000+0.250000j\n",
      "|001> : 0.250000+0.250000j\n",
      "|010> : -0.250000+0.250000j\n",
      "|011> : -0.250000+0.250000j\n",
      "|100> : 0.353553+0.000000j\n",
      "|101> : 0.353553+0.000000j\n",
      "|110> : 0.000000-0.353553j\n",
      "|111> : 0.000000+0.353553j\n"
     ]
    }
   ],
   "source": [
    "statevector = df.get_statevector(tt, n, max_new_var, ovs)\n",
    "print(type(statevector))\n",
    "print(\"Statevector using BOOLEAN equation: \")\n",
    "threshold = 1e-8\n",
    "for i, amp in enumerate(statevector):\n",
    "    if abs(amp) > threshold:\n",
    "        print(f\"|{i:0{n}b}> : {amp:.6f}\")"
   ]
  }
 ],
 "metadata": {
  "kernelspec": {
   "display_name": ".venv",
   "language": "python",
   "name": "python3"
  },
  "language_info": {
   "codemirror_mode": {
    "name": "ipython",
    "version": 3
   },
   "file_extension": ".py",
   "mimetype": "text/x-python",
   "name": "python",
   "nbconvert_exporter": "python",
   "pygments_lexer": "ipython3",
   "version": "3.12.7"
  }
 },
 "nbformat": 4,
 "nbformat_minor": 2
}

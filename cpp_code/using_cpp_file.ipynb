{
 "cells": [
  {
   "cell_type": "code",
   "execution_count": 1,
   "metadata": {},
   "outputs": [],
   "source": [
    "%load_ext autoreload\n",
    "%autoreload 2"
   ]
  },
  {
   "cell_type": "code",
   "execution_count": 2,
   "metadata": {},
   "outputs": [
    {
     "ename": "ModuleNotFoundError",
     "evalue": "No module named 'Dependencies.functions_listCpp'",
     "output_type": "error",
     "traceback": [
      "\u001b[0;31m---------------------------------------------------------------------------\u001b[0m",
      "\u001b[0;31mModuleNotFoundError\u001b[0m                       Traceback (most recent call last)",
      "Cell \u001b[0;32mIn[2], line 6\u001b[0m\n\u001b[1;32m      4\u001b[0m \u001b[38;5;28;01mfrom\u001b[39;00m\u001b[38;5;250m \u001b[39m\u001b[38;5;21;01mqiskit\u001b[39;00m\u001b[38;5;250m \u001b[39m\u001b[38;5;28;01mimport\u001b[39;00m QuantumCircuit\n\u001b[1;32m      5\u001b[0m \u001b[38;5;28;01mimport\u001b[39;00m\u001b[38;5;250m \u001b[39m\u001b[38;5;21;01mDependencies\u001b[39;00m\u001b[38;5;21;01m.\u001b[39;00m\u001b[38;5;21;01mfunctions_list\u001b[39;00m\u001b[38;5;250m \u001b[39m\u001b[38;5;28;01mas\u001b[39;00m\u001b[38;5;250m \u001b[39m\u001b[38;5;21;01mdf\u001b[39;00m\n\u001b[0;32m----> 6\u001b[0m \u001b[38;5;28;01mimport\u001b[39;00m\u001b[38;5;250m \u001b[39m\u001b[38;5;21;01mDependencies\u001b[39;00m\u001b[38;5;21;01m.\u001b[39;00m\u001b[38;5;21;01mfunctions_listCpp\u001b[39;00m\u001b[38;5;250m \u001b[39m\u001b[38;5;28;01mas\u001b[39;00m\u001b[38;5;250m \u001b[39m\u001b[38;5;21;01mdfcpp\u001b[39;00m\n",
      "\u001b[0;31mModuleNotFoundError\u001b[0m: No module named 'Dependencies.functions_listCpp'"
     ]
    }
   ],
   "source": [
    "import sys\n",
    "sys.path.append(\"..\")\n",
    "import numpy as np\n",
    "from qiskit import QuantumCircuit\n",
    "import Dependencies.functions_list as df\n",
    "import Dependencies.functions_listCpp as dfcpp"
   ]
  },
  {
   "cell_type": "code",
   "execution_count": null,
   "metadata": {},
   "outputs": [
    {
     "name": "stdout",
     "output_type": "stream",
     "text": [
      "     ┌───┐   ┌───┐             \n",
      "q_0: ┤ H ├─■─┤ T ├───────────■─\n",
      "     ├───┤ │ ├───┤┌───┐┌───┐ │ \n",
      "q_1: ┤ H ├─■─┤ S ├┤ H ├┤ Z ├─■─\n",
      "     ├───┤   └───┘└───┘└───┘ │ \n",
      "q_2: ┤ H ├───────────────────■─\n",
      "     └───┘                     \n"
     ]
    }
   ],
   "source": [
    "n = 3\n",
    "qc = QuantumCircuit(n)\n",
    "qc.h([0,1,2])\n",
    "qc.cz(0,1)\n",
    "qc.s(1)\n",
    "qc.h(1)\n",
    "# qc.s(0)\n",
    "qc.t(0)\n",
    "qc.z(1)\n",
    "qc.ccz(0,1,2)\n",
    "d = qc.depth()\n",
    "print(qc)"
   ]
  },
  {
   "cell_type": "code",
   "execution_count": null,
   "metadata": {},
   "outputs": [
    {
     "name": "stdout",
     "output_type": "stream",
     "text": [
      "[('h', [0]), ('h', [1]), ('h', [2]), ('cz', [0, 1]), ('s', [1]), ('h', [1]), ('t', [0]), ('z', [1]), ('ccz', [0, 1, 2])]\n"
     ]
    }
   ],
   "source": [
    "instructions = [(instruction.operation.name,\n",
    "                    [qc.find_bit(q).index for q in instruction.qubits]) \n",
    "                    for index, instruction in enumerate(qc.data)]\n",
    "print(instructions)"
   ]
  },
  {
   "cell_type": "code",
   "execution_count": null,
   "metadata": {},
   "outputs": [
    {
     "name": "stdout",
     "output_type": "stream",
     "text": [
      "Initial wire_array:  [[0], [1], [2]]\n",
      "[[4, [0, 3]], [4, [1, 4]], [4, [2, 5]], [4, [3, 4]], [2, [4]], [4, [4, 6]], [1, [3]], [4, [6]], [4, [3, 6, 5]]]\n",
      "[[0, 3], [1, 4, 6], [2, 5]]\n",
      "7\n",
      "[3, 6, 5]\n"
     ]
    }
   ],
   "source": [
    "terms, wire_array, max_new_var = df.create_poly(qc, n)\n",
    "print(terms)\n",
    "print(wire_array)\n",
    "print(max_new_var)\n",
    "ovs = [sub[-1] for sub in wire_array]\n",
    "print(ovs)"
   ]
  },
  {
   "cell_type": "code",
   "execution_count": null,
   "metadata": {},
   "outputs": [
    {
     "name": "stdout",
     "output_type": "stream",
     "text": [
      "[False False False]\n",
      "16\n",
      "[0 4 0 4 2 2 2 2 1 5 1 1 7 7 7 3]\n"
     ]
    }
   ],
   "source": [
    "initial_state = np.zeros(n, dtype=bool)\n",
    "print(initial_state)\n",
    "tt = df.get_truthtable(terms, n, max_new_var, initial_state)\n",
    "print(tt)"
   ]
  },
  {
   "cell_type": "code",
   "execution_count": null,
   "metadata": {},
   "outputs": [
    {
     "name": "stdout",
     "output_type": "stream",
     "text": [
      "{0: array([1, 0, 1, 0, 0, 0, 0, 0]), 2: array([0, 0, 1, 0, 1, 0, 0, 0]), 1: array([1, 0, 1, 0, 0, 0, 0, 0]), 3: array([0, 0, 1, 0, 1, 0, 0, 0]), 4: array([0, 1, 0, 0, 0, 0, 0, 1]), 6: array([0, 0, 0, 0, 0, 1, 0, 1]), 5: array([0, 1, 0, 0, 0, 0, 0, 1]), 7: array([0, 1, 0, 1, 0, 0, 0, 0])}\n",
      "<class 'numpy.ndarray'>\n",
      "Statevector using BOOLEAN equation: \n",
      "|000> : 0.250000+0.250000j\n",
      "|001> : 0.250000+0.250000j\n",
      "|010> : -0.250000+0.250000j\n",
      "|011> : -0.250000+0.250000j\n",
      "|100> : 0.353553+0.000000j\n",
      "|101> : 0.353553+0.000000j\n",
      "|110> : 0.000000-0.353553j\n",
      "|111> : 0.000000+0.353553j\n"
     ]
    }
   ],
   "source": [
    "statevector = df.get_statevector(tt, n, max_new_var, ovs)\n",
    "print(type(statevector))\n",
    "print(\"Statevector using BOOLEAN equation: \")\n",
    "threshold = 1e-8\n",
    "for i, amp in enumerate(statevector):\n",
    "    if abs(amp) > threshold:\n",
    "        print(f\"|{i:0{n}b}> : {amp:.6f}\")"
   ]
  }
 ],
 "metadata": {
  "kernelspec": {
   "display_name": "poly-env",
   "language": "python",
   "name": "python3"
  },
  "language_info": {
   "codemirror_mode": {
    "name": "ipython",
    "version": 3
   },
   "file_extension": ".py",
   "mimetype": "text/x-python",
   "name": "python",
   "nbconvert_exporter": "python",
   "pygments_lexer": "ipython3",
   "version": "3.10.12"
  }
 },
 "nbformat": 4,
 "nbformat_minor": 2
}

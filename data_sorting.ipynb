{
 "cells": [
  {
   "cell_type": "code",
   "execution_count": 30,
   "id": "460785ef",
   "metadata": {},
   "outputs": [],
   "source": [
    "import pandas as pd\n",
    "import csv\n"
   ]
  },
  {
   "cell_type": "code",
   "execution_count": 31,
   "id": "82351fb1",
   "metadata": {},
   "outputs": [
    {
     "data": {
      "text/html": [
       "<div>\n",
       "<style scoped>\n",
       "    .dataframe tbody tr th:only-of-type {\n",
       "        vertical-align: middle;\n",
       "    }\n",
       "\n",
       "    .dataframe tbody tr th {\n",
       "        vertical-align: top;\n",
       "    }\n",
       "\n",
       "    .dataframe thead th {\n",
       "        text-align: right;\n",
       "    }\n",
       "</style>\n",
       "<table border=\"1\" class=\"dataframe\">\n",
       "  <thead>\n",
       "    <tr style=\"text-align: right;\">\n",
       "      <th></th>\n",
       "      <th>n</th>\n",
       "      <th>h</th>\n",
       "      <th>d</th>\n",
       "      <th>g</th>\n",
       "      <th>t</th>\n",
       "      <th>h_prob</th>\n",
       "      <th>cpu_time_poly</th>\n",
       "      <th>wall_time_poly</th>\n",
       "      <th>cpu_time_ddsim</th>\n",
       "      <th>wall_time_ddsim</th>\n",
       "      <th>cpu_time_aer</th>\n",
       "      <th>wall_time_aer</th>\n",
       "    </tr>\n",
       "  </thead>\n",
       "  <tbody>\n",
       "    <tr>\n",
       "      <th>0</th>\n",
       "      <td>33</td>\n",
       "      <td>12</td>\n",
       "      <td>7</td>\n",
       "      <td>72</td>\n",
       "      <td>45</td>\n",
       "      <td>0.2</td>\n",
       "      <td>0.07</td>\n",
       "      <td>0.082700</td>\n",
       "      <td>-1</td>\n",
       "      <td>-1</td>\n",
       "      <td>-1</td>\n",
       "      <td>-1</td>\n",
       "    </tr>\n",
       "    <tr>\n",
       "      <th>1</th>\n",
       "      <td>33</td>\n",
       "      <td>13</td>\n",
       "      <td>7</td>\n",
       "      <td>49</td>\n",
       "      <td>46</td>\n",
       "      <td>0.2</td>\n",
       "      <td>0.10</td>\n",
       "      <td>0.099048</td>\n",
       "      <td>-1</td>\n",
       "      <td>-1</td>\n",
       "      <td>-1</td>\n",
       "      <td>-1</td>\n",
       "    </tr>\n",
       "    <tr>\n",
       "      <th>2</th>\n",
       "      <td>33</td>\n",
       "      <td>14</td>\n",
       "      <td>13</td>\n",
       "      <td>81</td>\n",
       "      <td>47</td>\n",
       "      <td>0.2</td>\n",
       "      <td>0.22</td>\n",
       "      <td>0.221046</td>\n",
       "      <td>-1</td>\n",
       "      <td>-1</td>\n",
       "      <td>-1</td>\n",
       "      <td>-1</td>\n",
       "    </tr>\n",
       "    <tr>\n",
       "      <th>3</th>\n",
       "      <td>33</td>\n",
       "      <td>15</td>\n",
       "      <td>11</td>\n",
       "      <td>89</td>\n",
       "      <td>48</td>\n",
       "      <td>0.2</td>\n",
       "      <td>0.62</td>\n",
       "      <td>0.617396</td>\n",
       "      <td>-1</td>\n",
       "      <td>-1</td>\n",
       "      <td>-1</td>\n",
       "      <td>-1</td>\n",
       "    </tr>\n",
       "    <tr>\n",
       "      <th>4</th>\n",
       "      <td>33</td>\n",
       "      <td>16</td>\n",
       "      <td>10</td>\n",
       "      <td>95</td>\n",
       "      <td>49</td>\n",
       "      <td>0.2</td>\n",
       "      <td>1.79</td>\n",
       "      <td>1.788158</td>\n",
       "      <td>-1</td>\n",
       "      <td>-1</td>\n",
       "      <td>-1</td>\n",
       "      <td>-1</td>\n",
       "    </tr>\n",
       "  </tbody>\n",
       "</table>\n",
       "</div>"
      ],
      "text/plain": [
       "   n             h       d     g     t     h_prob               \\\n",
       "0           33      12     7    72    45                   0.2   \n",
       "1           33      13     7    49    46                   0.2   \n",
       "2           33      14    13    81    47                   0.2   \n",
       "3           33      15    11    89    48                   0.2   \n",
       "4           33      16    10    95    49                   0.2   \n",
       "\n",
       "    cpu_time_poly   wall_time_poly   cpu_time_ddsim   wall_time_ddsim  \\\n",
       "0            0.07         0.082700               -1                -1   \n",
       "1            0.10         0.099048               -1                -1   \n",
       "2            0.22         0.221046               -1                -1   \n",
       "3            0.62         0.617396               -1                -1   \n",
       "4            1.79         1.788158               -1                -1   \n",
       "\n",
       "    cpu_time_aer   wall_time_aer  \n",
       "0             -1              -1  \n",
       "1             -1              -1  \n",
       "2             -1              -1  \n",
       "3             -1              -1  \n",
       "4             -1              -1  "
      ]
     },
     "execution_count": 31,
     "metadata": {},
     "output_type": "execute_result"
    }
   ],
   "source": [
    "data = pd.read_csv(\"./data_unsorted.csv\")\n",
    "data.head()"
   ]
  },
  {
   "cell_type": "code",
   "execution_count": 32,
   "id": "3a6f92e3",
   "metadata": {},
   "outputs": [
    {
     "data": {
      "text/plain": [
       "Index(['n', 'h', 'd', 'g', 't', 'h_prob', 'cpu_time_poly', 'wall_time_poly',\n",
       "       'cpu_time_ddsim', 'wall_time_ddsim', 'cpu_time_aer', 'wall_time_aer'],\n",
       "      dtype='object')"
      ]
     },
     "execution_count": 32,
     "metadata": {},
     "output_type": "execute_result"
    }
   ],
   "source": [
    "data.columns = data.columns.str.strip()\n",
    "data.columns"
   ]
  },
  {
   "cell_type": "code",
   "execution_count": 33,
   "id": "26bfbade",
   "metadata": {},
   "outputs": [],
   "source": [
    "# data['h'] = pd.to_numeric(data['h'], errors='coerce') # no need of this\n",
    "data.sort_values(by=['n', 'h'], axis=0, inplace=True)\n",
    "# data.head(40)\n"
   ]
  },
  {
   "cell_type": "code",
   "execution_count": 34,
   "id": "32dd338a",
   "metadata": {},
   "outputs": [],
   "source": [
    "data.to_csv('data_sorted.csv', index=False)"
   ]
  },
  {
   "cell_type": "code",
   "execution_count": null,
   "id": "e65c784d",
   "metadata": {},
   "outputs": [],
   "source": []
  },
  {
   "cell_type": "code",
   "execution_count": null,
   "id": "37eda51d",
   "metadata": {},
   "outputs": [],
   "source": []
  }
 ],
 "metadata": {
  "kernelspec": {
   "display_name": "poly-env",
   "language": "python",
   "name": "python3"
  },
  "language_info": {
   "codemirror_mode": {
    "name": "ipython",
    "version": 3
   },
   "file_extension": ".py",
   "mimetype": "text/x-python",
   "name": "python",
   "nbconvert_exporter": "python",
   "pygments_lexer": "ipython3",
   "version": "3.10.12"
  }
 },
 "nbformat": 4,
 "nbformat_minor": 5
}

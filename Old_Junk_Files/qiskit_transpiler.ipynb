{
 "cells": [
  {
   "cell_type": "markdown",
   "metadata": {},
   "source": [
    "### Qiskit Transpiler with Basis gate set\n",
    "The transpiler is given a basis gate set which we are using and asked to transpile a circuit into that basis gate set. It is able to transpile CX gate to H and CZ gate but not the CCX gate. "
   ]
  },
  {
   "cell_type": "code",
   "execution_count": 1,
   "metadata": {},
   "outputs": [],
   "source": [
    "from Dependencies.random_circuit_generator import *\n",
    "from qiskit import transpile"
   ]
  },
  {
   "cell_type": "code",
   "execution_count": 2,
   "metadata": {},
   "outputs": [],
   "source": [
    "from qiskit.transpiler.preset_passmanagers import generate_preset_pass_manager\n",
    "from qiskit.providers.fake_provider import GenericBackendV2\n",
    " \n",
    "backend = GenericBackendV2(num_qubits=8)\n",
    "basis_gates = [\"h\", \"z\", \"cz\", \"ccz\"]\n",
    "pass_manager = generate_preset_pass_manager(1, backend, basis_gates=basis_gates)"
   ]
  },
  {
   "cell_type": "code",
   "execution_count": 50,
   "metadata": {},
   "outputs": [
    {
     "name": "stdout",
     "output_type": "stream",
     "text": [
      "30\n",
      "OrderedDict([('h', 15), ('cz', 7), ('z', 5), ('ccz', 3)])\n"
     ]
    },
    {
     "data": {
      "text/html": [
       "<pre style=\"word-wrap: normal;white-space: pre;background: #fff0;line-height: 1.1;font-family: &quot;Courier New&quot;,Courier,monospace\">     ┌───┐┌───┐┌───┐           ┌───┐                                    \n",
       "q_0: ┤ H ├┤ H ├┤ H ├──────■──■─┤ Z ├───────■────■────────────■──────────\n",
       "     ├───┤└───┘└───┘      │  │ └───┘       │    │            │          \n",
       "q_1: ┤ H ├──■────■────────┼──┼─────────────┼────┼────────────┼────────■─\n",
       "     └───┘  │    │        │  │             │    │            │  ┌───┐ │ \n",
       "q_2: ───────┼────┼────────┼──┼─────────────┼────┼────────■───■──┤ H ├─┼─\n",
       "            │    │  ┌───┐ │  │             │    │        │      └───┘ │ \n",
       "q_3: ───────■────┼──┤ H ├─┼──┼─────────────┼────┼────────┼────────────┼─\n",
       "            │    │  └───┘ │  │ ┌───┐       │    │        │            │ \n",
       "q_4: ───────┼────┼────────■──┼─┤ H ├──■────┼────┼────────┼────────────┼─\n",
       "     ┌───┐  │    │        │  │ └───┘  │    │    │  ┌───┐ │            │ \n",
       "q_5: ┤ H ├──■────┼────────┼──┼────────┼────┼────■──┤ H ├─┼────────────┼─\n",
       "     └───┘       │        │  │        │    │  ┌───┐├───┤ │            │ \n",
       "q_6: ────────────┼────────┼──┼────────┼────■──┤ Z ├┤ Z ├─■────────────┼─\n",
       "     ┌───┐       │        │  │        │       └───┘└───┘ │ ┌───┐      │ \n",
       "q_7: ┤ H ├───────┼────────┼──┼────────┼──────────────────■─┤ H ├──────■─\n",
       "     └───┘       │  ┌───┐ │  │ ┌───┐  │                    └───┘        \n",
       "q_8: ────────────■──┤ Z ├─┼──┼─┤ Z ├──■─────────────────────────────────\n",
       "                    └───┘ │  │ ├───┤┌───┐┌───┐┌───┐                     \n",
       "q_9: ─────────────────────■──■─┤ H ├┤ H ├┤ H ├┤ H ├─────────────────────\n",
       "                               └───┘└───┘└───┘└───┘                     </pre>"
      ],
      "text/plain": [
       "     ┌───┐┌───┐┌───┐           ┌───┐                                    \n",
       "q_0: ┤ H ├┤ H ├┤ H ├──────■──■─┤ Z ├───────■────■────────────■──────────\n",
       "     ├───┤└───┘└───┘      │  │ └───┘       │    │            │          \n",
       "q_1: ┤ H ├──■────■────────┼──┼─────────────┼────┼────────────┼────────■─\n",
       "     └───┘  │    │        │  │             │    │            │  ┌───┐ │ \n",
       "q_2: ───────┼────┼────────┼──┼─────────────┼────┼────────■───■──┤ H ├─┼─\n",
       "            │    │  ┌───┐ │  │             │    │        │      └───┘ │ \n",
       "q_3: ───────■────┼──┤ H ├─┼──┼─────────────┼────┼────────┼────────────┼─\n",
       "            │    │  └───┘ │  │ ┌───┐       │    │        │            │ \n",
       "q_4: ───────┼────┼────────■──┼─┤ H ├──■────┼────┼────────┼────────────┼─\n",
       "     ┌───┐  │    │        │  │ └───┘  │    │    │  ┌───┐ │            │ \n",
       "q_5: ┤ H ├──■────┼────────┼──┼────────┼────┼────■──┤ H ├─┼────────────┼─\n",
       "     └───┘       │        │  │        │    │  ┌───┐├───┤ │            │ \n",
       "q_6: ────────────┼────────┼──┼────────┼────■──┤ Z ├┤ Z ├─■────────────┼─\n",
       "     ┌───┐       │        │  │        │       └───┘└───┘ │ ┌───┐      │ \n",
       "q_7: ┤ H ├───────┼────────┼──┼────────┼──────────────────■─┤ H ├──────■─\n",
       "     └───┘       │  ┌───┐ │  │ ┌───┐  │                    └───┘        \n",
       "q_8: ────────────■──┤ Z ├─┼──┼─┤ Z ├──■─────────────────────────────────\n",
       "                    └───┘ │  │ ├───┤┌───┐┌───┐┌───┐                     \n",
       "q_9: ─────────────────────■──■─┤ H ├┤ H ├┤ H ├┤ H ├─────────────────────\n",
       "                               └───┘└───┘└───┘└───┘                     "
      ]
     },
     "execution_count": 50,
     "metadata": {},
     "output_type": "execute_result"
    }
   ],
   "source": [
    "qc, qr = random_circ_h_const(10, 15, 0.5)\n",
    "for instruction in qc.data:\n",
    "    if instruction.operation.name=='barrier':\n",
    "        qc.data.remove(instruction)\n",
    "print(gate_counts(qc))\n",
    "print(qc.count_ops())\n",
    "qc.draw(fold=-1)"
   ]
  },
  {
   "cell_type": "code",
   "execution_count": 51,
   "metadata": {},
   "outputs": [
    {
     "name": "stdout",
     "output_type": "stream",
     "text": [
      "23\n",
      "OrderedDict([('h', 11), ('cz', 8), ('ccz', 3), ('z', 1)])\n"
     ]
    },
    {
     "data": {
      "text/html": [
       "<pre style=\"word-wrap: normal;white-space: pre;background: #fff0;line-height: 1.1;font-family: &quot;Courier New&quot;,Courier,monospace\">     ┌───┐                 ┌───┐                                   \n",
       "q_0: ┤ H ├────■──────────■─┤ Z ├─■──■──────■────────────────■──────\n",
       "     ├───┤    │          │ └───┘ │  │      │          ┌───┐ │ ┌───┐\n",
       "q_1: ┤ H ├─■──┼───────■──┼───────┼──┼──────┼────────■─┤ H ├─■─┤ H ├\n",
       "     └───┘ │  │       │  │       │  │      │  ┌───┐ │ └───┘   └───┘\n",
       "q_2: ──────┼──┼───────┼──┼───────┼──┼──■───■──┤ H ├─┼──────────────\n",
       "           │  │ ┌───┐ │  │       │  │  │      └───┘ │              \n",
       "q_3: ──────■──┼─┤ H ├─┼──┼───────┼──┼──┼────────────┼──────────────\n",
       "           │  │ ├───┤ │  │       │  │  │            │              \n",
       "q_4: ──────┼──■─┤ H ├─┼──┼───■───┼──┼──┼────────────┼──────────────\n",
       "     ┌───┐ │  │ └───┘ │  │   │   │  │  │ ┌───┐      │              \n",
       "q_5: ┤ H ├─■──┼───────┼──┼───┼───┼──■──┼─┤ H ├──────┼──────────────\n",
       "     └───┘    │       │  │   │   │     │ └───┘      │              \n",
       "q_6: ─────────┼───────┼──┼───┼───■─────■────────────┼──────────────\n",
       "     ┌───┐    │       │  │   │         │ ┌───┐      │              \n",
       "q_7: ┤ H ├────┼───────┼──┼───┼─────────■─┤ H ├──────■──────────────\n",
       "     └───┘    │       │  │   │           └───┘                     \n",
       "q_8: ─────────┼───────■──┼───■─────────────────────────────────────\n",
       "              │          │                                         \n",
       "q_9: ─────────■──────────■─────────────────────────────────────────\n",
       "                                                                   </pre>"
      ],
      "text/plain": [
       "     ┌───┐                 ┌───┐                                   \n",
       "q_0: ┤ H ├────■──────────■─┤ Z ├─■──■──────■────────────────■──────\n",
       "     ├───┤    │          │ └───┘ │  │      │          ┌───┐ │ ┌───┐\n",
       "q_1: ┤ H ├─■──┼───────■──┼───────┼──┼──────┼────────■─┤ H ├─■─┤ H ├\n",
       "     └───┘ │  │       │  │       │  │      │  ┌───┐ │ └───┘   └───┘\n",
       "q_2: ──────┼──┼───────┼──┼───────┼──┼──■───■──┤ H ├─┼──────────────\n",
       "           │  │ ┌───┐ │  │       │  │  │      └───┘ │              \n",
       "q_3: ──────■──┼─┤ H ├─┼──┼───────┼──┼──┼────────────┼──────────────\n",
       "           │  │ ├───┤ │  │       │  │  │            │              \n",
       "q_4: ──────┼──■─┤ H ├─┼──┼───■───┼──┼──┼────────────┼──────────────\n",
       "     ┌───┐ │  │ └───┘ │  │   │   │  │  │ ┌───┐      │              \n",
       "q_5: ┤ H ├─■──┼───────┼──┼───┼───┼──■──┼─┤ H ├──────┼──────────────\n",
       "     └───┘    │       │  │   │   │     │ └───┘      │              \n",
       "q_6: ─────────┼───────┼──┼───┼───■─────■────────────┼──────────────\n",
       "     ┌───┐    │       │  │   │         │ ┌───┐      │              \n",
       "q_7: ┤ H ├────┼───────┼──┼───┼─────────■─┤ H ├──────■──────────────\n",
       "     └───┘    │       │  │   │           └───┘                     \n",
       "q_8: ─────────┼───────■──┼───■─────────────────────────────────────\n",
       "              │          │                                         \n",
       "q_9: ─────────■──────────■─────────────────────────────────────────\n",
       "                                                                   "
      ]
     },
     "execution_count": 51,
     "metadata": {},
     "output_type": "execute_result"
    }
   ],
   "source": [
    "qc.cx(0,1)\n",
    "qc_tran = transpile(qc, basis_gates=basis_gates)\n",
    "print(gate_counts(qc_tran))\n",
    "print(qc_tran.count_ops())\n",
    "qc_tran.draw(fold=-1)"
   ]
  },
  {
   "cell_type": "code",
   "execution_count": 6,
   "metadata": {},
   "outputs": [
    {
     "name": "stdout",
     "output_type": "stream",
     "text": [
      "['h', 'ccz', 'cz', 'z', 'z', 'z', 'cz', 'cz', 'z', 'cz', 'h', 'cz', 'cz', 'h', 'z', 'ccz', 'h', 'z', 'z', 'z', 'z', 'h', 'cz', 'h', 'ccz', 'h', 'h', 'z', 'h', 'h']\n"
     ]
    }
   ],
   "source": [
    "print([instruction.operation.name for instruction in qc.data])"
   ]
  },
  {
   "cell_type": "code",
   "execution_count": null,
   "metadata": {},
   "outputs": [],
   "source": []
  }
 ],
 "metadata": {
  "kernelspec": {
   "display_name": "Python 3",
   "language": "python",
   "name": "python3"
  },
  "language_info": {
   "codemirror_mode": {
    "name": "ipython",
    "version": 3
   },
   "file_extension": ".py",
   "mimetype": "text/x-python",
   "name": "python",
   "nbconvert_exporter": "python",
   "pygments_lexer": "ipython3",
   "version": "3.11.9"
  }
 },
 "nbformat": 4,
 "nbformat_minor": 2
}

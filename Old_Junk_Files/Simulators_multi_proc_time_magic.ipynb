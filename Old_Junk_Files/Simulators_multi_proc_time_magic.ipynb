{
 "cells": [
  {
   "cell_type": "markdown",
   "id": "05e9ea12",
   "metadata": {},
   "source": [
    "### Trying Different Simulators, Multi Processing, Time Magic Methods"
   ]
  },
  {
   "cell_type": "code",
   "execution_count": 1,
   "id": "7fb8436a-20be-43eb-943a-71245c3e1e2e",
   "metadata": {
    "tags": []
   },
   "outputs": [],
   "source": [
    "from qiskit import *\n",
    "from random import * "
   ]
  },
  {
   "cell_type": "code",
   "execution_count": 17,
   "id": "5bdaad38",
   "metadata": {},
   "outputs": [],
   "source": [
    "import sys\n",
    "sys.path.append(\"..\")\n",
    "from Dependencies.random_circuit_generator import *"
   ]
  },
  {
   "cell_type": "code",
   "execution_count": 5,
   "id": "d346cc7a-457f-4fd8-80cd-65c1f037c2d1",
   "metadata": {
    "tags": []
   },
   "outputs": [],
   "source": [
    "n = 10\n",
    "d = 10\n",
    "qc_, qr_ = random_circ_d_const(n, d)\n",
    "qc_.measure_all()"
   ]
  },
  {
   "cell_type": "code",
   "execution_count": 6,
   "id": "a8b963dc-6c11-4900-978c-4919e6aa2304",
   "metadata": {
    "tags": []
   },
   "outputs": [
    {
     "name": "stdout",
     "output_type": "stream",
     "text": [
      "11\n",
      "Total number of gate: \n"
     ]
    },
    {
     "data": {
      "text/plain": [
       "69"
      ]
     },
     "execution_count": 6,
     "metadata": {},
     "output_type": "execute_result"
    }
   ],
   "source": [
    "print(qc_.depth())\n",
    "print(\"Total number of gate: \")\n",
    "gate_counts(qc_)"
   ]
  },
  {
   "cell_type": "markdown",
   "id": "ac29d44c",
   "metadata": {},
   "source": [
    "## Trying DDSIM simulator"
   ]
  },
  {
   "cell_type": "code",
   "execution_count": 8,
   "id": "efc86d60",
   "metadata": {},
   "outputs": [],
   "source": [
    "from mqt import ddsim"
   ]
  },
  {
   "cell_type": "code",
   "execution_count": 10,
   "id": "9f2feea0",
   "metadata": {},
   "outputs": [
    {
     "name": "stdout",
     "output_type": "stream",
     "text": [
      "CPU times: total: 15.6 ms\n",
      "Wall time: 17.8 ms\n"
     ]
    },
    {
     "name": "stderr",
     "output_type": "stream",
     "text": [
      "<timed exec>:1: DeprecationWarning: The class ``qiskit.providers.provider.Provider`` is deprecated as of qiskit 1.1. It will be removed no earlier than 3 months after the release date. The abstract Provider and ProviderV1 classes are deprecated and will be removed in 2.0. You can just remove it as the parent class and a `get_backend` method that returns the backends from `self.backend`.\n"
     ]
    }
   ],
   "source": [
    "%%time \n",
    "backend = ddsim.DDSIMProvider().get_backend(\"qasm_simulator\")\n",
    "\n",
    "job = backend.run(qc_, shots=10)\n",
    "counts = job.result().get_counts(qc_)\n",
    "# print(counts)"
   ]
  },
  {
   "cell_type": "code",
   "execution_count": 11,
   "id": "f9d8c2b4",
   "metadata": {},
   "outputs": [
    {
     "name": "stdout",
     "output_type": "stream",
     "text": [
      "[0.1767767+0.j 0.1767767+0.j 0.       +0.j ... 0.       +0.j 0.       +0.j\n",
      " 0.       +0.j]\n",
      "CPU times: total: 15.6 ms\n",
      "Wall time: 23.1 ms\n"
     ]
    },
    {
     "name": "stderr",
     "output_type": "stream",
     "text": [
      "<timed exec>:1: DeprecationWarning: The class ``qiskit.providers.provider.Provider`` is deprecated as of qiskit 1.1. It will be removed no earlier than 3 months after the release date. The abstract Provider and ProviderV1 classes are deprecated and will be removed in 2.0. You can just remove it as the parent class and a `get_backend` method that returns the backends from `self.backend`.\n"
     ]
    }
   ],
   "source": [
    "%%time \n",
    "backend = ddsim.DDSIMProvider().get_backend(\"statevector_simulator\")\n",
    "job = backend.run(qc_)\n",
    "result = job.result()\n",
    "print(result.get_statevector())"
   ]
  },
  {
   "cell_type": "code",
   "execution_count": 12,
   "id": "48ba295f",
   "metadata": {},
   "outputs": [
    {
     "name": "stdout",
     "output_type": "stream",
     "text": [
      "<mqt.ddsim.qasmsimulator.QasmSimulatorBackend object at 0x000002073F01B7D0>\n",
      "<mqt.ddsim.statevectorsimulator.StatevectorSimulatorBackend object at 0x000002073F07B850>\n",
      "<mqt.ddsim.hybridqasmsimulator.HybridQasmSimulatorBackend object at 0x000002073F0781D0>\n",
      "<mqt.ddsim.hybridstatevectorsimulator.HybridStatevectorSimulatorBackend object at 0x000002073F087050>\n",
      "<mqt.ddsim.pathqasmsimulator.PathQasmSimulatorBackend object at 0x000002073F096210>\n",
      "<mqt.ddsim.pathstatevectorsimulator.PathStatevectorSimulatorBackend object at 0x000002073F0A4190>\n",
      "<mqt.ddsim.unitarysimulator.UnitarySimulatorBackend object at 0x000002073F0A6250>\n",
      "<mqt.ddsim.stochasticnoisesimulator.StochasticNoiseSimulatorBackend object at 0x000002073F0B4250>\n",
      "<mqt.ddsim.deterministicnoisesimulator.DeterministicNoiseSimulatorBackend object at 0x000002073E2CC950>\n"
     ]
    },
    {
     "name": "stderr",
     "output_type": "stream",
     "text": [
      "C:\\Users\\isams\\AppData\\Local\\Temp\\ipykernel_7672\\4011900872.py:1: DeprecationWarning: The class ``qiskit.providers.provider.Provider`` is deprecated as of qiskit 1.1. It will be removed no earlier than 3 months after the release date. The abstract Provider and ProviderV1 classes are deprecated and will be removed in 2.0. You can just remove it as the parent class and a `get_backend` method that returns the backends from `self.backend`.\n",
      "  provider = ddsim.DDSIMProvider()\n"
     ]
    }
   ],
   "source": [
    "provider = ddsim.DDSIMProvider()\n",
    "available_backends = [str(b) for b in provider.backends()]\n",
    "print(*available_backends, sep=\"\\n\")"
   ]
  },
  {
   "cell_type": "code",
   "execution_count": null,
   "id": "26233ac5",
   "metadata": {},
   "outputs": [],
   "source": [
    "# Actual names of backends\n",
    "# ['qasm_simulator', 'statevector_simulator', 'hybrid_qasm_simulator', 'hybrid_statevector_simulator', 'path_sim_qasm_simulator', 'path_sim_statevector_simulator', 'unitary_simulator']\n"
   ]
  },
  {
   "cell_type": "code",
   "execution_count": null,
   "id": "c4813e64",
   "metadata": {},
   "outputs": [],
   "source": []
  },
  {
   "cell_type": "markdown",
   "id": "9ee843ec",
   "metadata": {},
   "source": [
    "### Using Qiskit Random Circuit instead of ours on DDSIM"
   ]
  },
  {
   "cell_type": "code",
   "execution_count": 14,
   "id": "3a845b6d",
   "metadata": {},
   "outputs": [],
   "source": [
    "from qiskit.circuit.random import random_circuit"
   ]
  },
  {
   "cell_type": "code",
   "execution_count": 27,
   "id": "970fb91f",
   "metadata": {},
   "outputs": [
    {
     "data": {
      "text/html": [
       "<pre style=\"word-wrap: normal;white-space: pre;background: #fff0;line-height: 1.1;font-family: &quot;Courier New&quot;,Courier,monospace\">          ┌───┐       ┌──────────┐            ┌───┐            ┌────────────────────────┐       ┌─────────────────────────┐\n",
       "q_0: ─────┤ I ├───────┤ P(3.498) ├────────────┤ Y ├────────────┤0                       ├───────┤0                        ├\n",
       "     ┌────┴───┴─────┐┌┴──────────┴┐           └─┬─┘            │                        │┌─────┐│  (XX+YY)(4.9737,3.8414) │\n",
       "q_1: ┤0             ├┤ Rz(1.6181) ├─────────────■──────────────┤  (XX-YY)(1.8907,1.959) ├┤ Tdg ├┤1                        ├\n",
       "     │  Rzx(1.1239) │└─────┬──────┘┌──────────────────────────┐│                        │└┬───┬┘└─────────────────────────┘\n",
       "q_2: ┤1             ├──────■───────┤ U(4.2577,0.34987,2.2288) ├┤1                       ├─┤ I ├────────────────────────────\n",
       "     └──────────────┘              └──────────────────────────┘└────────────────────────┘ └───┘                            </pre>"
      ],
      "text/plain": [
       "          ┌───┐       ┌──────────┐            ┌───┐            ┌────────────────────────┐       ┌─────────────────────────┐\n",
       "q_0: ─────┤ I ├───────┤ P(3.498) ├────────────┤ Y ├────────────┤0                       ├───────┤0                        ├\n",
       "     ┌────┴───┴─────┐┌┴──────────┴┐           └─┬─┘            │                        │┌─────┐│  (XX+YY)(4.9737,3.8414) │\n",
       "q_1: ┤0             ├┤ Rz(1.6181) ├─────────────■──────────────┤  (XX-YY)(1.8907,1.959) ├┤ Tdg ├┤1                        ├\n",
       "     │  Rzx(1.1239) │└─────┬──────┘┌──────────────────────────┐│                        │└┬───┬┘└─────────────────────────┘\n",
       "q_2: ┤1             ├──────■───────┤ U(4.2577,0.34987,2.2288) ├┤1                       ├─┤ I ├────────────────────────────\n",
       "     └──────────────┘              └──────────────────────────┘└────────────────────────┘ └───┘                            "
      ]
     },
     "execution_count": 27,
     "metadata": {},
     "output_type": "execute_result"
    }
   ],
   "source": [
    "circ = random_circuit(3,5)\n",
    "circ.draw(fold=-1)"
   ]
  },
  {
   "cell_type": "code",
   "execution_count": 28,
   "id": "28913231",
   "metadata": {},
   "outputs": [
    {
     "data": {
      "text/plain": [
       "10"
      ]
     },
     "execution_count": 28,
     "metadata": {},
     "output_type": "execute_result"
    }
   ],
   "source": [
    "gate_counts(circ)"
   ]
  },
  {
   "cell_type": "code",
   "execution_count": 29,
   "id": "a5ffe065",
   "metadata": {},
   "outputs": [],
   "source": [
    "from mqt import ddsim"
   ]
  },
  {
   "cell_type": "code",
   "execution_count": 31,
   "id": "0a25c27e",
   "metadata": {},
   "outputs": [
    {
     "name": "stdout",
     "output_type": "stream",
     "text": [
      "{'0': 268, '100': 205, '101': 333, '110': 194}\n",
      "CPU times: total: 15.6 ms\n",
      "Wall time: 16.2 ms\n"
     ]
    },
    {
     "name": "stderr",
     "output_type": "stream",
     "text": [
      "<timed exec>:1: DeprecationWarning: The class ``qiskit.providers.provider.Provider`` is deprecated as of qiskit 1.1. It will be removed no earlier than 3 months after the release date. The abstract Provider and ProviderV1 classes are deprecated and will be removed in 2.0. You can just remove it as the parent class and a `get_backend` method that returns the backends from `self.backend`.\n"
     ]
    }
   ],
   "source": [
    "%%time\n",
    "backend = ddsim.DDSIMProvider().get_backend(\"qasm_simulator\")\n",
    "\n",
    "job = backend.run(circ, shots=1000)\n",
    "counts = job.result().get_counts(circ)\n",
    "print(counts)"
   ]
  },
  {
   "cell_type": "code",
   "execution_count": null,
   "id": "865ef39c",
   "metadata": {},
   "outputs": [],
   "source": []
  },
  {
   "cell_type": "markdown",
   "id": "0158becf",
   "metadata": {},
   "source": [
    "## Using Qiskit-Aer Simulators"
   ]
  },
  {
   "cell_type": "code",
   "execution_count": null,
   "id": "ba0376f1",
   "metadata": {},
   "outputs": [],
   "source": [
    "\"\"\"\n",
    "# Simulating using sampler\n",
    "from qiskit_aer.primitives import SamplerV2\n",
    "from qiskit_aer import AerSimulator\n",
    "\n",
    "sim = AerSimulator()\n",
    "\n",
    "qc_.measure_all()\n",
    "qc_qiskit_transpiled = transpile(qc_, sim, optimization_level=2)\n",
    "# initialization of the sampler\n",
    "sampler = SamplerV2()\n",
    "\n",
    "# collect 128 shots from the Bell circuit\n",
    "job = sampler.run([qc_qiskit_transpiled], shots=128)\n",
    "job_result = job.result()\n",
    "# print(job_result)\n",
    "# print(f\"counts for circuit : {job_result[0].data.meas.get_counts()}\")\n",
    "\"\"\""
   ]
  },
  {
   "cell_type": "code",
   "execution_count": 32,
   "id": "2beb32c3",
   "metadata": {},
   "outputs": [],
   "source": [
    "from qiskit_aer import AerSimulator"
   ]
  },
  {
   "cell_type": "code",
   "execution_count": 34,
   "id": "e2ef6eef",
   "metadata": {},
   "outputs": [
    {
     "name": "stdout",
     "output_type": "stream",
     "text": [
      "{'1100001000': 28, '0100011001': 32, '0000000011': 117, '0000011011': 125, '1100001001': 30, '0100011000': 39, '1000001000': 43, '0000011001': 35, '0000000001': 20, '0100000000': 24, '1100001011': 137, '1100010011': 131, '0000000000': 23, '0100000001': 36, '1100010001': 36, '0000011000': 35, '1000001001': 35, '1100010000': 27, '1000010000': 32, '1000010001': 39}\n",
      "CPU times: total: 93.8 ms\n",
      "Wall time: 50.2 ms\n"
     ]
    }
   ],
   "source": [
    "%%time\n",
    "# Transpile for simulator\n",
    "simulator = AerSimulator(method='automatic')\n",
    "qc_qiskit_transpiled = transpile(qc_, simulator)\n",
    "\n",
    "# Run and get counts\n",
    "result = simulator.run(qc_qiskit_transpiled, shots=1024).result()\n",
    "counts = result.get_counts(qc_qiskit_transpiled)\n",
    "# plot_histogram(counts, title='Bell-State counts')\n",
    "print(counts)"
   ]
  },
  {
   "cell_type": "code",
   "execution_count": 35,
   "id": "684f1448",
   "metadata": {},
   "outputs": [
    {
     "name": "stdout",
     "output_type": "stream",
     "text": [
      "Statevector([ 0.+0.j,  0.+0.j,  0.+0.j, ...,  0.+0.j, -0.+0.j, -0.+0.j],\n",
      "            dims=(2, 2, 2, 2, 2, 2, 2, 2, 2, 2))\n",
      "{'1100010000': 1}\n"
     ]
    }
   ],
   "source": [
    "from qiskit_aer import StatevectorSimulator\n",
    "backend = StatevectorSimulator()\n",
    "res = backend.run(qc_).result()\n",
    "print(res.get_statevector())\n",
    "print(res.get_counts())"
   ]
  },
  {
   "cell_type": "markdown",
   "id": "fcc8acd0",
   "metadata": {},
   "source": [
    "## Using Qibo Simulator"
   ]
  },
  {
   "cell_type": "code",
   "execution_count": 41,
   "id": "36951b52",
   "metadata": {},
   "outputs": [],
   "source": [
    "# qiskit circuit to qasm3 \n",
    "import qiskit.qasm2\n",
    "qc_qasm = qiskit.qasm2.dumps(qc_)"
   ]
  },
  {
   "cell_type": "code",
   "execution_count": 42,
   "id": "604bcf67",
   "metadata": {},
   "outputs": [],
   "source": [
    "# print(qc_qasm)"
   ]
  },
  {
   "cell_type": "code",
   "execution_count": 43,
   "id": "79cf65a4",
   "metadata": {},
   "outputs": [
    {
     "name": "stderr",
     "output_type": "stream",
     "text": [
      "[Qibo 0.2.9|ERROR|2025-02-05 19:43:56]: Unsupported <class 'openqasm3.ast.QuantumBarrier'> statement.\n"
     ]
    },
    {
     "ename": "RuntimeError",
     "evalue": "Unsupported <class 'openqasm3.ast.QuantumBarrier'> statement.",
     "output_type": "error",
     "traceback": [
      "\u001b[1;31m---------------------------------------------------------------------------\u001b[0m",
      "\u001b[1;31mRuntimeError\u001b[0m                              Traceback (most recent call last)",
      "Cell \u001b[1;32mIn[43], line 3\u001b[0m\n\u001b[0;32m      1\u001b[0m \u001b[38;5;66;03m# qasm3 to qibo circuit\u001b[39;00m\n\u001b[0;32m      2\u001b[0m \u001b[38;5;28;01mfrom\u001b[39;00m \u001b[38;5;21;01mqibo\u001b[39;00m \u001b[38;5;28;01mimport\u001b[39;00m models\n\u001b[1;32m----> 3\u001b[0m qc_qibo \u001b[38;5;241m=\u001b[39m \u001b[43mmodels\u001b[49m\u001b[38;5;241;43m.\u001b[39;49m\u001b[43mCircuit\u001b[49m\u001b[38;5;241;43m.\u001b[39;49m\u001b[43mfrom_qasm\u001b[49m\u001b[43m(\u001b[49m\u001b[43mqc_qasm\u001b[49m\u001b[43m)\u001b[49m\n",
      "File \u001b[1;32m~\\AppData\\Local\\Packages\\PythonSoftwareFoundation.Python.3.11_qbz5n2kfra8p0\\LocalCache\\local-packages\\Python311\\site-packages\\qibo\\models\\circuit.py:1225\u001b[0m, in \u001b[0;36mCircuit.from_qasm\u001b[1;34m(cls, qasm_code, accelerators, density_matrix)\u001b[0m\n\u001b[0;32m   1197\u001b[0m \u001b[38;5;250m\u001b[39m\u001b[38;5;124;03m\"\"\"Constructs a circuit from QASM code.\u001b[39;00m\n\u001b[0;32m   1198\u001b[0m \n\u001b[0;32m   1199\u001b[0m \u001b[38;5;124;03mArgs:\u001b[39;00m\n\u001b[1;32m   (...)\u001b[0m\n\u001b[0;32m   1222\u001b[0m \u001b[38;5;124;03m        c2.add(gates.CNOT(0, 1))\u001b[39;00m\n\u001b[0;32m   1223\u001b[0m \u001b[38;5;124;03m\"\"\"\u001b[39;00m\n\u001b[0;32m   1224\u001b[0m parser \u001b[38;5;241m=\u001b[39m QASMParser()\n\u001b[1;32m-> 1225\u001b[0m \u001b[38;5;28;01mreturn\u001b[39;00m \u001b[43mparser\u001b[49m\u001b[38;5;241;43m.\u001b[39;49m\u001b[43mto_circuit\u001b[49m\u001b[43m(\u001b[49m\u001b[43mqasm_code\u001b[49m\u001b[43m,\u001b[49m\u001b[43m \u001b[49m\u001b[43maccelerators\u001b[49m\u001b[43m,\u001b[49m\u001b[43m \u001b[49m\u001b[43mdensity_matrix\u001b[49m\u001b[43m)\u001b[49m\n",
      "File \u001b[1;32m~\\AppData\\Local\\Packages\\PythonSoftwareFoundation.Python.3.11_qbz5n2kfra8p0\\LocalCache\\local-packages\\Python311\\site-packages\\qibo\\models\\_openqasm.py:166\u001b[0m, in \u001b[0;36mQASMParser.to_circuit\u001b[1;34m(self, qasm_string, accelerators, density_matrix)\u001b[0m\n\u001b[0;32m    164\u001b[0m         \u001b[38;5;28mself\u001b[39m\u001b[38;5;241m.\u001b[39mc_registers\u001b[38;5;241m.\u001b[39mupdate({name: \u001b[38;5;28mlist\u001b[39m(\u001b[38;5;28mrange\u001b[39m(size))})\n\u001b[0;32m    165\u001b[0m     \u001b[38;5;28;01melse\u001b[39;00m:\n\u001b[1;32m--> 166\u001b[0m         \u001b[43mraise_error\u001b[49m\u001b[43m(\u001b[49m\u001b[38;5;167;43;01mRuntimeError\u001b[39;49;00m\u001b[43m,\u001b[49m\u001b[43m \u001b[49m\u001b[38;5;124;43mf\u001b[39;49m\u001b[38;5;124;43m\"\u001b[39;49m\u001b[38;5;124;43mUnsupported \u001b[39;49m\u001b[38;5;132;43;01m{\u001b[39;49;00m\u001b[38;5;28;43mtype\u001b[39;49m\u001b[43m(\u001b[49m\u001b[43mstatement\u001b[49m\u001b[43m)\u001b[49m\u001b[38;5;132;43;01m}\u001b[39;49;00m\u001b[38;5;124;43m statement.\u001b[39;49m\u001b[38;5;124;43m\"\u001b[39;49m\u001b[43m)\u001b[49m\n\u001b[0;32m    167\u001b[0m circ \u001b[38;5;241m=\u001b[39m qibo\u001b[38;5;241m.\u001b[39mCircuit(\n\u001b[0;32m    168\u001b[0m     nqubits,\n\u001b[0;32m    169\u001b[0m     accelerators,\n\u001b[0;32m    170\u001b[0m     density_matrix,\n\u001b[0;32m    171\u001b[0m     wire_names\u001b[38;5;241m=\u001b[39m\u001b[38;5;28mself\u001b[39m\u001b[38;5;241m.\u001b[39m_construct_wire_names(),\n\u001b[0;32m    172\u001b[0m )\n\u001b[0;32m    173\u001b[0m circ\u001b[38;5;241m.\u001b[39madd(\u001b[38;5;28mself\u001b[39m\u001b[38;5;241m.\u001b[39m_merge_measurements(gates))\n",
      "File \u001b[1;32m~\\AppData\\Local\\Packages\\PythonSoftwareFoundation.Python.3.11_qbz5n2kfra8p0\\LocalCache\\local-packages\\Python311\\site-packages\\qibo\\config.py:46\u001b[0m, in \u001b[0;36mraise_error\u001b[1;34m(exception, message)\u001b[0m\n\u001b[0;32m     39\u001b[0m \u001b[38;5;250m\u001b[39m\u001b[38;5;124;03m\"\"\"Raise exception with logging error.\u001b[39;00m\n\u001b[0;32m     40\u001b[0m \n\u001b[0;32m     41\u001b[0m \u001b[38;5;124;03mArgs:\u001b[39;00m\n\u001b[0;32m     42\u001b[0m \u001b[38;5;124;03m    exception (Exception): python exception.\u001b[39;00m\n\u001b[0;32m     43\u001b[0m \u001b[38;5;124;03m    message (str): the error message.\u001b[39;00m\n\u001b[0;32m     44\u001b[0m \u001b[38;5;124;03m\"\"\"\u001b[39;00m\n\u001b[0;32m     45\u001b[0m log\u001b[38;5;241m.\u001b[39merror(message)\n\u001b[1;32m---> 46\u001b[0m \u001b[38;5;28;01mraise\u001b[39;00m exception(message)\n",
      "\u001b[1;31mRuntimeError\u001b[0m: Unsupported <class 'openqasm3.ast.QuantumBarrier'> statement."
     ]
    }
   ],
   "source": [
    "# qasm3 to qibo circuit\n",
    "from qibo import models\n",
    "qc_qibo = models.Circuit.from_qasm(qc_qasm)"
   ]
  },
  {
   "cell_type": "code",
   "execution_count": 24,
   "id": "d385ea00",
   "metadata": {},
   "outputs": [],
   "source": [
    "# print(qc_qibo.draw())"
   ]
  },
  {
   "cell_type": "code",
   "execution_count": 44,
   "id": "60ef2bdc",
   "metadata": {},
   "outputs": [
    {
     "name": "stderr",
     "output_type": "stream",
     "text": [
      "[Qibo 0.2.9|INFO|2025-02-05 19:44:33]: Using numpy backend on /CPU:0\n",
      "[Qibo 0.2.9|INFO|2025-02-05 19:44:33]: Using numpy backend on /CPU:0\n"
     ]
    }
   ],
   "source": [
    "# setting backend\n",
    "import qibo\n",
    "# backend = qibo.set_backend('qibojit') # for multithreaded\n",
    "backend = qibo.set_backend('numpy') # for single threaded \n",
    "qibo.set_device(\"/CPU:0\")"
   ]
  },
  {
   "cell_type": "code",
   "execution_count": 45,
   "id": "a6322a73",
   "metadata": {},
   "outputs": [
    {
     "ename": "NameError",
     "evalue": "name 'qc_qibo' is not defined",
     "output_type": "error",
     "traceback": [
      "\u001b[1;31m---------------------------------------------------------------------------\u001b[0m",
      "\u001b[1;31mNameError\u001b[0m                                 Traceback (most recent call last)",
      "File \u001b[1;32m<timed exec>:1\u001b[0m\n",
      "\u001b[1;31mNameError\u001b[0m: name 'qc_qibo' is not defined"
     ]
    }
   ],
   "source": [
    "%%time\n",
    "final_result = qc_qibo()\n",
    "print(final_result)"
   ]
  },
  {
   "cell_type": "code",
   "execution_count": 29,
   "id": "b9092b4d",
   "metadata": {},
   "outputs": [
    {
     "name": "stdout",
     "output_type": "stream",
     "text": [
      "20 200\n"
     ]
    }
   ],
   "source": [
    "print(n, d)"
   ]
  },
  {
   "cell_type": "markdown",
   "id": "4e037200",
   "metadata": {},
   "source": [
    "## Using qsimcirq Simulator"
   ]
  },
  {
   "cell_type": "code",
   "execution_count": null,
   "id": "4836c2de",
   "metadata": {},
   "outputs": [],
   "source": [
    "import cirq\n",
    "import qsimcirq"
   ]
  },
  {
   "cell_type": "code",
   "execution_count": 39,
   "id": "c3bcc393",
   "metadata": {},
   "outputs": [
    {
     "name": "stdout",
     "output_type": "stream",
     "text": [
      "qsim results:\n",
      "all_qubits=00011, 00100, 11001, 11111, 01001, 11100, 11111, 10011, 10010, 11111, 01110, 01000, 11000, 01001, 11011, 01001, 10111, 01110, 00111, 11110, 01000, 00111, 01101, 10000, 11111\n"
     ]
    }
   ],
   "source": [
    "\"\"\"\n",
    "# Pick up to ~25 qubits to simulate (requires ~256MB of RAM)\n",
    "qubits = [cirq.GridQubit(i,j) for i in range(5) for j in range(5)]\n",
    "\n",
    "# Define a circuit to run\n",
    "# (Example is from the 2019 \"Quantum Supremacy\" experiement)\n",
    "circuit = (cirq.experiments.\n",
    "    random_rotations_between_grid_interaction_layers_circuit(\n",
    "    qubits=qubits, depth=16))\n",
    "\n",
    "# Measure qubits at the end of the circuit\n",
    "circuit.append(cirq.measure(*qubits, key='all_qubits'))\n",
    "\n",
    "# Simulate the circuit with qsim and return just the measurement values\n",
    "# just like you would with Cirq\n",
    "qsim_simulator = qsimcirq.QSimSimulator()\n",
    "qsim_results = qsim_simulator.run(circuit, repetitions=5)\n",
    "print('qsim results:')\n",
    "print(qsim_results)\n",
    "\"\"\""
   ]
  },
  {
   "cell_type": "code",
   "execution_count": 56,
   "id": "78d86c91",
   "metadata": {},
   "outputs": [
    {
     "data": {
      "text/html": [
       "<pre style=\"word-wrap: normal;white-space: pre;background: #fff0;line-height: 1.1;font-family: &quot;Courier New&quot;,Courier,monospace\">     ┌───┐                                      ┌───┐               \n",
       "q_0: ┤ Z ├───────────■──■──────────■──■───────■─┤ Z ├────■──■──■──■─\n",
       "     └───┘           │  │          │  │ ┌───┐ │ └───┘    │  │  │  │ \n",
       "q_1: ────────────────┼──■──■───────■──┼─┤ Z ├─■───■───■──┼──■──┼──┼─\n",
       "                     │  │  │       │  │ └───┘     │   │  │     │  │ \n",
       "q_2: ────────────────┼──■──■───────┼──┼───────────■───■──■─────┼──■─\n",
       "                     │     │ ┌───┐ │  │ ┌───┐     │   │  │     │  │ \n",
       "q_3: ────────────────■─────■─┤ Z ├─┼──┼─┤ Z ├─────┼───┼──■─────■──┼─\n",
       "     ┌───┐┌───┐┌───┐ │       └───┘ │  │ └───┘     │   │        │  │ \n",
       "q_4: ┤ H ├┤ Z ├┤ H ├─■─────────────■──■───────────■───■────────■──■─\n",
       "     └───┘└───┘└───┘                                                </pre>"
      ],
      "text/plain": [
       "     ┌───┐                                      ┌───┐               \n",
       "q_0: ┤ Z ├───────────■──■──────────■──■───────■─┤ Z ├────■──■──■──■─\n",
       "     └───┘           │  │          │  │ ┌───┐ │ └───┘    │  │  │  │ \n",
       "q_1: ────────────────┼──■──■───────■──┼─┤ Z ├─■───■───■──┼──■──┼──┼─\n",
       "                     │  │  │       │  │ └───┘     │   │  │     │  │ \n",
       "q_2: ────────────────┼──■──■───────┼──┼───────────■───■──■─────┼──■─\n",
       "                     │     │ ┌───┐ │  │ ┌───┐     │   │  │     │  │ \n",
       "q_3: ────────────────■─────■─┤ Z ├─┼──┼─┤ Z ├─────┼───┼──■─────■──┼─\n",
       "     ┌───┐┌───┐┌───┐ │       └───┘ │  │ └───┘     │   │        │  │ \n",
       "q_4: ┤ H ├┤ Z ├┤ H ├─■─────────────■──■───────────■───■────────■──■─\n",
       "     └───┘└───┘└───┘                                                "
      ]
     },
     "execution_count": 56,
     "metadata": {},
     "output_type": "execute_result"
    }
   ],
   "source": [
    "qc_.draw()"
   ]
  },
  {
   "cell_type": "code",
   "execution_count": 61,
   "id": "07a0c515",
   "metadata": {},
   "outputs": [],
   "source": [
    "import qiskit.qasm2\n",
    "with open('qc_qasm2_file.qasm', 'w') as f:\n",
    "    f.write(qiskit.qasm2.dumps(qc_))"
   ]
  },
  {
   "cell_type": "code",
   "execution_count": null,
   "id": "56bc8a0e",
   "metadata": {},
   "outputs": [],
   "source": [
    "from cirq.contrib.qasm_import import circuit_from_qasm\n",
    "with open('qc_qasm2_file.qasm', 'r') as f:\n",
    "    contents = f.read()\n",
    "circuit = circuit_from_qasm(contents)\n",
    "print(circuit)\n"
   ]
  },
  {
   "cell_type": "markdown",
   "id": "15284391",
   "metadata": {},
   "source": [
    "cirq does not support 'CCZ' gate"
   ]
  },
  {
   "cell_type": "code",
   "execution_count": null,
   "id": "5923bbe7",
   "metadata": {},
   "outputs": [],
   "source": []
  },
  {
   "cell_type": "markdown",
   "id": "73537622",
   "metadata": {},
   "source": [
    "## Trying Qulacs simulator"
   ]
  },
  {
   "cell_type": "code",
   "execution_count": 80,
   "id": "e77110a6",
   "metadata": {},
   "outputs": [
    {
     "name": "stdout",
     "output_type": "stream",
     "text": [
      "{'10000': 1024}\n"
     ]
    },
    {
     "name": "stderr",
     "output_type": "stream",
     "text": [
      "C:\\Users\\isams\\AppData\\Local\\Packages\\PythonSoftwareFoundation.Python.3.11_qbz5n2kfra8p0\\LocalCache\\local-packages\\Python311\\site-packages\\qiskit_qulacs\\adapter.py:246: UserWarning: qiskit_qulacs.adapter: The CCZGate instruction is not supported by Qiskit-Qulacs and has not been added to the circuit.\n",
      "  warnings.warn(\n"
     ]
    }
   ],
   "source": [
    "import matplotlib.pyplot as plt\n",
    "from qiskit import QuantumCircuit\n",
    "from qiskit.visualization import plot_histogram, plot_state_city\n",
    "\n",
    "from qiskit_qulacs import QulacsProvider\n",
    "\n",
    "# Create a bell state\n",
    "qc = QuantumCircuit(3)\n",
    "qc.h(0)\n",
    "qc.cx(0, 1)\n",
    "qc.cx(0, 2)\n",
    "\n",
    "# Use Qiskit-Qulacs to run the circuit\n",
    "backend = QulacsProvider().get_backend(\"qulacs_simulator\")\n",
    "result = backend.run(qc_, shots=1024, seed_simulator=42).result()\n",
    "counts = result.get_counts()\n",
    "\n",
    "# Visualization\n",
    "# plot_histogram(counts)\n",
    "# # plt.show()\n",
    "\n",
    "print(counts)"
   ]
  },
  {
   "cell_type": "markdown",
   "id": "aa3857a4",
   "metadata": {},
   "source": [
    "Qiskit-qulacs also does not support 'CCZ' gate!!!"
   ]
  },
  {
   "cell_type": "code",
   "execution_count": null,
   "id": "b3a3d08b",
   "metadata": {},
   "outputs": [],
   "source": []
  },
  {
   "cell_type": "markdown",
   "id": "21a2a210",
   "metadata": {},
   "source": [
    "## Trying QPanda Simulator "
   ]
  },
  {
   "cell_type": "code",
   "execution_count": 40,
   "id": "987760ef",
   "metadata": {},
   "outputs": [],
   "source": [
    "import qiskit.qasm2\n",
    "qc_qasm = qiskit.qasm2.dumps(qc_)\n",
    "with open('qc_qasm3_file.qasm', 'w') as f:\n",
    "    f.write(qc_qasm)"
   ]
  },
  {
   "cell_type": "code",
   "execution_count": 41,
   "id": "89750349",
   "metadata": {},
   "outputs": [],
   "source": [
    "from pyqpanda import *\n",
    "machine = init_quantum_machine(QMachineType.CPU)\n",
    "prog_trans, qv, cv = convert_qasm_to_qprog('qc_qasm3_file.qasm', machine)\n"
   ]
  },
  {
   "cell_type": "code",
   "execution_count": 42,
   "id": "c870ccd9",
   "metadata": {},
   "outputs": [
    {
     "name": "stdout",
     "output_type": "stream",
     "text": [
      "CPU times: total: 5min 11s\n",
      "Wall time: 3min 13s\n"
     ]
    }
   ],
   "source": [
    "%%time\n",
    "qubits = qv\n",
    "prog = prog_trans\n",
    "\n",
    "result = prob_run_dict(prog, qubits, -1)\n",
    "# print(result)\n",
    "# finalize()"
   ]
  },
  {
   "cell_type": "code",
   "execution_count": 13,
   "id": "412ac2e5",
   "metadata": {},
   "outputs": [
    {
     "data": {
      "text/plain": [
       "dict"
      ]
     },
     "execution_count": 13,
     "metadata": {},
     "output_type": "execute_result"
    }
   ],
   "source": [
    "type(result)\n"
   ]
  },
  {
   "cell_type": "code",
   "execution_count": null,
   "id": "fc444836",
   "metadata": {},
   "outputs": [],
   "source": []
  },
  {
   "cell_type": "markdown",
   "id": "891f4bd2",
   "metadata": {},
   "source": [
    "## Trying MultiProcessing"
   ]
  },
  {
   "cell_type": "code",
   "execution_count": 45,
   "id": "4b319499",
   "metadata": {},
   "outputs": [],
   "source": [
    "import time\n",
    "from multiprocessing import Pool"
   ]
  },
  {
   "cell_type": "code",
   "execution_count": 46,
   "id": "f270f7da",
   "metadata": {},
   "outputs": [],
   "source": [
    "# def run_normal(items, do_work):\n",
    "#     print(\"running normally on 1 cpu\")\n",
    "#     start_t = time.perf_counter()\n",
    "#     results = list(map(do_work, items))\n",
    "#     end_t = time.perf_counter()\n",
    "#     wall_duration = end_t - start_t\n",
    "#     print(f\"it took: {wall_duration:.2f}s\")\n",
    "#     return results\n"
   ]
  },
  {
   "cell_type": "code",
   "execution_count": 56,
   "id": "48a259c4",
   "metadata": {},
   "outputs": [],
   "source": [
    "def run_with_mp_map(items, do_work, processes=2, chunksize=2):\n",
    "    print(f\"running using multiprocessing with {processes=}, {chunksize=}\")\n",
    "    start_t = time.perf_counter()\n",
    "    with Pool(processes=processes) as pool:\n",
    "        results = list(pool.imap(do_work, items, chunksize=chunksize))\n",
    "    end_t = time.perf_counter()\n",
    "    wall_duration = end_t - start_t\n",
    "    print(f\"it took: {wall_duration:.2f}s\")\n",
    "    return results"
   ]
  },
  {
   "cell_type": "code",
   "execution_count": 57,
   "id": "26002b9a",
   "metadata": {},
   "outputs": [
    {
     "name": "stdout",
     "output_type": "stream",
     "text": [
      "running using multiprocessing with processes=2, chunksize=2\n"
     ]
    }
   ],
   "source": [
    "items = list(terms)\n",
    "do_work = truthtable\n",
    "\n",
    "ttb_multiprocess = run_with_mp_map(items, do_work)"
   ]
  },
  {
   "cell_type": "code",
   "execution_count": 55,
   "id": "cb29dffb",
   "metadata": {},
   "outputs": [
    {
     "ename": "TypeError",
     "evalue": "'generator' object is not subscriptable",
     "output_type": "error",
     "traceback": [
      "\u001b[1;31m---------------------------------------------------------------------------\u001b[0m",
      "\u001b[1;31mTypeError\u001b[0m                                 Traceback (most recent call last)",
      "Cell \u001b[1;32mIn[55], line 1\u001b[0m\n\u001b[1;32m----> 1\u001b[0m \u001b[43mttb_multiprocess\u001b[49m\u001b[43m[\u001b[49m\u001b[38;5;241;43m0\u001b[39;49m\u001b[43m:\u001b[49m\u001b[38;5;241;43m10\u001b[39;49m\u001b[43m]\u001b[49m\n",
      "\u001b[1;31mTypeError\u001b[0m: 'generator' object is not subscriptable"
     ]
    }
   ],
   "source": [
    "ttb_multiprocess[0:10]"
   ]
  },
  {
   "cell_type": "code",
   "execution_count": 49,
   "id": "ea643aaf",
   "metadata": {},
   "outputs": [],
   "source": [
    "# def compare_mp_map_to_normal():\n",
    "#     items = list(terms)\n",
    "#     do_work = truthtable\n",
    "#     tt_mp = run_with_mp_map(items, do_work)\n",
    "\n",
    "#     print()\n",
    "#     # tt_normal = run_normal(items, do_work)\n",
    "#     return tt_mp"
   ]
  },
  {
   "cell_type": "code",
   "execution_count": 50,
   "id": "0d7bbc2d",
   "metadata": {},
   "outputs": [],
   "source": [
    "# tt_mp = compare_mp_map_to_normal()"
   ]
  },
  {
   "cell_type": "code",
   "execution_count": null,
   "id": "072bf37c",
   "metadata": {},
   "outputs": [],
   "source": []
  },
  {
   "cell_type": "markdown",
   "id": "c0acc897",
   "metadata": {},
   "source": [
    "## Trying to get time of execution using magic methods"
   ]
  },
  {
   "cell_type": "code",
   "execution_count": null,
   "id": "60af2eb9",
   "metadata": {},
   "outputs": [],
   "source": [
    "%pinfo %timeit "
   ]
  },
  {
   "cell_type": "code",
   "execution_count": 30,
   "id": "b917b2ea",
   "metadata": {},
   "outputs": [
    {
     "name": "stdout",
     "output_type": "stream",
     "text": [
      "198 µs ± 19.3 µs per loop (mean ± std. dev. of 7 runs, 1,000 loops each)\n"
     ]
    }
   ],
   "source": [
    "variable = %timeit -o sum(range(10000)) "
   ]
  },
  {
   "cell_type": "code",
   "execution_count": 31,
   "id": "12543ba7",
   "metadata": {},
   "outputs": [
    {
     "data": {
      "text/plain": [
       "IPython.core.magics.execution.TimeitResult"
      ]
     },
     "execution_count": 31,
     "metadata": {},
     "output_type": "execute_result"
    }
   ],
   "source": [
    "type(variable)"
   ]
  },
  {
   "cell_type": "code",
   "execution_count": 32,
   "id": "acbc1675",
   "metadata": {},
   "outputs": [
    {
     "name": "stdout",
     "output_type": "stream",
     "text": [
      "\u001b[1;31mType:\u001b[0m        TimeitResult\n",
      "\u001b[1;31mString form:\u001b[0m 198 µs ± 19.3 µs per loop (mean ± std. dev. of 7 runs, 1,000 loops each)\n",
      "\u001b[1;31mFile:\u001b[0m        c:\\users\\isams\\appdata\\local\\packages\\pythonsoftwarefoundation.python.3.11_qbz5n2kfra8p0\\localcache\\local-packages\\python311\\site-packages\\ipython\\core\\magics\\execution.py\n",
      "\u001b[1;31mDocstring:\u001b[0m  \n",
      "Object returned by the timeit magic with info about the run.\n",
      "\n",
      "Contains the following attributes :\n",
      "\n",
      "loops: (int) number of loops done per measurement\n",
      "repeat: (int) number of times the measurement has been repeated\n",
      "best: (float) best execution time / number\n",
      "all_runs: (list of float) execution time of each run (in s)\n",
      "compile_time: (float) time of statement compilation (s)"
     ]
    }
   ],
   "source": [
    "%pinfo variable"
   ]
  },
  {
   "cell_type": "code",
   "execution_count": 33,
   "id": "6473e488",
   "metadata": {},
   "outputs": [
    {
     "name": "stdout",
     "output_type": "stream",
     "text": [
      "0.0\n"
     ]
    }
   ],
   "source": [
    "print(variable.compile_time)"
   ]
  },
  {
   "cell_type": "code",
   "execution_count": null,
   "id": "2956b821",
   "metadata": {},
   "outputs": [],
   "source": []
  },
  {
   "cell_type": "markdown",
   "id": "c917b553",
   "metadata": {},
   "source": [
    "### Capturing the %%time and extracting the time"
   ]
  },
  {
   "cell_type": "code",
   "execution_count": 1,
   "id": "f2a1e150",
   "metadata": {},
   "outputs": [],
   "source": [
    "%%capture time1\n",
    "%%time\n",
    "\n",
    "# Your code here\n",
    "x = [i**2 for i in range(1000)]\n"
   ]
  },
  {
   "cell_type": "code",
   "execution_count": 27,
   "metadata": {},
   "outputs": [],
   "source": [
    "%%capture time2\n",
    "%%time\n",
    "import time\n",
    "import numpy as np\n",
    "\n",
    "# Your code here\n",
    "y = np.array([[[i] for i in range(25000)][j] for j in range(25000)] )\n"
   ]
  },
  {
   "cell_type": "markdown",
   "id": "de1d2a25",
   "metadata": {},
   "source": [
    "#### Getting time in ms"
   ]
  },
  {
   "cell_type": "code",
   "execution_count": 115,
   "id": "d345df9c",
   "metadata": {},
   "outputs": [],
   "source": [
    "# Extract the runtime information from the captured output\n",
    "import re\n",
    "\n",
    "def extract_time(capture_output):\n",
    "    output = capture_output.stdout\n",
    "    time_pattern = r\"(\\d+\\.\\d+) (s|ms)\"\n",
    "    match = re.search(time_pattern, output)\n",
    "    if match:\n",
    "        time_value = float(match.group(1))\n",
    "        time_unit = match.group(2)\n",
    "        # Convert to milliseconds if necessary\n",
    "        if time_unit == \"ns\":\n",
    "            time_value /= 1_000_000  # ns to ms\n",
    "        elif time_unit == \"µs\":\n",
    "            time_value /= 1_000      # µs to ms\n",
    "        elif time_unit == \"s\":\n",
    "            time_value *= 1_000      # s to ms\n",
    "        elif time_unit == \"min\":\n",
    "            time_value *= 60_000     # min to ms\n",
    "        return time_value\n",
    "    return None\n",
    "\n",
    "time1_ms = extract_time(time1)\n",
    "time2_ms = extract_time(time2)\n"
   ]
  },
  {
   "cell_type": "code",
   "execution_count": 116,
   "id": "dbebaaba",
   "metadata": {},
   "outputs": [
    {
     "name": "stdout",
     "output_type": "stream",
     "text": [
      "CPU times: total: 0 ns\n",
      "Wall time: 2 ms\n",
      "\n"
     ]
    }
   ],
   "source": [
    "print(time1)"
   ]
  },
  {
   "cell_type": "code",
   "execution_count": 117,
   "id": "dabde0ba",
   "metadata": {},
   "outputs": [
    {
     "data": {
      "text/html": [
       "<div>\n",
       "<style scoped>\n",
       "    .dataframe tbody tr th:only-of-type {\n",
       "        vertical-align: middle;\n",
       "    }\n",
       "\n",
       "    .dataframe tbody tr th {\n",
       "        vertical-align: top;\n",
       "    }\n",
       "\n",
       "    .dataframe thead th {\n",
       "        text-align: right;\n",
       "    }\n",
       "</style>\n",
       "<table border=\"1\" class=\"dataframe\">\n",
       "  <thead>\n",
       "    <tr style=\"text-align: right;\">\n",
       "      <th></th>\n",
       "      <th>Cell</th>\n",
       "      <th>Run Time (ms)</th>\n",
       "    </tr>\n",
       "  </thead>\n",
       "  <tbody>\n",
       "    <tr>\n",
       "      <th>0</th>\n",
       "      <td>Cell 1</td>\n",
       "      <td>NaN</td>\n",
       "    </tr>\n",
       "    <tr>\n",
       "      <th>1</th>\n",
       "      <td>Cell 2</td>\n",
       "      <td>56500.0</td>\n",
       "    </tr>\n",
       "  </tbody>\n",
       "</table>\n",
       "</div>"
      ],
      "text/plain": [
       "     Cell  Run Time (ms)\n",
       "0  Cell 1            NaN\n",
       "1  Cell 2        56500.0"
      ]
     },
     "execution_count": 117,
     "metadata": {},
     "output_type": "execute_result"
    }
   ],
   "source": [
    "import pandas as pd\n",
    "\n",
    "# Create a DataFrame to store the results\n",
    "run_times = pd.DataFrame({\n",
    "    \"Cell\": [\"Cell 1\", \"Cell 2\"],\n",
    "    \"Run Time (ms)\": [time1_ms, time2_ms]\n",
    "})\n",
    "\n",
    "run_times\n"
   ]
  },
  {
   "cell_type": "markdown",
   "id": "3b7381f8",
   "metadata": {},
   "source": [
    "#### Getting CPU time and Wall time in different units"
   ]
  },
  {
   "cell_type": "code",
   "execution_count": 37,
   "id": "bcdb2a0b",
   "metadata": {},
   "outputs": [],
   "source": [
    "import re\n",
    "\n",
    "def extract_times(capture_output):\n",
    "    output = capture_output.stdout\n",
    "    \n",
    "    # Patterns to match various formats of wall time and CPU time\n",
    "    wall_time_pattern = r\"Wall time: (\\d+\\.?\\d*) (ns|µs|ms|s|min|h)\"\n",
    "    wall_time_complex_pattern = r\"Wall time: ((\\d+min\\s)?\\d+\\.?\\d*s)\"\n",
    "    cpu_time_pattern = r\"CPU times: total: (\\d+\\.?\\d*) (ns|µs|ms|s|min|h)\"\n",
    "    cpu_time_complex_pattern = r\"CPU times: total: ((\\d+min\\s)?\\d+\\.?\\d*s)\"\n",
    "    \n",
    "    def convert_to_seconds(time_str):\n",
    "        total_seconds = 0\n",
    "        if 'min' in time_str:\n",
    "            minutes = int(re.search(r\"(\\d+)min\", time_str).group(1))\n",
    "            total_seconds += minutes * 60\n",
    "        if 's' in time_str:\n",
    "            seconds = float(re.search(r\"(\\d+\\.?\\d*)s\", time_str).group(1))\n",
    "            total_seconds += seconds\n",
    "        return total_seconds, 's'\n",
    "    \n",
    "    # Extract wall time\n",
    "    wall_match = re.search(wall_time_pattern, output)\n",
    "    wall_complex_match = re.search(wall_time_complex_pattern, output)\n",
    "    if wall_match:\n",
    "        wall_time_value = float(wall_match.group(1))\n",
    "        wall_time_unit = wall_match.group(2)\n",
    "    elif wall_complex_match:\n",
    "        wall_time_value, wall_time_unit = convert_to_seconds(wall_complex_match.group(1))\n",
    "    else:\n",
    "        wall_time_value, wall_time_unit = None, None\n",
    "    \n",
    "    # Extract CPU time\n",
    "    cpu_match = re.search(cpu_time_pattern, output)\n",
    "    cpu_time_complex_match = re.search(cpu_time_complex_pattern, output)\n",
    "    if cpu_match:\n",
    "        cpu_time_value = float(cpu_match.group(1))\n",
    "        cpu_time_unit = cpu_match.group(2)\n",
    "    elif cpu_time_complex_match:\n",
    "        cpu_time_value, cpu_time_unit = convert_to_seconds(cpu_time_complex_match.group(1))\n",
    "    else:\n",
    "        cpu_time_value, cpu_time_unit = None, None\n",
    "    \n",
    "    return wall_time_value, wall_time_unit, cpu_time_value, cpu_time_unit\n",
    "\n",
    "# Example usage with time1 and time2 as the captured outputs\n",
    "wall_time1_value, wall_time1_unit, cpu_time1_value, cpu_time1_unit = extract_times(time1)\n",
    "wall_time2_value, wall_time2_unit, cpu_time2_value, cpu_time2_unit = extract_times(time2)\n"
   ]
  },
  {
   "cell_type": "code",
   "execution_count": 31,
   "id": "aa336862",
   "metadata": {},
   "outputs": [
    {
     "name": "stdout",
     "output_type": "stream",
     "text": [
      "     Cell  Wall Time Wall Time Unit  CPU Time CPU Time Unit\n",
      "0  Cell 1        1.0             ms       0.0            ns\n",
      "1  Cell 2      363.0              s     223.0             s\n"
     ]
    }
   ],
   "source": [
    "# Cell 4: Create a table of run times\n",
    "import pandas as pd\n",
    "\n",
    "# Create a DataFrame to store the results\n",
    "run_times = pd.DataFrame({\n",
    "    \"Cell\": [\"Cell 1\", \"Cell 2\"],\n",
    "    \"Wall Time\": [wall_time1_value, wall_time2_value],\n",
    "    \"Wall Time Unit\": [wall_time1_unit, wall_time2_unit],\n",
    "    \"CPU Time\": [cpu_time1_value, cpu_time2_value],\n",
    "    \"CPU Time Unit\": [cpu_time1_unit, cpu_time2_unit]\n",
    "})\n",
    "\n",
    "run_times\n"
   ]
  },
  {
   "cell_type": "code",
   "execution_count": 28,
   "metadata": {},
   "outputs": [
    {
     "name": "stdout",
     "output_type": "stream",
     "text": [
      "CPU times: total: 0 ns\n",
      "Wall time: 1 ms\n",
      "\n"
     ]
    }
   ],
   "source": [
    "print(time1)"
   ]
  },
  {
   "cell_type": "code",
   "execution_count": 29,
   "id": "52350644",
   "metadata": {},
   "outputs": [
    {
     "name": "stdout",
     "output_type": "stream",
     "text": [
      "CPU times: total: 3min 43s\n",
      "Wall time: 6min 3s\n",
      "\n"
     ]
    }
   ],
   "source": [
    "print(time2)"
   ]
  },
  {
   "cell_type": "markdown",
   "id": "2007247d",
   "metadata": {},
   "source": [
    "#### Other methods"
   ]
  },
  {
   "cell_type": "code",
   "execution_count": 17,
   "id": "811f6a26",
   "metadata": {},
   "outputs": [
    {
     "name": "stdout",
     "output_type": "stream",
     "text": [
      "CPU times: total: 78.1 ms\n",
      "Wall time: 65.7 ms\n"
     ]
    }
   ],
   "source": [
    "%%time\n",
    "# Your code here\n",
    "for _ in range(1000000):\n",
    "    pass"
   ]
  },
  {
   "cell_type": "code",
   "execution_count": 33,
   "id": "d0f4e59e",
   "metadata": {},
   "outputs": [],
   "source": [
    "def sum_of_squares(n):\n",
    "    total = 0\n",
    "    for i in range(n):\n",
    "        total += i * i\n",
    "    return total"
   ]
  },
  {
   "cell_type": "code",
   "execution_count": 9,
   "id": "2626f9da",
   "metadata": {},
   "outputs": [
    {
     "name": "stdout",
     "output_type": "stream",
     "text": [
      "CPU times: total: 484 ms\n",
      "Wall time: 1.59 s\n"
     ]
    }
   ],
   "source": [
    "%%time\n",
    "# Example usage of the function\n",
    "result = sum_of_squares(10**7)"
   ]
  },
  {
   "cell_type": "code",
   "execution_count": 10,
   "id": "5f94ef2f",
   "metadata": {},
   "outputs": [
    {
     "name": "stdout",
     "output_type": "stream",
     "text": [
      "User CPU time: 0.265625 seconds\n",
      "System CPU time: 0.0 seconds\n",
      "Total CPU time: 0.265625 seconds\n",
      "Wall time: 1.4509046077728271 seconds\n"
     ]
    }
   ],
   "source": [
    "import psutil\n",
    "import time\n",
    "\n",
    "def sum_of_squares(n):\n",
    "    total = 0\n",
    "    for i in range(n):\n",
    "        total += i * i\n",
    "    return total\n",
    "\n",
    "# Capture start times\n",
    "# start_cpu_times = psutil.cpu_times() # --> gives cpu_time > wall_time\n",
    "start_cpu_times = psutil.Process().cpu_times()\n",
    "start_time = time.time()\n",
    "\n",
    "# Call the function\n",
    "result = sum_of_squares(10**7)\n",
    "\n",
    "# Capture end times\n",
    "end_cpu_times = psutil.Process().cpu_times()\n",
    "end_time = time.time()\n",
    "\n",
    "# Calculate user and system CPU times\n",
    "user_time = end_cpu_times.user - start_cpu_times.user\n",
    "system_time = end_cpu_times.system - start_cpu_times.system\n",
    "total_cpu_time = user_time + system_time\n",
    "wall_time = end_time - start_time\n",
    "\n",
    "print(f\"User CPU time: {user_time} seconds\")\n",
    "print(f\"System CPU time: {system_time} seconds\")\n",
    "print(f\"Total CPU time: {total_cpu_time} seconds\")\n",
    "print(f\"Wall time: {wall_time} seconds\")\n"
   ]
  },
  {
   "cell_type": "code",
   "execution_count": null,
   "id": "620a358f",
   "metadata": {},
   "outputs": [],
   "source": []
  },
  {
   "cell_type": "code",
   "execution_count": null,
   "id": "22a36d79",
   "metadata": {},
   "outputs": [],
   "source": []
  },
  {
   "cell_type": "markdown",
   "id": "30eda2bb",
   "metadata": {},
   "source": [
    "### Plotting a small manual observation"
   ]
  },
  {
   "cell_type": "code",
   "execution_count": 46,
   "id": "9afb1773",
   "metadata": {},
   "outputs": [
    {
     "data": {
      "image/png": "[encoded data removed]",
      "text/plain": [
       "<Figure size 640x480 with 1 Axes>"
      ]
     },
     "metadata": {},
     "output_type": "display_data"
    },
    {
     "data": {
      "text/plain": [
       "array([  462.        ,  1171.        ,  2540.99999999,  4896.99999999,\n",
       "        8628.99999998, 14191.99999997, 22105.99999994])"
      ]
     },
     "execution_count": 46,
     "metadata": {},
     "output_type": "execute_result"
    }
   ],
   "source": [
    "import numpy as np\n",
    "import matplotlib.pyplot as plt\n",
    "\n",
    "# Correct the x and y arrays to match their lengths\n",
    "x = np.array([14, 15, 16, 17, 18])\n",
    "y = np.array([7, 11, 26, 52, 154])\n",
    "\n",
    "# Define a polynomial of degree 4\n",
    "coefficients = np.polyfit(x, y, 4)\n",
    "poly_func = np.poly1d(coefficients)\n",
    "\n",
    "# Generate x values for prediction and plotting\n",
    "x_pred = np.arange(14, 26, 1)\n",
    "y_pred = poly_func(x_pred)\n",
    "\n",
    "# Plotting the given points and the fit\n",
    "plt.scatter(x, y, color='red', label='Given Data')\n",
    "plt.plot(x_pred, y_pred, color='blue', label='Fitted Curve')\n",
    "plt.xlabel('x')\n",
    "plt.ylabel('y')\n",
    "plt.legend()\n",
    "plt.title('Fitting and Prediction of y based on x')\n",
    "plt.grid(True)\n",
    "plt.show()\n",
    "\n",
    "# Predicted values for x = 20, 21, 22, 23, 24, 25\n",
    "predicted_values = poly_func(np.array([19, 20, 21, 22, 23, 24, 25]))\n",
    "predicted_values\n"
   ]
  },
  {
   "cell_type": "code",
   "execution_count": null,
   "id": "1e1359f9",
   "metadata": {},
   "outputs": [],
   "source": []
  }
 ],
 "metadata": {
  "kernelspec": {
   "display_name": "Python 3",
   "language": "python",
   "name": "python3"
  },
  "language_info": {
   "codemirror_mode": {
    "name": "ipython",
    "version": 3
   },
   "file_extension": ".py",
   "mimetype": "text/x-python",
   "name": "python",
   "nbconvert_exporter": "python",
   "pygments_lexer": "ipython3",
   "version": "3.11.9"
  }
 },
 "nbformat": 4,
 "nbformat_minor": 5
}

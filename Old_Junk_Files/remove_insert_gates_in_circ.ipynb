{
 "cells": [
  {
   "cell_type": "markdown",
   "metadata": {},
   "source": [
    "### Remove or Insert an arbitrary gate\n",
    "Trying to use `qc.data` to remove a gate from or add a gate at any aribtrary position."
   ]
  },
  {
   "cell_type": "code",
   "execution_count": 10,
   "metadata": {},
   "outputs": [],
   "source": [
    "import sys\n",
    "sys.path.append(\"..\")\n",
    "from Dependencies.random_circuit_generator import *"
   ]
  },
  {
   "cell_type": "code",
   "execution_count": 18,
   "metadata": {},
   "outputs": [
    {
     "name": "stdout",
     "output_type": "stream",
     "text": [
      "CPU times: total: 0 ns\n",
      "Wall time: 3.85 ms\n"
     ]
    }
   ],
   "source": [
    "%%time\n",
    "qm, qr = random_circ_d_const(5,10)\n",
    "# qm.draw(fold=-1)\n",
    "# gate_counts(qm)"
   ]
  },
  {
   "cell_type": "code",
   "execution_count": 19,
   "metadata": {},
   "outputs": [
    {
     "name": "stdout",
     "output_type": "stream",
     "text": [
      "CPU times: total: 0 ns\n",
      "Wall time: 0 ns\n"
     ]
    },
    {
     "data": {
      "text/plain": [
       "[CircuitInstruction(operation=Instruction(name='h', num_qubits=1, num_clbits=0, params=[]), qubits=(Qubit(QuantumRegister(5, 'q'), 1),), clbits=()), CircuitInstruction(operation=Instruction(name='z', num_qubits=1, num_clbits=0, params=[]), qubits=(Qubit(QuantumRegister(5, 'q'), 4),), clbits=()), CircuitInstruction(operation=Instruction(name='ccz', num_qubits=3, num_clbits=0, params=[]), qubits=(Qubit(QuantumRegister(5, 'q'), 0), Qubit(QuantumRegister(5, 'q'), 3), Qubit(QuantumRegister(5, 'q'), 2)), clbits=()), CircuitInstruction(operation=Instruction(name='z', num_qubits=1, num_clbits=0, params=[]), qubits=(Qubit(QuantumRegister(5, 'q'), 4),), clbits=()), CircuitInstruction(operation=Instruction(name='cz', num_qubits=2, num_clbits=0, params=[]), qubits=(Qubit(QuantumRegister(5, 'q'), 2), Qubit(QuantumRegister(5, 'q'), 0)), clbits=()), CircuitInstruction(operation=Instruction(name='h', num_qubits=1, num_clbits=0, params=[]), qubits=(Qubit(QuantumRegister(5, 'q'), 1),), clbits=()), CircuitInstruction(operation=Instruction(name='z', num_qubits=1, num_clbits=0, params=[]), qubits=(Qubit(QuantumRegister(5, 'q'), 3),), clbits=()), CircuitInstruction(operation=Instruction(name='cz', num_qubits=2, num_clbits=0, params=[]), qubits=(Qubit(QuantumRegister(5, 'q'), 3), Qubit(QuantumRegister(5, 'q'), 4)), clbits=()), CircuitInstruction(operation=Instruction(name='z', num_qubits=1, num_clbits=0, params=[]), qubits=(Qubit(QuantumRegister(5, 'q'), 2),), clbits=()), CircuitInstruction(operation=Instruction(name='h', num_qubits=1, num_clbits=0, params=[]), qubits=(Qubit(QuantumRegister(5, 'q'), 1),), clbits=()), CircuitInstruction(operation=Instruction(name='h', num_qubits=1, num_clbits=0, params=[]), qubits=(Qubit(QuantumRegister(5, 'q'), 0),), clbits=()), CircuitInstruction(operation=Instruction(name='z', num_qubits=1, num_clbits=0, params=[]), qubits=(Qubit(QuantumRegister(5, 'q'), 4),), clbits=()), CircuitInstruction(operation=Instruction(name='h', num_qubits=1, num_clbits=0, params=[]), qubits=(Qubit(QuantumRegister(5, 'q'), 2),), clbits=()), CircuitInstruction(operation=Instruction(name='z', num_qubits=1, num_clbits=0, params=[]), qubits=(Qubit(QuantumRegister(5, 'q'), 1),), clbits=()), CircuitInstruction(operation=Instruction(name='cz', num_qubits=2, num_clbits=0, params=[]), qubits=(Qubit(QuantumRegister(5, 'q'), 3), Qubit(QuantumRegister(5, 'q'), 0)), clbits=()), CircuitInstruction(operation=Instruction(name='z', num_qubits=1, num_clbits=0, params=[]), qubits=(Qubit(QuantumRegister(5, 'q'), 0),), clbits=()), CircuitInstruction(operation=Instruction(name='cz', num_qubits=2, num_clbits=0, params=[]), qubits=(Qubit(QuantumRegister(5, 'q'), 3), Qubit(QuantumRegister(5, 'q'), 1)), clbits=()), CircuitInstruction(operation=Instruction(name='h', num_qubits=1, num_clbits=0, params=[]), qubits=(Qubit(QuantumRegister(5, 'q'), 2),), clbits=()), CircuitInstruction(operation=Instruction(name='h', num_qubits=1, num_clbits=0, params=[]), qubits=(Qubit(QuantumRegister(5, 'q'), 4),), clbits=()), CircuitInstruction(operation=Instruction(name='h', num_qubits=1, num_clbits=0, params=[]), qubits=(Qubit(QuantumRegister(5, 'q'), 3),), clbits=()), CircuitInstruction(operation=Instruction(name='z', num_qubits=1, num_clbits=0, params=[]), qubits=(Qubit(QuantumRegister(5, 'q'), 0),), clbits=()), CircuitInstruction(operation=Instruction(name='z', num_qubits=1, num_clbits=0, params=[]), qubits=(Qubit(QuantumRegister(5, 'q'), 2),), clbits=()), CircuitInstruction(operation=Instruction(name='cz', num_qubits=2, num_clbits=0, params=[]), qubits=(Qubit(QuantumRegister(5, 'q'), 4), Qubit(QuantumRegister(5, 'q'), 1)), clbits=()), CircuitInstruction(operation=Instruction(name='h', num_qubits=1, num_clbits=0, params=[]), qubits=(Qubit(QuantumRegister(5, 'q'), 3),), clbits=()), CircuitInstruction(operation=Instruction(name='ccz', num_qubits=3, num_clbits=0, params=[]), qubits=(Qubit(QuantumRegister(5, 'q'), 2), Qubit(QuantumRegister(5, 'q'), 4), Qubit(QuantumRegister(5, 'q'), 1)), clbits=()), CircuitInstruction(operation=Instruction(name='z', num_qubits=1, num_clbits=0, params=[]), qubits=(Qubit(QuantumRegister(5, 'q'), 0),), clbits=()), CircuitInstruction(operation=Instruction(name='h', num_qubits=1, num_clbits=0, params=[]), qubits=(Qubit(QuantumRegister(5, 'q'), 4),), clbits=()), CircuitInstruction(operation=Instruction(name='h', num_qubits=1, num_clbits=0, params=[]), qubits=(Qubit(QuantumRegister(5, 'q'), 1),), clbits=()), CircuitInstruction(operation=Instruction(name='cz', num_qubits=2, num_clbits=0, params=[]), qubits=(Qubit(QuantumRegister(5, 'q'), 3), Qubit(QuantumRegister(5, 'q'), 0)), clbits=()), CircuitInstruction(operation=Instruction(name='h', num_qubits=1, num_clbits=0, params=[]), qubits=(Qubit(QuantumRegister(5, 'q'), 2),), clbits=()), CircuitInstruction(operation=Instruction(name='ccz', num_qubits=3, num_clbits=0, params=[]), qubits=(Qubit(QuantumRegister(5, 'q'), 4), Qubit(QuantumRegister(5, 'q'), 2), Qubit(QuantumRegister(5, 'q'), 3)), clbits=()), CircuitInstruction(operation=Instruction(name='h', num_qubits=1, num_clbits=0, params=[]), qubits=(Qubit(QuantumRegister(5, 'q'), 1),), clbits=()), CircuitInstruction(operation=Instruction(name='z', num_qubits=1, num_clbits=0, params=[]), qubits=(Qubit(QuantumRegister(5, 'q'), 0),), clbits=()), CircuitInstruction(operation=Instruction(name='cz', num_qubits=2, num_clbits=0, params=[]), qubits=(Qubit(QuantumRegister(5, 'q'), 3), Qubit(QuantumRegister(5, 'q'), 0)), clbits=()), CircuitInstruction(operation=Instruction(name='h', num_qubits=1, num_clbits=0, params=[]), qubits=(Qubit(QuantumRegister(5, 'q'), 2),), clbits=()), CircuitInstruction(operation=Instruction(name='z', num_qubits=1, num_clbits=0, params=[]), qubits=(Qubit(QuantumRegister(5, 'q'), 1),), clbits=()), CircuitInstruction(operation=Instruction(name='z', num_qubits=1, num_clbits=0, params=[]), qubits=(Qubit(QuantumRegister(5, 'q'), 4),), clbits=())]"
      ]
     },
     "execution_count": 19,
     "metadata": {},
     "output_type": "execute_result"
    }
   ],
   "source": [
    "%%time\n",
    "qm.data"
   ]
  },
  {
   "cell_type": "code",
   "execution_count": 20,
   "metadata": {},
   "outputs": [
    {
     "name": "stdout",
     "output_type": "stream",
     "text": [
      "('h', (Qubit(QuantumRegister(5, 'q'), 1),))\n",
      "('z', (Qubit(QuantumRegister(5, 'q'), 4),))\n",
      "('ccz', (Qubit(QuantumRegister(5, 'q'), 0), Qubit(QuantumRegister(5, 'q'), 3), Qubit(QuantumRegister(5, 'q'), 2)))\n",
      "('z', (Qubit(QuantumRegister(5, 'q'), 4),))\n",
      "('cz', (Qubit(QuantumRegister(5, 'q'), 2), Qubit(QuantumRegister(5, 'q'), 0)))\n",
      "('h', (Qubit(QuantumRegister(5, 'q'), 1),))\n",
      "('z', (Qubit(QuantumRegister(5, 'q'), 3),))\n",
      "('cz', (Qubit(QuantumRegister(5, 'q'), 3), Qubit(QuantumRegister(5, 'q'), 4)))\n",
      "('z', (Qubit(QuantumRegister(5, 'q'), 2),))\n",
      "('h', (Qubit(QuantumRegister(5, 'q'), 1),))\n",
      "('h', (Qubit(QuantumRegister(5, 'q'), 0),))\n",
      "('z', (Qubit(QuantumRegister(5, 'q'), 4),))\n",
      "('h', (Qubit(QuantumRegister(5, 'q'), 2),))\n",
      "('z', (Qubit(QuantumRegister(5, 'q'), 1),))\n",
      "('cz', (Qubit(QuantumRegister(5, 'q'), 3), Qubit(QuantumRegister(5, 'q'), 0)))\n",
      "('z', (Qubit(QuantumRegister(5, 'q'), 0),))\n",
      "('cz', (Qubit(QuantumRegister(5, 'q'), 3), Qubit(QuantumRegister(5, 'q'), 1)))\n",
      "('h', (Qubit(QuantumRegister(5, 'q'), 2),))\n",
      "('h', (Qubit(QuantumRegister(5, 'q'), 4),))\n",
      "('h', (Qubit(QuantumRegister(5, 'q'), 3),))\n",
      "('z', (Qubit(QuantumRegister(5, 'q'), 0),))\n",
      "('z', (Qubit(QuantumRegister(5, 'q'), 2),))\n",
      "('cz', (Qubit(QuantumRegister(5, 'q'), 4), Qubit(QuantumRegister(5, 'q'), 1)))\n",
      "('h', (Qubit(QuantumRegister(5, 'q'), 3),))\n",
      "('ccz', (Qubit(QuantumRegister(5, 'q'), 2), Qubit(QuantumRegister(5, 'q'), 4), Qubit(QuantumRegister(5, 'q'), 1)))\n",
      "('z', (Qubit(QuantumRegister(5, 'q'), 0),))\n",
      "('h', (Qubit(QuantumRegister(5, 'q'), 4),))\n",
      "('h', (Qubit(QuantumRegister(5, 'q'), 1),))\n",
      "('cz', (Qubit(QuantumRegister(5, 'q'), 3), Qubit(QuantumRegister(5, 'q'), 0)))\n",
      "('h', (Qubit(QuantumRegister(5, 'q'), 2),))\n",
      "('ccz', (Qubit(QuantumRegister(5, 'q'), 4), Qubit(QuantumRegister(5, 'q'), 2), Qubit(QuantumRegister(5, 'q'), 3)))\n",
      "('h', (Qubit(QuantumRegister(5, 'q'), 1),))\n",
      "('z', (Qubit(QuantumRegister(5, 'q'), 0),))\n",
      "('cz', (Qubit(QuantumRegister(5, 'q'), 3), Qubit(QuantumRegister(5, 'q'), 0)))\n",
      "('h', (Qubit(QuantumRegister(5, 'q'), 2),))\n",
      "('z', (Qubit(QuantumRegister(5, 'q'), 1),))\n",
      "('z', (Qubit(QuantumRegister(5, 'q'), 4),))\n"
     ]
    }
   ],
   "source": [
    "qm_data = [(instruction.operation.name, instruction.qubits) for instruction in qm.data]\n",
    "for element in qm_data:\n",
    "    print(element)"
   ]
  },
  {
   "cell_type": "code",
   "execution_count": 24,
   "metadata": {},
   "outputs": [
    {
     "ename": "TypeError",
     "evalue": "MutableSequence.remove() takes 2 positional arguments but 3 were given",
     "output_type": "error",
     "traceback": [
      "\u001b[1;31m---------------------------------------------------------------------------\u001b[0m",
      "\u001b[1;31mTypeError\u001b[0m                                 Traceback (most recent call last)",
      "Cell \u001b[1;32mIn[24], line 4\u001b[0m\n\u001b[0;32m      1\u001b[0m \u001b[38;5;66;03m# qm.data.append(\"CircuitInstruction(operation=Instruction(name='z', num_qubits=1, num_clbits=0, params=[]), qubits=(Qubit(QuantumRegister(10, 'q'), 4),), clbits=())\")\u001b[39;00m\n\u001b[0;32m      2\u001b[0m \u001b[38;5;66;03m# qr = qm.qregs[0]\u001b[39;00m\n\u001b[0;32m      3\u001b[0m z_gate \u001b[38;5;241m=\u001b[39m  ZGate()\n\u001b[1;32m----> 4\u001b[0m \u001b[43mqm\u001b[49m\u001b[38;5;241;43m.\u001b[39;49m\u001b[43mdata\u001b[49m\u001b[38;5;241;43m.\u001b[39;49m\u001b[43mremove\u001b[49m\u001b[43m(\u001b[49m\u001b[38;5;241;43m1\u001b[39;49m\u001b[43m,\u001b[49m\u001b[43m \u001b[49m\u001b[43m(\u001b[49m\u001b[43mz_gate\u001b[49m\u001b[43m,\u001b[49m\u001b[43m \u001b[49m\u001b[43m[\u001b[49m\u001b[43mqr\u001b[49m\u001b[43m[\u001b[49m\u001b[38;5;241;43m4\u001b[39;49m\u001b[43m]\u001b[49m\u001b[43m]\u001b[49m\u001b[43m,\u001b[49m\u001b[43m \u001b[49m\u001b[43m[\u001b[49m\u001b[43m]\u001b[49m\u001b[43m)\u001b[49m\u001b[43m)\u001b[49m\n",
      "\u001b[1;31mTypeError\u001b[0m: MutableSequence.remove() takes 2 positional arguments but 3 were given"
     ]
    }
   ],
   "source": [
    "# qm.data.append(\"CircuitInstruction(operation=Instruction(name='z', num_qubits=1, num_clbits=0, params=[]), qubits=(Qubit(QuantumRegister(10, 'q'), 4),), clbits=())\")\n",
    "# qr = qm.qregs[0]\n",
    "z_gate =  ZGate()\n",
    "qm.data.remove(1, (z_gate, [qr[4]], []))\n"
   ]
  },
  {
   "cell_type": "code",
   "execution_count": 25,
   "metadata": {},
   "outputs": [
    {
     "data": {
      "text/html": [
       "<pre style=\"word-wrap: normal;white-space: pre;background: #fff0;line-height: 1.1;font-family: &quot;Courier New&quot;,Courier,monospace\">     ┌───┐┌───┐     \n",
       "q_0: ┤ H ├┤ Z ├──■──\n",
       "     └───┘└───┘┌─┴─┐\n",
       "q_1: ──────────┤ X ├\n",
       "               └───┘\n",
       "q_2: ───────────────\n",
       "                    \n",
       "q_3: ───────────────\n",
       "                    \n",
       "q_4: ───────────────\n",
       "                    </pre>"
      ],
      "text/plain": [
       "     ┌───┐┌───┐     \n",
       "q_0: ┤ H ├┤ Z ├──■──\n",
       "     └───┘└───┘┌─┴─┐\n",
       "q_1: ──────────┤ X ├\n",
       "               └───┘\n",
       "q_2: ───────────────\n",
       "                    \n",
       "q_3: ───────────────\n",
       "                    \n",
       "q_4: ───────────────\n",
       "                    "
      ]
     },
     "execution_count": 25,
     "metadata": {},
     "output_type": "execute_result"
    }
   ],
   "source": [
    "from qiskit import QuantumCircuit, QuantumRegister\n",
    "from qiskit.circuit.library import ZGate\n",
    "\n",
    "# Create a quantum register and a quantum circuit\n",
    "qr = QuantumRegister(5, 'q')\n",
    "qc = QuantumCircuit(qr)\n",
    "\n",
    "# Add initial gates\n",
    "qc.h(qr[0])\n",
    "qc.cx(qr[0], qr[1])\n",
    "\n",
    "qc.draw()\n",
    "# Create a Z gate\n",
    "z_gate = ZGate()\n",
    "\n",
    "# Insert the Z gate between the H and CX gates\n",
    "qc.data.insert(1, (z_gate, [qr[0]], []))  # (operation, qargs, cargs)\n",
    "\n",
    "# Print the modified circuit\n",
    "qc.draw()"
   ]
  },
  {
   "cell_type": "markdown",
   "metadata": {},
   "source": [
    "This is working!!!!!!!"
   ]
  },
  {
   "cell_type": "code",
   "execution_count": 27,
   "metadata": {},
   "outputs": [
    {
     "name": "stdout",
     "output_type": "stream",
     "text": [
      "Initial Circuit:\n",
      "     ┌───┐      \n",
      "q_0: ┤ H ├─■────\n",
      "     └───┘ │    \n",
      "q_1: ──────■──■─\n",
      "     ┌───┐    │ \n",
      "q_2: ┤ X ├────┼─\n",
      "     └───┘    │ \n",
      "q_3: ─────────■─\n",
      "     ┌───┐      \n",
      "q_4: ┤ Z ├──────\n",
      "     └───┘      \n",
      "\n",
      "Modified Circuit:\n",
      "     ┌───┐      \n",
      "q_0: ┤ H ├─■────\n",
      "     └───┘ │    \n",
      "q_1: ──────■──■─\n",
      "     ┌───┐    │ \n",
      "q_2: ┤ X ├────┼─\n",
      "     └───┘    │ \n",
      "q_3: ─────────■─\n",
      "                \n",
      "q_4: ───────────\n",
      "                \n"
     ]
    }
   ],
   "source": [
    "from qiskit import QuantumCircuit, QuantumRegister\n",
    "from qiskit.circuit.library import HGate, ZGate, XGate, CZGate\n",
    "\n",
    "# Create a quantum register and a quantum circuit\n",
    "qr = QuantumRegister(5, 'q')\n",
    "qc = QuantumCircuit(qr)\n",
    "\n",
    "# Add some gates to the circuit\n",
    "qc.h(qr[0])\n",
    "qc.cz(qr[0], qr[1])\n",
    "qc.z(qr[4])\n",
    "qc.x(qr[2])\n",
    "qc.cz(qr[1], qr[3])\n",
    "\n",
    "# Print the initial circuit\n",
    "print(\"Initial Circuit:\")\n",
    "print(qc)\n",
    "\n",
    "# Define a function to remove a gate from the circuit based on its type and qubits\n",
    "def remove_gate(qc, gate_type, qubits):\n",
    "    qc.data = [\n",
    "        instr for instr in qc.data \n",
    "        if not (instr[0].name == gate_type and [qb.index for qb in instr[1]] == qubits)\n",
    "    ]\n",
    "\n",
    "# Modify the function to properly access qubit indices\n",
    "def remove_gate(qc, gate_type, qubit_indices):\n",
    "    def get_qubit_index(qubit):\n",
    "        return qr.index(qubit)\n",
    "    \n",
    "    qc.data = [\n",
    "        instr for instr in qc.data \n",
    "        if not (instr[0].name == gate_type and [get_qubit_index(qb) for qb in instr[1]] == qubit_indices)\n",
    "    ]\n",
    "\n",
    "# Remove the Z gate on qubit 4\n",
    "remove_gate(qc, 'z', [4])\n",
    "\n",
    "# Print the modified circuit\n",
    "print(\"\\nModified Circuit:\")\n",
    "print(qc)\n"
   ]
  },
  {
   "cell_type": "code",
   "execution_count": null,
   "metadata": {},
   "outputs": [],
   "source": []
  }
 ],
 "metadata": {
  "kernelspec": {
   "display_name": "Python 3",
   "language": "python",
   "name": "python3"
  },
  "language_info": {
   "codemirror_mode": {
    "name": "ipython",
    "version": 3
   },
   "file_extension": ".py",
   "mimetype": "text/x-python",
   "name": "python",
   "nbconvert_exporter": "python",
   "pygments_lexer": "ipython3",
   "version": "3.11.9"
  }
 },
 "nbformat": 4,
 "nbformat_minor": 2
}

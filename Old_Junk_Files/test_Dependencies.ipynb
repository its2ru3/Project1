{
 "cells": [
  {
   "cell_type": "markdown",
   "metadata": {},
   "source": [
    "### Checking the functionality of `functions_list.py`"
   ]
  },
  {
   "cell_type": "code",
   "execution_count": 11,
   "metadata": {},
   "outputs": [
    {
     "name": "stdout",
     "output_type": "stream",
     "text": [
      "The autoreload extension is already loaded. To reload it, use:\n",
      "  %reload_ext autoreload\n"
     ]
    }
   ],
   "source": [
    "%load_ext autoreload\n",
    "%autoreload 2"
   ]
  },
  {
   "cell_type": "code",
   "execution_count": 12,
   "metadata": {},
   "outputs": [],
   "source": [
    "import sys\n",
    "sys.path.append(\"..\")\n",
    "import numpy as np\n",
    "from qiskit import QuantumCircuit\n",
    "import Dependencies.functions_list as df"
   ]
  },
  {
   "cell_type": "code",
   "execution_count": 29,
   "metadata": {},
   "outputs": [
    {
     "name": "stdout",
     "output_type": "stream",
     "text": [
      "     ┌───┐   ┌───┐             \n",
      "q_0: ┤ H ├─■─┤ T ├───────────■─\n",
      "     ├───┤ │ ├───┤┌───┐┌───┐ │ \n",
      "q_1: ┤ H ├─■─┤ S ├┤ H ├┤ Z ├─■─\n",
      "     ├───┤   └───┘└───┘└───┘ │ \n",
      "q_2: ┤ H ├───────────────────■─\n",
      "     └───┘                     \n"
     ]
    }
   ],
   "source": [
    "n = 3\n",
    "qc = QuantumCircuit(n)\n",
    "qc.h([0,1,2])\n",
    "qc.cz(0,1)\n",
    "qc.s(1)\n",
    "qc.h(1)\n",
    "# qc.s(0)\n",
    "qc.t(0)\n",
    "qc.z(1)\n",
    "qc.ccz(0,1,2)\n",
    "d = qc.depth()\n",
    "print(qc)"
   ]
  },
  {
   "cell_type": "code",
   "execution_count": 41,
   "metadata": {},
   "outputs": [
    {
     "name": "stdout",
     "output_type": "stream",
     "text": [
      "[('h', [0]), ('h', [1]), ('h', [2]), ('cz', [0, 1]), ('s', [1]), ('h', [1]), ('t', [0]), ('z', [1]), ('ccz', [0, 1, 2])]\n"
     ]
    }
   ],
   "source": [
    "instructions = [(instruction.operation.name,\n",
    "                    [qc.find_bit(q).index for q in instruction.qubits]) \n",
    "                    for index, instruction in enumerate(qc.data)]\n",
    "print(instructions)"
   ]
  },
  {
   "cell_type": "code",
   "execution_count": 50,
   "metadata": {},
   "outputs": [
    {
     "name": "stdout",
     "output_type": "stream",
     "text": [
      "Initial wire_array:  [[0], [1], [2]]\n",
      "[[4, [0, 3]], [4, [1, 4]], [4, [2, 5]], [4, [3, 4]], [2, [4]], [4, [4, 6]], [1, [3]], [4, [6]], [4, [3, 6, 5]]]\n",
      "[[0, 3], [1, 4, 6], [2, 5]]\n",
      "7\n",
      "[3, 6, 5]\n"
     ]
    }
   ],
   "source": [
    "terms, wire_array, max_new_var = df.create_poly(qc, n)\n",
    "print(terms)\n",
    "print(wire_array)\n",
    "print(max_new_var)\n",
    "ovs = [sub[-1] for sub in wire_array]\n",
    "print(ovs)"
   ]
  },
  {
   "cell_type": "code",
   "execution_count": 51,
   "metadata": {},
   "outputs": [
    {
     "name": "stdout",
     "output_type": "stream",
     "text": [
      "[False False False]\n",
      "16\n",
      "[0 4 0 4 2 2 2 2 1 5 1 1 7 7 7 3]\n"
     ]
    }
   ],
   "source": [
    "initial_state = np.zeros(n, dtype=bool)\n",
    "print(initial_state)\n",
    "tt = df.get_truthtable(terms, n, max_new_var, initial_state)\n",
    "print(tt)"
   ]
  },
  {
   "cell_type": "code",
   "execution_count": 53,
   "metadata": {},
   "outputs": [
    {
     "name": "stdout",
     "output_type": "stream",
     "text": [
      "{0: array([1, 0, 1, 0, 0, 0, 0, 0]), 2: array([0, 0, 1, 0, 1, 0, 0, 0]), 1: array([1, 0, 1, 0, 0, 0, 0, 0]), 3: array([0, 0, 1, 0, 1, 0, 0, 0]), 4: array([0, 1, 0, 0, 0, 0, 0, 1]), 6: array([0, 0, 0, 0, 0, 1, 0, 1]), 5: array([0, 1, 0, 0, 0, 0, 0, 1]), 7: array([0, 1, 0, 1, 0, 0, 0, 0])}\n",
      "<class 'numpy.ndarray'>\n",
      "Statevector using BOOLEAN equation: \n",
      "|000> : 0.250000+0.250000j\n",
      "|001> : 0.250000+0.250000j\n",
      "|010> : -0.250000+0.250000j\n",
      "|011> : -0.250000+0.250000j\n",
      "|100> : 0.353553+0.000000j\n",
      "|101> : 0.353553+0.000000j\n",
      "|110> : 0.000000-0.353553j\n",
      "|111> : 0.000000+0.353553j\n"
     ]
    }
   ],
   "source": [
    "statevector = df.get_statevector(tt, n, max_new_var, ovs)\n",
    "print(type(statevector))\n",
    "print(\"Statevector using BOOLEAN equation: \")\n",
    "threshold = 1e-8\n",
    "for i, amp in enumerate(statevector):\n",
    "    if abs(amp) > threshold:\n",
    "        print(f\"|{i:0{n}b}> : {amp:.6f}\")"
   ]
  },
  {
   "cell_type": "code",
   "execution_count": 45,
   "metadata": {},
   "outputs": [],
   "source": [
    "from qiskit_aer import StatevectorSimulator\n",
    "def get_stvec_aer(qc):\n",
    "    backend = StatevectorSimulator()\n",
    "    res = backend.run(qc).result()\n",
    "    return res.get_statevector()"
   ]
  },
  {
   "cell_type": "code",
   "execution_count": 46,
   "metadata": {},
   "outputs": [
    {
     "name": "stdout",
     "output_type": "stream",
     "text": [
      "Statevector using aer simulator: \n",
      "|000> : 0.250000+0.250000j\n",
      "|100> : 0.353553+0.000000j\n",
      "|010> : -0.250000+0.250000j\n",
      "|110> : -0.000000-0.353553j\n",
      "|001> : 0.250000+0.250000j\n",
      "|101> : 0.353553+0.000000j\n",
      "|011> : -0.250000+0.250000j\n",
      "|111> : 0.000000+0.353553j\n"
     ]
    }
   ],
   "source": [
    "state_vector = np.asanyarray(get_stvec_aer(qc))\n",
    "print(\"Statevector using aer simulator: \")\n",
    "threshold = 1e-8\n",
    "for i, amp in enumerate(state_vector):\n",
    "    if abs(amp) > threshold:\n",
    "        bits = format(i, f'0{qc.num_qubits}b')[::-1] # reversing the bits\n",
    "        print(f\"|{bits}> : {amp:.6f}\")"
   ]
  },
  {
   "cell_type": "markdown",
   "metadata": {},
   "source": [
    "#### Using original Aarav's code of function's list file\n",
    "It's working correctly"
   ]
  },
  {
   "cell_type": "code",
   "execution_count": 28,
   "metadata": {},
   "outputs": [
    {
     "name": "stdout",
     "output_type": "stream",
     "text": [
      "Initial wire_array:  [[0], [1], [2]]\n",
      "<class 'numpy.ndarray'>\n",
      "Statevector using boolean equation: \n",
      "|000> : 0.250000+0.250000j\n",
      "|001> : 0.250000+0.250000j\n",
      "|010> : -0.250000+0.250000j\n",
      "|011> : -0.250000+0.250000j\n",
      "|100> : 0.353553+0.000000j\n",
      "|101> : 0.353553+0.000000j\n",
      "|110> : 0.000000-0.353553j\n",
      "|111> : 0.000000+0.353553j\n"
     ]
    }
   ],
   "source": [
    "import functions_list_aarav as dfa\n",
    "terms, wire_array, max_new_var = df.create_poly(qc, n)\n",
    "ovs = [sub[-1] for sub in wire_array]\n",
    "ivs = [i for i in range(n)]\n",
    "tt = dfa.truthtable(terms, n, max_new_var, initial_state, ivs, np)\n",
    "state_vector = dfa.statevector_(tt, n, max_new_var, ovs, np)\n",
    "print(type(state_vector))\n",
    "print(\"Statevector using boolean equation: \")\n",
    "threshold = 1e-8\n",
    "for i, amp in enumerate(state_vector):\n",
    "    if abs(amp) > threshold:\n",
    "        print(f\"|{i:0{n}b}> : {amp:.6f}\")"
   ]
  },
  {
   "cell_type": "code",
   "execution_count": null,
   "metadata": {},
   "outputs": [],
   "source": []
  },
  {
   "cell_type": "markdown",
   "metadata": {},
   "source": [
    "#### Using DDSIM "
   ]
  },
  {
   "cell_type": "code",
   "execution_count": 29,
   "metadata": {},
   "outputs": [],
   "source": [
    "from mqt import ddsim\n",
    "def get_stvec_ddsim(qc):\n",
    "    backend = ddsim.DDSIMProvider().get_backend(\"statevector_simulator\")\n",
    "    job = backend.run(qc)\n",
    "    result = job.result()\n",
    "    return result.get_statevector()"
   ]
  },
  {
   "cell_type": "code",
   "execution_count": 32,
   "metadata": {},
   "outputs": [
    {
     "name": "stdout",
     "output_type": "stream",
     "text": [
      "Statevector using ddsim simulator: \n",
      "|000> : 1.000000+0.000000j\n"
     ]
    }
   ],
   "source": [
    "state_vector = np.asanyarray(get_stvec_ddsim(qc))\n",
    "print(\"Statevector using ddsim simulator: \")\n",
    "threshold = 1e-8\n",
    "for i, amp in enumerate(state_vector):\n",
    "    if abs(amp) > threshold:\n",
    "        bits = format(i, f'0{qc.num_qubits}b')[::-1] # reversing the bits\n",
    "        print(f\"|{bits}> : {amp:.6f}\")"
   ]
  },
  {
   "cell_type": "code",
   "execution_count": null,
   "metadata": {},
   "outputs": [],
   "source": []
  },
  {
   "cell_type": "code",
   "execution_count": null,
   "metadata": {},
   "outputs": [],
   "source": []
  },
  {
   "cell_type": "code",
   "execution_count": null,
   "metadata": {},
   "outputs": [],
   "source": []
  },
  {
   "cell_type": "markdown",
   "metadata": {},
   "source": [
    "### Checking random circuit generator"
   ]
  },
  {
   "cell_type": "code",
   "execution_count": 120,
   "metadata": {},
   "outputs": [],
   "source": [
    "from Dependencies.random_circuit_generator import *"
   ]
  },
  {
   "cell_type": "code",
   "execution_count": 139,
   "metadata": {},
   "outputs": [
    {
     "name": "stdout",
     "output_type": "stream",
     "text": [
      "        ┌───┐        ┌───┐\n",
      "q_0: ─■─┤ H ├─■───■──┤ H ├\n",
      "      │ ├───┤ │   │  ├───┤\n",
      "q_1: ─■─┤ H ├─■───■──┤ H ├\n",
      "        ├───┤   ┌───┐├───┤\n",
      "q_2: ─■─┤ H ├─■─┤ H ├┤ Z ├\n",
      "      │ ├───┤ │ ├───┤├───┤\n",
      "q_3: ─■─┤ Z ├─■─┤ H ├┤ H ├\n",
      "      │ ├───┤ │ ├───┤├───┤\n",
      "q_4: ─■─┤ Z ├─■─┤ H ├┤ Z ├\n",
      "        └───┘   └───┘└───┘\n"
     ]
    }
   ],
   "source": [
    "qc, qr = random_circ_d_const(5,5)\n",
    "print(qc)"
   ]
  },
  {
   "cell_type": "code",
   "execution_count": 140,
   "metadata": {},
   "outputs": [
    {
     "name": "stdout",
     "output_type": "stream",
     "text": [
      "          ┌───┐   \n",
      "q_0: ─────┤ H ├───\n",
      "          └───┘   \n",
      "q_1: ───────■───■─\n",
      "     ┌───┐  │   │ \n",
      "q_2: ┤ Z ├──┼───┼─\n",
      "     └───┘  │   │ \n",
      "q_3: ───────■───■─\n",
      "          ┌───┐   \n",
      "q_4: ─────┤ H ├───\n",
      "          └───┘   \n"
     ]
    }
   ],
   "source": [
    "qc, qr = random_circ_g_const(5,5)\n",
    "print(qc)"
   ]
  },
  {
   "cell_type": "code",
   "execution_count": 228,
   "metadata": {},
   "outputs": [
    {
     "name": "stdout",
     "output_type": "stream",
     "text": [
      "                                                             \n",
      "q_0: ───────■───────────────────────────■───────■──■─────────\n",
      "     ┌───┐  │                           │ ┌───┐ │  │         \n",
      "q_1: ┤ H ├──┼─────────────────────■──■──┼─┤ Z ├─■──┼──■──────\n",
      "     └───┘  │                     │  │  │ └───┘ │  │  │ ┌───┐\n",
      "q_2: ───────■────────■────────────■──■──┼───────┼──■──┼─┤ H ├\n",
      "     ┌───┐┌───┐┌───┐ │ ┌───┐┌───┐ │     │       │  │  │ └───┘\n",
      "q_3: ┤ H ├┤ Z ├┤ Z ├─■─┤ H ├┤ Z ├─■─────■───────┼──■──■──────\n",
      "     ├───┤├───┤└───┘   └───┘└───┘       │       │            \n",
      "q_4: ┤ Z ├┤ H ├─────────────────────────■───────■────────────\n",
      "     └───┘└───┘                                              \n"
     ]
    }
   ],
   "source": [
    "qc, qr = random_circ_h_const(5,5,0.25)\n",
    "print(qc)"
   ]
  },
  {
   "cell_type": "markdown",
   "metadata": {},
   "source": [
    "### Checking random_circuit_gererator_universal"
   ]
  },
  {
   "cell_type": "code",
   "execution_count": 448,
   "metadata": {},
   "outputs": [],
   "source": [
    "from Dependencies.random_circuit_generator_universal import *"
   ]
  },
  {
   "cell_type": "code",
   "execution_count": 449,
   "metadata": {},
   "outputs": [
    {
     "name": "stdout",
     "output_type": "stream",
     "text": [
      "             ┌─────┐                         \n",
      "q_0: ──────■─┤ Tdg ├─────────────────────────\n",
      "     ┌───┐ │ └┬───┬┘┌───┐   ┌─────┐┌───┐┌───┐\n",
      "q_1: ┤ H ├─■──┤ Z ├─┤ Z ├─■─┤ Sdg ├┤ T ├┤ H ├\n",
      "     └───┘    └───┘ └───┘ │ └─────┘└───┘└───┘\n",
      "q_2: ─────────────────────■──────────────────\n",
      "                                             \n"
     ]
    }
   ],
   "source": [
    "qc, qr = random_circ_uni.h(3, 2)\n",
    "\n",
    "print(qc)"
   ]
  },
  {
   "cell_type": "code",
   "execution_count": null,
   "metadata": {},
   "outputs": [],
   "source": []
  }
 ],
 "metadata": {
  "kernelspec": {
   "display_name": "poly-env",
   "language": "python",
   "name": "python3"
  },
  "language_info": {
   "codemirror_mode": {
    "name": "ipython",
    "version": 3
   },
   "file_extension": ".py",
   "mimetype": "text/x-python",
   "name": "python",
   "nbconvert_exporter": "python",
   "pygments_lexer": "ipython3",
   "version": "3.10.12"
  }
 },
 "nbformat": 4,
 "nbformat_minor": 2
}

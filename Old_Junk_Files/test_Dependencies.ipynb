{
 "cells": [
  {
   "cell_type": "markdown",
   "metadata": {},
   "source": [
    "### Checking the functionality of `functions_list.py`"
   ]
  },
  {
   "cell_type": "code",
   "execution_count": 405,
   "metadata": {},
   "outputs": [
    {
     "name": "stdout",
     "output_type": "stream",
     "text": [
      "The autoreload extension is already loaded. To reload it, use:\n",
      "  %reload_ext autoreload\n"
     ]
    }
   ],
   "source": [
    "%load_ext autoreload\n",
    "%autoreload 2"
   ]
  },
  {
   "cell_type": "code",
   "execution_count": 112,
   "metadata": {},
   "outputs": [],
   "source": [
    "import numpy as np\n",
    "from qiskit import QuantumCircuit\n",
    "import Dependencies.functions_list as df"
   ]
  },
  {
   "cell_type": "code",
   "execution_count": 113,
   "metadata": {},
   "outputs": [
    {
     "name": "stdout",
     "output_type": "stream",
     "text": [
      "     ┌───┐   ┌───┐             \n",
      "q_0: ┤ H ├─■─┤ T ├───────────■─\n",
      "     ├───┤ │ ├───┤┌───┐┌───┐ │ \n",
      "q_1: ┤ H ├─■─┤ S ├┤ H ├┤ Z ├─■─\n",
      "     ├───┤   └───┘└───┘└───┘ │ \n",
      "q_2: ┤ H ├───────────────────■─\n",
      "     └───┘                     \n"
     ]
    }
   ],
   "source": [
    "n = 3\n",
    "qc = QuantumCircuit(n)\n",
    "qc.h([0,1,2])\n",
    "qc.cz(0,1)\n",
    "qc.s(1)\n",
    "qc.h(1)\n",
    "# qc.s(0)\n",
    "qc.t(0)\n",
    "qc.z(1)\n",
    "qc.ccz(0,1,2)\n",
    "d = qc.depth()\n",
    "print(qc)"
   ]
  },
  {
   "cell_type": "code",
   "execution_count": 114,
   "metadata": {},
   "outputs": [
    {
     "name": "stdout",
     "output_type": "stream",
     "text": [
      "[('h', [0]), ('h', [1]), ('h', [2]), ('cz', [0, 1]), ('s', [1]), ('h', [1]), ('t', [0]), ('z', [1]), ('ccz', [0, 1, 2])]\n"
     ]
    }
   ],
   "source": [
    "instructions = [(instruction.operation.name,\n",
    "                    [qc.find_bit(q).index for q in instruction.qubits]) \n",
    "                    for index, instruction in enumerate(qc.data)]\n",
    "print(instructions)"
   ]
  },
  {
   "cell_type": "code",
   "execution_count": 115,
   "metadata": {},
   "outputs": [
    {
     "name": "stdout",
     "output_type": "stream",
     "text": [
      "Initial wire_array:  [[0], [1], [2]]\n",
      "[[4, [0, 3]], [4, [1, 4]], [4, [2, 5]], [4, [3, 4]], [2, [4]], [4, [4, 6]], [1, [3]], [4, [6]], [4, [3, 6, 5]]]\n",
      "[[0, 3], [1, 4, 6], [2, 5]]\n",
      "7\n",
      "[3, 6, 5]\n"
     ]
    }
   ],
   "source": [
    "terms, wire_array, max_new_var = df.create_poly(qc, n)\n",
    "print(terms)\n",
    "print(wire_array)\n",
    "print(max_new_var)\n",
    "ovs = [sub[-1] for sub in wire_array]\n",
    "print(ovs)"
   ]
  },
  {
   "cell_type": "code",
   "execution_count": 116,
   "metadata": {},
   "outputs": [
    {
     "name": "stdout",
     "output_type": "stream",
     "text": [
      "[False False False]\n",
      "16\n",
      "[0 4 0 4 2 2 2 2 1 5 1 1 7 7 7 3]\n"
     ]
    }
   ],
   "source": [
    "initial_state = np.zeros(n, dtype=bool)\n",
    "print(initial_state)\n",
    "tt = df.truthtable(terms, n, max_new_var, initial_state)\n",
    "print(tt)"
   ]
  },
  {
   "cell_type": "code",
   "execution_count": 117,
   "metadata": {},
   "outputs": [
    {
     "name": "stdout",
     "output_type": "stream",
     "text": [
      "{0: array([1, 0, 1, 0, 0, 0, 0, 0]), 2: array([0, 0, 1, 0, 1, 0, 0, 0]), 1: array([1, 0, 1, 0, 0, 0, 0, 0]), 3: array([0, 0, 1, 0, 1, 0, 0, 0]), 4: array([0, 1, 0, 0, 0, 0, 0, 1]), 6: array([0, 0, 0, 0, 0, 1, 0, 1]), 5: array([0, 1, 0, 0, 0, 0, 0, 1]), 7: array([0, 1, 0, 1, 0, 0, 0, 0])}\n",
      "Statevector using boolean equation: \n",
      "|000> : 0.250000+0.250000j\n",
      "|001> : 0.250000+0.250000j\n",
      "|010> : -0.250000+0.250000j\n",
      "|011> : -0.250000+0.250000j\n",
      "|100> : 0.353553+0.353553j\n",
      "|101> : 0.353553+0.353553j\n",
      "|110> : -0.353553+0.353553j\n",
      "|111> : 0.353553-0.353553j\n"
     ]
    }
   ],
   "source": [
    "statevector = df.get_statevector(tt, n, max_new_var, ovs)\n",
    "# print(statevector)\n",
    "print(\"Statevector using boolean equation: \")\n",
    "threshold = 1e-8\n",
    "for i, amp in enumerate(statevector):\n",
    "    if abs(amp) > threshold:\n",
    "        print(f\"|{i:0{n}b}> : {amp:.6f}\")"
   ]
  },
  {
   "cell_type": "code",
   "execution_count": 118,
   "metadata": {},
   "outputs": [],
   "source": [
    "from qiskit_aer import StatevectorSimulator\n",
    "def get_stvec_aer(qc):\n",
    "    backend = StatevectorSimulator()\n",
    "    res = backend.run(qc).result()\n",
    "    return res.get_statevector()"
   ]
  },
  {
   "cell_type": "code",
   "execution_count": 123,
   "metadata": {},
   "outputs": [
    {
     "ename": "TypeError",
     "evalue": "bad input to run() function;circuits and schedules cannot be mixed in a single run",
     "output_type": "error",
     "traceback": [
      "\u001b[1;31m---------------------------------------------------------------------------\u001b[0m",
      "\u001b[1;31mTypeError\u001b[0m                                 Traceback (most recent call last)",
      "Cell \u001b[1;32mIn[123], line 1\u001b[0m\n\u001b[1;32m----> 1\u001b[0m state_vector \u001b[38;5;241m=\u001b[39m \u001b[43mget_stvec_aer\u001b[49m\u001b[43m(\u001b[49m\u001b[43mqc\u001b[49m\u001b[43m)\u001b[49m\n\u001b[0;32m      2\u001b[0m \u001b[38;5;28mprint\u001b[39m(\u001b[38;5;124m\"\u001b[39m\u001b[38;5;124mStatevector using aer simulator: \u001b[39m\u001b[38;5;124m\"\u001b[39m)\n\u001b[0;32m      3\u001b[0m threshold \u001b[38;5;241m=\u001b[39m \u001b[38;5;241m1e-8\u001b[39m\n",
      "Cell \u001b[1;32mIn[118], line 4\u001b[0m, in \u001b[0;36mget_stvec_aer\u001b[1;34m(qc)\u001b[0m\n\u001b[0;32m      2\u001b[0m \u001b[38;5;28;01mdef\u001b[39;00m \u001b[38;5;21mget_stvec_aer\u001b[39m(qc):\n\u001b[0;32m      3\u001b[0m     backend \u001b[38;5;241m=\u001b[39m StatevectorSimulator()\n\u001b[1;32m----> 4\u001b[0m     res \u001b[38;5;241m=\u001b[39m \u001b[43mbackend\u001b[49m\u001b[38;5;241;43m.\u001b[39;49m\u001b[43mrun\u001b[49m\u001b[43m(\u001b[49m\u001b[43mqc\u001b[49m\u001b[43m)\u001b[49m\u001b[38;5;241m.\u001b[39mresult()\n\u001b[0;32m      5\u001b[0m     \u001b[38;5;28;01mreturn\u001b[39;00m res\u001b[38;5;241m.\u001b[39mget_statevector()\n",
      "File \u001b[1;32m~\\AppData\\Local\\Packages\\PythonSoftwareFoundation.Python.3.11_qbz5n2kfra8p0\\LocalCache\\local-packages\\Python311\\site-packages\\qiskit_aer\\backends\\aerbackend.py:241\u001b[0m, in \u001b[0;36mAerBackend.run\u001b[1;34m(self, circuits, validate, parameter_binds, **run_options)\u001b[0m\n\u001b[0;32m    239\u001b[0m     \u001b[38;5;28;01mreturn\u001b[39;00m \u001b[38;5;28mself\u001b[39m\u001b[38;5;241m.\u001b[39m_run_qobj(circuits, validate, parameter_binds, \u001b[38;5;241m*\u001b[39m\u001b[38;5;241m*\u001b[39mrun_options)\n\u001b[0;32m    240\u001b[0m \u001b[38;5;28;01melif\u001b[39;00m \u001b[38;5;129;01mnot\u001b[39;00m only_circuits \u001b[38;5;129;01mand\u001b[39;00m \u001b[38;5;129;01mnot\u001b[39;00m only_pulse:\n\u001b[1;32m--> 241\u001b[0m     \u001b[38;5;28;01mraise\u001b[39;00m \u001b[38;5;167;01mTypeError\u001b[39;00m(\n\u001b[0;32m    242\u001b[0m         \u001b[38;5;124m\"\u001b[39m\u001b[38;5;124mbad input to run() function;\u001b[39m\u001b[38;5;124m\"\u001b[39m\n\u001b[0;32m    243\u001b[0m         \u001b[38;5;124m\"\u001b[39m\u001b[38;5;124mcircuits and schedules cannot be mixed in a single run\u001b[39m\u001b[38;5;124m\"\u001b[39m\n\u001b[0;32m    244\u001b[0m     )\n\u001b[0;32m    245\u001b[0m \u001b[38;5;28;01melse\u001b[39;00m:\n\u001b[0;32m    246\u001b[0m     \u001b[38;5;28;01mraise\u001b[39;00m \u001b[38;5;167;01mTypeError\u001b[39;00m(\n\u001b[0;32m    247\u001b[0m         \u001b[38;5;124m\"\u001b[39m\u001b[38;5;124mbad input to run() function;\u001b[39m\u001b[38;5;124m\"\u001b[39m \u001b[38;5;124m\"\u001b[39m\u001b[38;5;124mcircuits must be either circuits or schedules\u001b[39m\u001b[38;5;124m\"\u001b[39m\n\u001b[0;32m    248\u001b[0m     )\n",
      "\u001b[1;31mTypeError\u001b[0m: bad input to run() function;circuits and schedules cannot be mixed in a single run"
     ]
    }
   ],
   "source": [
    "state_vector = get_stvec_aer(qc)\n",
    "print(\"Statevector using aer simulator: \")\n",
    "threshold = 1e-8\n",
    "for i, amp in enumerate(state_vector):\n",
    "    if abs(amp) > threshold:\n",
    "        bits = format(i, f'0{qc.num_qubits}b')[::-1] # reversing the bits\n",
    "        print(f\"|{bits}> : {amp:.6f}\")"
   ]
  },
  {
   "cell_type": "code",
   "execution_count": null,
   "metadata": {},
   "outputs": [],
   "source": []
  },
  {
   "cell_type": "markdown",
   "metadata": {},
   "source": [
    "### Checking random circuit generator"
   ]
  },
  {
   "cell_type": "code",
   "execution_count": 120,
   "metadata": {},
   "outputs": [],
   "source": [
    "from Dependencies.random_circuit_generator import *"
   ]
  },
  {
   "cell_type": "code",
   "execution_count": 139,
   "metadata": {},
   "outputs": [
    {
     "name": "stdout",
     "output_type": "stream",
     "text": [
      "        ┌───┐        ┌───┐\n",
      "q_0: ─■─┤ H ├─■───■──┤ H ├\n",
      "      │ ├───┤ │   │  ├───┤\n",
      "q_1: ─■─┤ H ├─■───■──┤ H ├\n",
      "        ├───┤   ┌───┐├───┤\n",
      "q_2: ─■─┤ H ├─■─┤ H ├┤ Z ├\n",
      "      │ ├───┤ │ ├───┤├───┤\n",
      "q_3: ─■─┤ Z ├─■─┤ H ├┤ H ├\n",
      "      │ ├───┤ │ ├───┤├───┤\n",
      "q_4: ─■─┤ Z ├─■─┤ H ├┤ Z ├\n",
      "        └───┘   └───┘└───┘\n"
     ]
    }
   ],
   "source": [
    "qc, qr = random_circ_d_const(5,5)\n",
    "print(qc)"
   ]
  },
  {
   "cell_type": "code",
   "execution_count": 140,
   "metadata": {},
   "outputs": [
    {
     "name": "stdout",
     "output_type": "stream",
     "text": [
      "          ┌───┐   \n",
      "q_0: ─────┤ H ├───\n",
      "          └───┘   \n",
      "q_1: ───────■───■─\n",
      "     ┌───┐  │   │ \n",
      "q_2: ┤ Z ├──┼───┼─\n",
      "     └───┘  │   │ \n",
      "q_3: ───────■───■─\n",
      "          ┌───┐   \n",
      "q_4: ─────┤ H ├───\n",
      "          └───┘   \n"
     ]
    }
   ],
   "source": [
    "qc, qr = random_circ_g_const(5,5)\n",
    "print(qc)"
   ]
  },
  {
   "cell_type": "code",
   "execution_count": 228,
   "metadata": {},
   "outputs": [
    {
     "name": "stdout",
     "output_type": "stream",
     "text": [
      "                                                             \n",
      "q_0: ───────■───────────────────────────■───────■──■─────────\n",
      "     ┌───┐  │                           │ ┌───┐ │  │         \n",
      "q_1: ┤ H ├──┼─────────────────────■──■──┼─┤ Z ├─■──┼──■──────\n",
      "     └───┘  │                     │  │  │ └───┘ │  │  │ ┌───┐\n",
      "q_2: ───────■────────■────────────■──■──┼───────┼──■──┼─┤ H ├\n",
      "     ┌───┐┌───┐┌───┐ │ ┌───┐┌───┐ │     │       │  │  │ └───┘\n",
      "q_3: ┤ H ├┤ Z ├┤ Z ├─■─┤ H ├┤ Z ├─■─────■───────┼──■──■──────\n",
      "     ├───┤├───┤└───┘   └───┘└───┘       │       │            \n",
      "q_4: ┤ Z ├┤ H ├─────────────────────────■───────■────────────\n",
      "     └───┘└───┘                                              \n"
     ]
    }
   ],
   "source": [
    "qc, qr = random_circ_h_const(5,5,0.25)\n",
    "print(qc)"
   ]
  },
  {
   "cell_type": "markdown",
   "metadata": {},
   "source": [
    "### Checking random_circuit_gererator_universal"
   ]
  },
  {
   "cell_type": "code",
   "execution_count": 448,
   "metadata": {},
   "outputs": [],
   "source": [
    "from Dependencies.random_circuit_generator_universal import *"
   ]
  },
  {
   "cell_type": "code",
   "execution_count": 449,
   "metadata": {},
   "outputs": [
    {
     "name": "stdout",
     "output_type": "stream",
     "text": [
      "             ┌─────┐                         \n",
      "q_0: ──────■─┤ Tdg ├─────────────────────────\n",
      "     ┌───┐ │ └┬───┬┘┌───┐   ┌─────┐┌───┐┌───┐\n",
      "q_1: ┤ H ├─■──┤ Z ├─┤ Z ├─■─┤ Sdg ├┤ T ├┤ H ├\n",
      "     └───┘    └───┘ └───┘ │ └─────┘└───┘└───┘\n",
      "q_2: ─────────────────────■──────────────────\n",
      "                                             \n"
     ]
    }
   ],
   "source": [
    "qc, qr = random_circ_uni.h(3, 2)\n",
    "\n",
    "print(qc)"
   ]
  },
  {
   "cell_type": "code",
   "execution_count": null,
   "metadata": {},
   "outputs": [],
   "source": []
  }
 ],
 "metadata": {
  "kernelspec": {
   "display_name": "Python 3",
   "language": "python",
   "name": "python3"
  },
  "language_info": {
   "codemirror_mode": {
    "name": "ipython",
    "version": 3
   },
   "file_extension": ".py",
   "mimetype": "text/x-python",
   "name": "python",
   "nbconvert_exporter": "python",
   "pygments_lexer": "ipython3",
   "version": "3.11.9"
  }
 },
 "nbformat": 4,
 "nbformat_minor": 2
}

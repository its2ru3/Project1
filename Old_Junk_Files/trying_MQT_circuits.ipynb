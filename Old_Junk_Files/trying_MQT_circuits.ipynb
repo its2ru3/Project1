{
 "cells": [
  {
   "cell_type": "code",
   "execution_count": null,
   "metadata": {},
   "outputs": [],
   "source": [
    "import qiskit.qasm3\n",
    "qc = qiskit.qasm3.load('MQTBench_2024-07-06-11-56-44\\\\vqe_indep_qiskit_3.qasm')\n",
    "qc.draw()"
   ]
  },
  {
   "cell_type": "code",
   "execution_count": null,
   "metadata": {},
   "outputs": [],
   "source": []
  }
 ],
 "metadata": {
  "language_info": {
   "name": "python"
  }
 },
 "nbformat": 4,
 "nbformat_minor": 2
}

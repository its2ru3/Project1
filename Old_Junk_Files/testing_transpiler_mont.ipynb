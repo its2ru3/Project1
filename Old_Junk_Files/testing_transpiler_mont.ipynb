{
 "cells": [
  {
   "cell_type": "code",
   "execution_count": 19,
   "metadata": {},
   "outputs": [],
   "source": [
    "from Dependencies.random_circuit_generator import *\n",
    "from Dependencies.functions_list import *\n",
    "from Dependencies.transpiler_mont import *\n",
    "import random, psutil, time, numpy as np, csv\n",
    "from qiskit_aer import StatevectorSimulator\n",
    "import qiskit.qasm2, qiskit.qasm3\n",
    "from mqt import ddsim\n"
   ]
  },
  {
   "cell_type": "code",
   "execution_count": 20,
   "metadata": {},
   "outputs": [
    {
     "data": {
      "text/html": [
       "<pre style=\"word-wrap: normal;white-space: pre;background: #fff0;line-height: 1.1;font-family: &quot;Courier New&quot;,Courier,monospace\">     ┌───┐     ┌───┐        \n",
       "q_0: ┤ H ├──■──┤ H ├──────■─\n",
       "     ├───┤  │  ├───┤┌───┐ │ \n",
       "q_1: ┤ H ├──■──┤ X ├┤ H ├─■─\n",
       "     ├───┤┌───┐└───┘└───┘ │ \n",
       "q_2: ┤ H ├┤ H ├───────────■─\n",
       "     └───┘└───┘             </pre>"
      ],
      "text/plain": [
       "     ┌───┐     ┌───┐        \n",
       "q_0: ┤ H ├──■──┤ H ├──────■─\n",
       "     ├───┤  │  ├───┤┌───┐ │ \n",
       "q_1: ┤ H ├──■──┤ X ├┤ H ├─■─\n",
       "     ├───┤┌───┐└───┘└───┘ │ \n",
       "q_2: ┤ H ├┤ H ├───────────■─\n",
       "     └───┘└───┘             "
      ]
     },
     "execution_count": 20,
     "metadata": {},
     "output_type": "execute_result"
    }
   ],
   "source": [
    "qc = QuantumCircuit(3)\n",
    "qc.h([0,1,2])\n",
    "qc.cz(0,1)\n",
    "qc.x(1)\n",
    "qc.h([0,1,2])\n",
    "qc.ccz(0,1,2)\n",
    "qc.draw()"
   ]
  },
  {
   "cell_type": "code",
   "execution_count": 21,
   "metadata": {},
   "outputs": [
    {
     "name": "stdout",
     "output_type": "stream",
     "text": [
      "     ┌───┐\n",
      "q_0: ┤ H ├\n",
      "     └───┘\n",
      "q_1: ─────\n",
      "          \n",
      "q_2: ─────\n",
      "          \n",
      "     ┌───┐\n",
      "q_0: ┤ H ├\n",
      "     ├───┤\n",
      "q_1: ┤ H ├\n",
      "     └───┘\n",
      "q_2: ─────\n",
      "          \n",
      "     ┌───┐\n",
      "q_0: ┤ H ├\n",
      "     ├───┤\n",
      "q_1: ┤ H ├\n",
      "     ├───┤\n",
      "q_2: ┤ H ├\n",
      "     └───┘\n",
      "     ┌───┐   \n",
      "q_0: ┤ H ├─■─\n",
      "     ├───┤ │ \n",
      "q_1: ┤ H ├─■─\n",
      "     ├───┤   \n",
      "q_2: ┤ H ├───\n",
      "     └───┘   \n",
      "     ┌───┐                  \n",
      "q_0: ┤ H ├─■────────────────\n",
      "     ├───┤ │ ┌───┐┌───┐┌───┐\n",
      "q_1: ┤ H ├─■─┤ H ├┤ Z ├┤ H ├\n",
      "     ├───┤   └───┘└───┘└───┘\n",
      "q_2: ┤ H ├──────────────────\n",
      "     └───┘                  \n",
      "     ┌───┐   ┌───┐          \n",
      "q_0: ┤ H ├─■─┤ H ├──────────\n",
      "     ├───┤ │ ├───┤┌───┐┌───┐\n",
      "q_1: ┤ H ├─■─┤ H ├┤ Z ├┤ H ├\n",
      "     ├───┤   └───┘└───┘└───┘\n",
      "q_2: ┤ H ├──────────────────\n",
      "     └───┘                  \n",
      "     ┌───┐   ┌───┐     \n",
      "q_0: ┤ H ├─■─┤ H ├─────\n",
      "     ├───┤ │ ├───┤┌───┐\n",
      "q_1: ┤ H ├─■─┤ H ├┤ Z ├\n",
      "     ├───┤   └───┘└───┘\n",
      "q_2: ┤ H ├─────────────\n",
      "     └───┘             \n",
      "     ┌───┐   ┌───┐     \n",
      "q_0: ┤ H ├─■─┤ H ├─────\n",
      "     ├───┤ │ ├───┤┌───┐\n",
      "q_1: ┤ H ├─■─┤ H ├┤ Z ├\n",
      "     └───┘   └───┘└───┘\n",
      "q_2: ──────────────────\n",
      "                       \n",
      "     ┌───┐   ┌───┐        \n",
      "q_0: ┤ H ├─■─┤ H ├──────■─\n",
      "     ├───┤ │ ├───┤┌───┐ │ \n",
      "q_1: ┤ H ├─■─┤ H ├┤ Z ├─■─\n",
      "     └───┘   └───┘└───┘ │ \n",
      "q_2: ───────────────────■─\n",
      "                          \n"
     ]
    },
    {
     "data": {
      "text/html": [
       "<pre style=\"word-wrap: normal;white-space: pre;background: #fff0;line-height: 1.1;font-family: &quot;Courier New&quot;,Courier,monospace\">     ┌───┐   ┌───┐        \n",
       "q_0: ┤ H ├─■─┤ H ├──────■─\n",
       "     ├───┤ │ ├───┤┌───┐ │ \n",
       "q_1: ┤ H ├─■─┤ H ├┤ Z ├─■─\n",
       "     └───┘   └───┘└───┘ │ \n",
       "q_2: ───────────────────■─\n",
       "                          </pre>"
      ],
      "text/plain": [
       "     ┌───┐   ┌───┐        \n",
       "q_0: ┤ H ├─■─┤ H ├──────■─\n",
       "     ├───┤ │ ├───┤┌───┐ │ \n",
       "q_1: ┤ H ├─■─┤ H ├┤ Z ├─■─\n",
       "     └───┘   └───┘└───┘ │ \n",
       "q_2: ───────────────────■─\n",
       "                          "
      ]
     },
     "execution_count": 21,
     "metadata": {},
     "output_type": "execute_result"
    }
   ],
   "source": [
    "qc = transpile_montennaro(qc)\n",
    "qc.draw()"
   ]
  },
  {
   "cell_type": "code",
   "execution_count": null,
   "metadata": {},
   "outputs": [],
   "source": []
  }
 ],
 "metadata": {
  "kernelspec": {
   "display_name": "Python 3",
   "language": "python",
   "name": "python3"
  },
  "language_info": {
   "codemirror_mode": {
    "name": "ipython",
    "version": 3
   },
   "file_extension": ".py",
   "mimetype": "text/x-python",
   "name": "python",
   "nbconvert_exporter": "python",
   "pygments_lexer": "ipython3",
   "version": "3.11.9"
  }
 },
 "nbformat": 4,
 "nbformat_minor": 2
}

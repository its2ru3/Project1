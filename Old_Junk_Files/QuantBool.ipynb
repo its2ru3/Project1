{
  "cells": [
    {
      "cell_type": "code",
      "execution_count": 1,
      "id": "be23fc2d-aeff-40b0-81bf-62869c79c010",
      "metadata": {
        "colab": {
          "base_uri": "https://localhost:8080/"
        },
        "collapsed": true,
        "id": "be23fc2d-aeff-40b0-81bf-62869c79c010",
        "outputId": "79460831-f83e-48ea-89f1-b4e888802169",
        "tags": []
      },
      "outputs": [],
      "source": [
        "#Random circuit generation\n",
        "# !pip install qiskit"
      ]
    },
    {
      "cell_type": "code",
      "execution_count": 2,
      "id": "7fb8436a-20be-43eb-943a-71245c3e1e2e",
      "metadata": {
        "id": "7fb8436a-20be-43eb-943a-71245c3e1e2e",
        "tags": []
      },
      "outputs": [],
      "source": [
        "from qiskit import *\n",
        "from random import *\n",
        "import numpy as np"
      ]
    },
    {
      "cell_type": "markdown",
      "id": "b61e5235-2dd0-49d5-b210-35a5a3164f37",
      "metadata": {
        "id": "b61e5235-2dd0-49d5-b210-35a5a3164f37",
        "tags": []
      },
      "source": [
        "# Random Circuit Generation (Previous Work, kindly scroll down for updated version)\n",
        "\n",
        "The code below is for generating random circuits for further analysis. I have defined two functions - one for using width + number of gates, and other for width + depth.\n",
        "\n",
        "I think number of gates is a more useful parameter, but I got both done here."
      ]
    },
    {
      "cell_type": "code",
      "execution_count": 3,
      "id": "7e06ff97-7997-4500-9251-aa4f7591ca97",
      "metadata": {
        "colab": {
          "base_uri": "https://localhost:8080/",
          "height": 358
        },
        "id": "7e06ff97-7997-4500-9251-aa4f7591ca97",
        "outputId": "a5e15e6a-00f9-477d-c36f-221a7347fbfc",
        "tags": []
      },
      "outputs": [],
      "source": [
        "def random_cirq_number_gates(number_of_gates,width):\n",
        "    qc = QuantumCircuit(width)\n",
        "    list_of_gates = [(qc.h,1),(qc.z,1),(qc.cz,2),(qc.ccz,3)]\n",
        "    counts = {}\n",
        "    #number_of_gates = 100\n",
        "    for i in range(number_of_gates):\n",
        "        gate,arg = choice(list_of_gates)\n",
        "        inp = []\n",
        "        while len(inp) < arg:\n",
        "            val = randint(0,width-1)\n",
        "            if val not in inp:\n",
        "                inp.append(val)\n",
        "        #print(gate,inp)\n",
        "        gate(*inp)\n",
        "        try: counts[gate] +=1\n",
        "        except KeyError: counts[gate] = 1\n",
        "\n",
        "    return qc\n"
      ]
    },
    {
      "cell_type": "code",
      "execution_count": 4,
      "id": "1c513c41",
      "metadata": {},
      "outputs": [
        {
          "name": "stdout",
          "output_type": "stream",
          "text": [
            "73\n",
            "CPU times: total: 0 ns\n",
            "Wall time: 13.5 ms\n"
          ]
        }
      ],
      "source": [
        "%%time\n",
        "qc = random_cirq_number_gates(400,25)\n",
        "print(qc.depth())\n",
        "# qc.draw(output=\"text\", fold=-1, justify='left')"
      ]
    },
    {
      "cell_type": "code",
      "execution_count": 5,
      "id": "461b07f4-2e08-4622-b915-2fdac0d2ccf7",
      "metadata": {
        "id": "461b07f4-2e08-4622-b915-2fdac0d2ccf7",
        "tags": []
      },
      "outputs": [],
      "source": [
        "def random_cirq_depth(depth,width):\n",
        "    qc = QuantumCircuit(width)\n",
        "    list_of_gates = [(qc.h,1),(qc.z,1),(qc.cz,2),(qc.ccz,3)]\n",
        "    counts = {}\n",
        "    number_of_gates = 100\n",
        " #   for i in range(number_of_gates):\n",
        "    while qc.depth()<depth+1:\n",
        "        gate,arg = choice(list_of_gates)\n",
        "\n",
        "        inp = []\n",
        "        # print(gate,arg,inp)\n",
        "        while len(inp) < arg:\n",
        "            val = randint(0,width-1)\n",
        "            if val not in inp:\n",
        "                inp.append(val)\n",
        "                # print(inp)\n",
        "        # print(gate,inp)\n",
        "        gate(*inp)\n",
        "        try: counts[gate] +=1\n",
        "        except KeyError: counts[gate] = 1\n",
        "\n",
        "        if qc.depth() == depth+1:\n",
        "            del qc.data[-1]\n",
        "            break #Not deleting this will cause an infinite circuit.\n",
        "    return qc\n"
      ]
    },
    {
      "cell_type": "code",
      "execution_count": 3,
      "id": "d346cc7a-457f-4fd8-80cd-65c1f037c2d1",
      "metadata": {
        "colab": {
          "base_uri": "https://localhost:8080/",
          "height": 211
        },
        "id": "d346cc7a-457f-4fd8-80cd-65c1f037c2d1",
        "outputId": "3501eb75-e2f3-4438-f9ac-5788323311cc",
        "tags": []
      },
      "outputs": [
        {
          "data": {
            "text/plain": [
              "<qiskit.circuit.instructionset.InstructionSet at 0x184386d5db0>"
            ]
          },
          "execution_count": 3,
          "metadata": {},
          "output_type": "execute_result"
        }
      ],
      "source": [
        "# qc_ = random_cirq_number_gates(20,5)\n",
        "\n",
        "qc_ = QuantumCircuit(2)\n",
        "qc_.h(0)\n",
        "qc_.h(1)\n",
        "qc_.cz(0,1)\n",
        "qc_.h(1)\n",
        "\n",
        "\n"
      ]
    },
    {
      "cell_type": "code",
      "execution_count": 4,
      "id": "a8b963dc-6c11-4900-978c-4919e6aa2304",
      "metadata": {
        "colab": {
          "base_uri": "https://localhost:8080/",
          "height": 111
        },
        "id": "a8b963dc-6c11-4900-978c-4919e6aa2304",
        "outputId": "eadb8720-ede4-4f67-982f-0f031d3f0391",
        "tags": []
      },
      "outputs": [
        {
          "name": "stdout",
          "output_type": "stream",
          "text": [
            "3\n"
          ]
        }
      ],
      "source": [
        "print(qc_.depth())\n",
        "# qc_.draw(output=\"text\", fold=-1, justify='left')"
      ]
    },
    {
      "cell_type": "markdown",
      "id": "4395fe2b-6b14-46ce-a40d-d31db6fb9435",
      "metadata": {
        "id": "4395fe2b-6b14-46ce-a40d-d31db6fb9435"
      },
      "source": [
        "# Coming to circuit polynomials\n",
        "\n",
        "Now, to convert to circuit polynomials, we can either use the circuit visualisation or alternatively the data from the circuit object directly.\n",
        "\n",
        "## What I've Done\n",
        "\n",
        "As you can see below, it is easy to extract the instructions to build the circuit i.e. the gates in sequential order. This can be used to get the circuit polynomial in a very systematic manner."
      ]
    },
    {
      "cell_type": "code",
      "execution_count": 5,
      "id": "d90a5ec6-84a6-45f0-a447-e6aa5e672c22",
      "metadata": {
        "colab": {
          "base_uri": "https://localhost:8080/"
        },
        "id": "d90a5ec6-84a6-45f0-a447-e6aa5e672c22",
        "outputId": "68dce1eb-89c0-4d24-b49b-24d75b8e4242",
        "tags": []
      },
      "outputs": [
        {
          "name": "stdout",
          "output_type": "stream",
          "text": [
            "0 h [0]\n",
            "1 h [1]\n",
            "2 cz [0, 1]\n",
            "3 h [1]\n"
          ]
        }
      ],
      "source": [
        "for index, instruction in enumerate(qc_.data):\n",
        "    print(index, instruction.operation.name, [ qc_.find_bit(q).index for q in instruction.qubits])"
      ]
    },
    {
      "cell_type": "code",
      "execution_count": 6,
      "id": "4bf72b52",
      "metadata": {},
      "outputs": [
        {
          "data": {
            "text/plain": [
              "OrderedDict([('h', 3), ('cz', 1)])"
            ]
          },
          "execution_count": 6,
          "metadata": {},
          "output_type": "execute_result"
        }
      ],
      "source": [
        "qc_.count_ops()"
      ]
    },
    {
      "cell_type": "code",
      "execution_count": 7,
      "id": "19c0d808-e194-4eb6-b828-7b26dd8c0b1b",
      "metadata": {
        "colab": {
          "base_uri": "https://localhost:8080/"
        },
        "id": "19c0d808-e194-4eb6-b828-7b26dd8c0b1b",
        "outputId": "403a07e2-536f-4781-b8af-351031823df7",
        "tags": []
      },
      "outputs": [
        {
          "name": "stdout",
          "output_type": "stream",
          "text": [
            "x0x2 + x1x3 + x2x3 + x3x4 + \n",
            "\n",
            "[[0, 2], [1, 3], [2, 3], [3, 4]]\n",
            "5\n",
            "CPU times: total: 0 ns\n",
            "Wall time: 0 ns\n"
          ]
        }
      ],
      "source": [
        "%%time\n",
        "'''\n",
        "Approach: We use the list of instruction operators and track a few things -\n",
        "\n",
        "1. Current active variable in each wire\n",
        "2. The polynomial term corresponding.\n",
        "\n",
        "\n",
        "'''\n",
        "width = qc_.width()\n",
        "\n",
        "hcount = list(instruction.operation.name for index, instruction in enumerate(qc_.data)).count('h')\n",
        "list_ = [(instruction.operation.name, [ qc_.find_bit(q).index for q in instruction.qubits]) for index, instruction in enumerate(qc_.data)]\n",
        "\n",
        "# number_of_variables = width + hcount\n",
        "wire_array = [[i] for i in range(width)]\n",
        "max_new_var = width\n",
        "terms = []\n",
        "\n",
        "for entry in list_:\n",
        "    gate = entry[0]\n",
        "    elements = entry[1]\n",
        "\n",
        "    if gate == 'h':\n",
        "        wire_array[elements[0]].append(max_new_var)\n",
        "        #print(wire_array[elements[0]])\n",
        "        max_new_var+=1\n",
        "        terms.append([wire_array[elements[0]][-1],wire_array[elements[0]][-2]])\n",
        "\n",
        "\n",
        "    else:\n",
        "        terms.append([wire_array[j][-1] for j in elements])\n",
        "\n",
        "for term in terms:\n",
        "    term.sort()\n",
        "    for j in term:\n",
        "        print('x'+str(j),end='')\n",
        "    print(' +',end=' ')\n",
        "print('\\n')\n",
        "\n",
        "print(terms)\n",
        "print(max_new_var)"
      ]
    },
    {
      "cell_type": "code",
      "execution_count": 8,
      "id": "21637492-89db-4037-9c52-fc896b977fab",
      "metadata": {
        "colab": {
          "base_uri": "https://localhost:8080/"
        },
        "id": "21637492-89db-4037-9c52-fc896b977fab",
        "outputId": "a4ebb9cd-51df-49d9-e4e9-14d98e2d2a54",
        "tags": []
      },
      "outputs": [
        {
          "data": {
            "text/plain": [
              "[[0, 2], [1, 3, 4]]"
            ]
          },
          "execution_count": 8,
          "metadata": {},
          "output_type": "execute_result"
        }
      ],
      "source": [
        "wire_array"
      ]
    },
    {
      "cell_type": "code",
      "execution_count": 9,
      "id": "a4579a76-bea3-438e-ba82-530c1c8b8473",
      "metadata": {
        "id": "a4579a76-bea3-438e-ba82-530c1c8b8473",
        "tags": []
      },
      "outputs": [],
      "source": [
        "#Here I am gonna try to write a code to evaluate the terms of polynomial for given input vector.\n",
        "#x = [bool(i) for i in [1,1,1,1,1]]\n",
        "\n",
        "#x = [0 for i in range(max_new_var)]\n",
        "\n",
        "def polyval(terms,x):#now x is an integer input\n",
        "    x_bin = bin(x)[2:].zfill(max_new_var)\n",
        "    val_out = bool(0)\n",
        "    for term in terms:\n",
        "        v = bool(1)\n",
        "        for j in term:\n",
        "            v &= int(x_bin[j])\n",
        "        val_out ^= v\n",
        "\n",
        "    return val_out\n",
        "\n",
        "polyval(terms,0)\n",
        "\n",
        "def truthtable(terms,max_new_var):\n",
        "    x_num = 2**max_new_var #number of x values possible:\n",
        "    tt = np.empty((x_num,1),dtype='int8')\n",
        "\n",
        "    for i in range(x_num):\n",
        "\n",
        "        tt[i] = polyval(terms,i)\n",
        "\n",
        "    return tt"
      ]
    },
    {
      "cell_type": "code",
      "execution_count": 10,
      "id": "2fa93743-1d38-4c60-9b56-6dda52587ab3",
      "metadata": {
        "id": "2fa93743-1d38-4c60-9b56-6dda52587ab3",
        "tags": []
      },
      "outputs": [
        {
          "name": "stdout",
          "output_type": "stream",
          "text": [
            "CPU times: total: 0 ns\n",
            "Wall time: 985 µs\n"
          ]
        }
      ],
      "source": [
        "%%time\n",
        "ttb = truthtable(terms,max_new_var)\n",
        "#for r in ttb: print(r)\n",
        "#ttb[0:2**(max_new_var - len(ivs))]"
      ]
    },
    {
      "cell_type": "code",
      "execution_count": 11,
      "id": "a175b91b-7a48-49f9-8781-cc4ea2ded7dd",
      "metadata": {
        "colab": {
          "base_uri": "https://localhost:8080/"
        },
        "collapsed": true,
        "id": "a175b91b-7a48-49f9-8781-cc4ea2ded7dd",
        "outputId": "8827441b-a52e-458c-d226-433d65625117",
        "tags": []
      },
      "outputs": [
        {
          "name": "stdout",
          "output_type": "stream",
          "text": [
            "[0] [0] [0] [1] [0] [0] [1] [0] [0] [0] [1] [0] [0] [0] [0] [1] [0] [0] [0] [1] [1] [1] [0] [1] [0] [0] [1] [0] [1] [1] [1] [0]\n"
          ]
        }
      ],
      "source": [
        "print(*ttb, sep=\" \")"
      ]
    },
    {
      "cell_type": "code",
      "execution_count": 13,
      "id": "efbb04d5-a539-4fb6-ab71-07b4f7581b2f",
      "metadata": {
        "colab": {
          "base_uri": "https://localhost:8080/"
        },
        "collapsed": true,
        "id": "efbb04d5-a539-4fb6-ab71-07b4f7581b2f",
        "outputId": "352a6376-da6d-45ca-cf2e-c22101bf9fb7",
        "tags": []
      },
      "outputs": [
        {
          "data": {
            "text/plain": [
              "(0,\n",
              " array([[0],\n",
              "        [0],\n",
              "        [0],\n",
              "        [1],\n",
              "        [0],\n",
              "        [0],\n",
              "        [1],\n",
              "        [0]], dtype=int8))"
            ]
          },
          "execution_count": 13,
          "metadata": {},
          "output_type": "execute_result"
        }
      ],
      "source": [
        "ivs = [j[0] for j in wire_array]\n",
        "ovs = [j[-1] for j in wire_array]\n",
        "\n",
        "#Sifting:\n",
        "\n",
        "def sift_inp(initial_val_int,ttb):\n",
        "    #ivs = [j[0] for j in wire_array]\n",
        "    group_size = 2**(max_new_var - len(ivs))\n",
        "    return group_size*(initial_val_int), ttb[group_size*(initial_val_int):group_size*(initial_val_int+1), :]\n",
        "\n",
        "\n",
        "\n",
        "sift_inp(0,ttb)"
      ]
    },
    {
      "cell_type": "code",
      "execution_count": 14,
      "id": "ba74bd78-e6ef-420d-83a0-5962a17577b8",
      "metadata": {
        "colab": {
          "base_uri": "https://localhost:8080/"
        },
        "id": "ba74bd78-e6ef-420d-83a0-5962a17577b8",
        "outputId": "d940acb2-2c5d-4266-902a-3f58888db082",
        "tags": []
      },
      "outputs": [
        {
          "data": {
            "text/plain": [
              "([0, 1], [2, 4])"
            ]
          },
          "execution_count": 14,
          "metadata": {},
          "output_type": "execute_result"
        }
      ],
      "source": [
        "ivs,ovs"
      ]
    },
    {
      "cell_type": "code",
      "execution_count": 19,
      "id": "a5a687a5-7864-480f-bad3-e053d398965b",
      "metadata": {
        "colab": {
          "base_uri": "https://localhost:8080/"
        },
        "id": "a5a687a5-7864-480f-bad3-e053d398965b",
        "outputId": "4d3eb3a2-b4bb-4145-c889-7c8b29de393b",
        "tags": []
      },
      "outputs": [
        {
          "name": "stdout",
          "output_type": "stream",
          "text": [
            "0.7071067811865474 0.0 0.0 -0.7071067811865474\n"
          ]
        }
      ],
      "source": [
        "#amplitudes:\n",
        "\n",
        "def statevector_(initial_val_int,ttb):\n",
        "    #ovs = [j[-1] for j in wire_array]\n",
        "    stvector = []\n",
        "    #starting_index, sifted_table = sift_inp(initial_val_int,ttb)\n",
        "\n",
        "    group_size = 2**(max_new_var - len(ivs))\n",
        "    starting_index = group_size*(initial_val_int)\n",
        "\n",
        "    '''\n",
        "\n",
        "    for i in range(2**len(ovs)): #In this we scroll through all of the possible values!\n",
        "\n",
        "        bitval  = bin(i)[2:].zfill(len(ovs))\n",
        "        s = []\n",
        "\n",
        "        for k in range(starting_index,starting_index+group_size):\n",
        "            indexval = k+starting_index\n",
        "            chosenbits = \"\".join([(bin(k)[2:].zfill((max_new_var)))[j] for j in ovs])\n",
        "            if chosenbits == bitval:\n",
        "                s.append(ttb[k])\n",
        "        #print(1-2*np.array(s))\n",
        "\n",
        "        '''\n",
        "\n",
        "    s = np.zeros(2**len(ovs),dtype=int)\n",
        "    for k in range(starting_index,starting_index+group_size):\n",
        "        chosenbits = \"\".join([(bin(k)[2:].zfill(max_new_var))[j] for j in ovs])\n",
        "        chosen_int = int(chosenbits,2)\n",
        "        s[chosen_int] += (1-2*ttb[k,0])\n",
        "\n",
        "\n",
        "\n",
        "\n",
        " \n",
        "    #s_sum = np.sum(1-2*np.array(s,dtype='int'))\n",
        "\n",
        "        #print(bitval,':',( s_sum / ((2**.5)**(max_new_var - len(ivs)) )))\n",
        "    #stvector.append( s_sum / (2**.5)**(max_new_var - len(ivs)))\n",
        "\n",
        "    stvector = s / (2**.5)**(max_new_var - len(ivs))\n",
        "\n",
        "    return stvector\n",
        "\n",
        "# state_vector = [el for el in statevector_(0,ttb) if el!=0]\n",
        "state_vector = statevector_(2, ttb)\n",
        "print(*state_vector, sep=' ')\n"
      ]
    },
    {
      "cell_type": "code",
      "execution_count": 21,
      "id": "J-38_vnCcpIj",
      "metadata": {
        "colab": {
          "base_uri": "https://localhost:8080/"
        },
        "id": "J-38_vnCcpIj",
        "outputId": "5b4a58b8-e45e-489a-e33a-cc48435cedd9"
      },
      "outputs": [
        {
          "data": {
            "text/plain": [
              "1"
            ]
          },
          "execution_count": 21,
          "metadata": {},
          "output_type": "execute_result"
        }
      ],
      "source": [
        "ttb[3,0]"
      ]
    },
    {
      "cell_type": "markdown",
      "id": "08222fe8-1dab-4dd6-b04d-03375b264ce3",
      "metadata": {
        "id": "08222fe8-1dab-4dd6-b04d-03375b264ce3"
      },
      "source": [
        "# IMP\n",
        "\n",
        "I was able to build all components of this simulator (yet to add a histogram but the statevector thing is done). below, I have defined a single function to display the results.\n",
        "I feel we can structure the code a bit more to return an object which is easier to work with."
      ]
    },
    {
      "cell_type": "code",
      "execution_count": 22,
      "id": "7cbe458c-1a75-4364-920c-c2d0a982cfa2",
      "metadata": {
        "id": "7cbe458c-1a75-4364-920c-c2d0a982cfa2",
        "tags": []
      },
      "outputs": [],
      "source": [
        "\n",
        "\n",
        "def simulate_viapoly(qc):\n",
        "\n",
        "    #part 1: obtaining the polynomial\n",
        "    width = qc_.width()\n",
        "\n",
        "    from collections import Counter\n",
        "    hcount = list(instruction.operation.name for index, instruction in enumerate(qc_.data)).count('h')\n",
        "    list_ = [(instruction.operation.name, [ qc_.find_bit(q).index for q in instruction.qubits]) for index, instruction in enumerate(qc_.data)]\n",
        "\n",
        "    number_of_variables = width + hcount\n",
        "    wire_array = [[i] for i in range(width)]\n",
        "    max_new_var = width\n",
        "    terms = []\n",
        "\n",
        "    for entry in list_:\n",
        "        gate = entry[0]\n",
        "        elements = entry[1]\n",
        "\n",
        "        if gate == 'h':\n",
        "            wire_array[elements[0]].append(max_new_var)\n",
        "            #print(wire_array[elements[0]])\n",
        "            max_new_var+=1\n",
        "            terms.append([wire_array[elements[0]][-1],wire_array[elements[0]][-2]])\n",
        "\n",
        "\n",
        "        else:\n",
        "            terms.append([wire_array[j][-1] for j in elements])\n",
        "\n",
        "    for term in terms:\n",
        "        term.sort()\n",
        "        '''for j in term:\n",
        "            print('x'+str(j),end='')\n",
        "        print(' +',end=' ')\n",
        "    print('\\n')'''\n",
        "\n",
        "    #print(terms)\n",
        "\n",
        "    #part 2: getting the truthtable\n",
        "\n",
        "    ttb = truthtable(terms,max_new_var)\n",
        "\n",
        "    #part 3: obtaining which variables are input and output variables\n",
        "    ivs = [j[0] for j in wire_array]\n",
        "    ovs = [j[-1] for j in wire_array]\n",
        "\n",
        "    #print('\\n')\n",
        "    #part 4: statevector obtaining for all possible initialised states:\n",
        "    #First, we try to see all possible values of initialised states:\n",
        "    instates = range(2**len(ivs))\n",
        "    '''\n",
        "    for instate in instates:\n",
        "        print('For initial state ',instate,':')\n",
        "        sv = statevector_(instate,ttb)\n",
        "        print(sv,'\\n')\n",
        "    '''\n",
        "    results = {instate:statevector_(instate,ttb) for instate in instates}\n",
        "    return results\n"
      ]
    },
    {
      "cell_type": "markdown",
      "id": "66580863",
      "metadata": {},
      "source": [
        "#### Polynomil Simulator"
      ]
    },
    {
      "cell_type": "code",
      "execution_count": 24,
      "id": "92947e84",
      "metadata": {},
      "outputs": [],
      "source": [
        "# qc_ = random_cirq_number_gates(200, 15)"
      ]
    },
    {
      "cell_type": "code",
      "execution_count": 25,
      "id": "2e0a94f3",
      "metadata": {},
      "outputs": [
        {
          "name": "stdout",
          "output_type": "stream",
          "text": [
            "CPU times: total: 0 ns\n",
            "Wall time: 996 µs\n"
          ]
        }
      ],
      "source": [
        "%%time\n",
        "res = simulate_viapoly(qc_)"
      ]
    },
    {
      "cell_type": "markdown",
      "id": "e7808c15",
      "metadata": {},
      "source": [
        "#### DDSIM"
      ]
    },
    {
      "cell_type": "code",
      "execution_count": 26,
      "id": "c901663b",
      "metadata": {},
      "outputs": [],
      "source": [
        "from mqt import ddsim"
      ]
    },
    {
      "cell_type": "code",
      "execution_count": 27,
      "id": "11590a23-dd5f-4b2f-9a7d-a51b6686ac24",
      "metadata": {
        "colab": {
          "base_uri": "https://localhost:8080/"
        },
        "id": "11590a23-dd5f-4b2f-9a7d-a51b6686ac24",
        "outputId": "6894777b-88ec-49a6-b885-df3a6f4c48fb",
        "tags": []
      },
      "outputs": [
        {
          "name": "stdout",
          "output_type": "stream",
          "text": [
            "CPU times: total: 0 ns\n",
            "Wall time: 25 ms\n"
          ]
        }
      ],
      "source": [
        "%%time \n",
        "backend = ddsim.DDSIMProvider().get_backend(\"qasm_simulator\")\n",
        "\n",
        "job = backend.run(qc_, shots=10000)\n",
        "counts = job.result().get_counts(qc_)\n",
        "# print(counts)"
      ]
    },
    {
      "cell_type": "markdown",
      "id": "f558634d-1d34-4aef-a0c2-8246e20fc338",
      "metadata": {
        "id": "f558634d-1d34-4aef-a0c2-8246e20fc338",
        "tags": []
      },
      "source": [
        "I was able to basically simulate the circuit without having to define a vector storing the boolean in ANF form. However, the vector form calculation is still there below.\n",
        "## Vector THingy (hiddenfornow)\n",
        "\n",
        "This approach returns - which terms are there. Now defining a vector correspoing to the polynomial is a bit tricky (not really tricky but thoda tiring) since the mapping is v v confusing for large number of terms, so I have defined a reference vector to get the coordinate. Appropriate zero padding is done in a later step."
      ]
    },
    {
      "cell_type": "code",
      "execution_count": 28,
      "id": "9c5737b3-cf44-4962-9996-25cd07f3691f",
      "metadata": {
        "colab": {
          "base_uri": "https://localhost:8080/"
        },
        "collapsed": true,
        "id": "9c5737b3-cf44-4962-9996-25cd07f3691f",
        "jupyter": {
          "outputs_hidden": true
        },
        "outputId": "5acf5f5a-9296-4f4e-95ac-3c10e24e7476",
        "tags": []
      },
      "outputs": [
        {
          "name": "stdout",
          "output_type": "stream",
          "text": [
            "0 : [0]\n",
            "1 : [1]\n",
            "2 : [2]\n",
            "3 : [3]\n",
            "4 : [4]\n",
            "5 : [0, 1]\n",
            "6 : [0, 2]\n",
            "7 : [0, 3]\n",
            "8 : [0, 4]\n",
            "9 : [1, 2]\n",
            "10 : [1, 3]\n",
            "11 : [1, 4]\n",
            "12 : [2, 3]\n",
            "13 : [2, 4]\n",
            "14 : [3, 4]\n",
            "15 : [0, 1, 2]\n",
            "16 : [0, 1, 3]\n",
            "17 : [0, 1, 4]\n",
            "18 : [0, 2, 3]\n",
            "19 : [0, 2, 4]\n",
            "20 : [0, 3, 4]\n",
            "21 : [1, 2, 3]\n",
            "22 : [1, 2, 4]\n",
            "23 : [1, 3, 4]\n",
            "24 : [2, 3, 4]\n"
          ]
        }
      ],
      "source": [
        "#Note: I am defining a reference vector:\n",
        "#[i] + [{i,j} for every possible {i,j}] + [{i,j,k} ]\n",
        "\n",
        "l1 = [[i] for i in range(max_new_var)]\n",
        "l2 = [[j,i] for i in range(max_new_var) for j in range(i)]\n",
        "l2.sort()\n",
        "l3 = [[k,j,i] for i in range(max_new_var) for j in range(i) for k in range(j)]\n",
        "l3.sort()\n",
        "\n",
        "lref = l1+l2+l3\n",
        "for j in range(len(lref)):\n",
        "    print(j,':',lref[j])\n",
        "\n"
      ]
    },
    {
      "cell_type": "code",
      "execution_count": 29,
      "id": "f25e0113-51c8-47c9-83d1-6ca6c92bd42b",
      "metadata": {
        "id": "f25e0113-51c8-47c9-83d1-6ca6c92bd42b",
        "tags": []
      },
      "outputs": [],
      "source": [
        "def pos_2(i,j):\n",
        "    return max_new_var + 0.5*i*(2*max_new_var-i-1) + (j-i-1)\n",
        "\n",
        "def pos_3(i,j,k):\n",
        "    return (max_new_var + max_new_var*(max_new_var-1)/2) + 0.5*i*((i+1)*(2*i+1)/6 - (2*max_new_var-1)*(i+1)/2 + max_new_var*(max_new_var-1)) +0.5*(j-i-1)*(2*max_new_var-j-i-2)+(k-j-1)\n",
        "pos_3(0,2,4)\n",
        "\n",
        "def polyterm_index(term):\n",
        "    if len(term) == 3:\n",
        "        i,j,k = term\n",
        "        pos = (max_new_var + max_new_var*(max_new_var-1)/2) + 0.5*i*((i+1)*(2*i+1)/6 - (2*max_new_var-1)*(i+1)/2 + max_new_var*(max_new_var-1)) +0.5*(j-i-1)*(2*max_new_var-j-i-2)+(k-j-1)\n",
        "    elif len(term) == 2:\n",
        "        i,j = term\n",
        "        pos = max_new_var + 0.5*i*(2*max_new_var-i-1) + (j-i-1)\n",
        "    elif len(term) == 1:\n",
        "        i = term[0]\n",
        "        pos = i\n",
        "    return int(pos)\n",
        "\n"
      ]
    },
    {
      "cell_type": "code",
      "execution_count": 30,
      "id": "9b4e4b60-709d-4a1c-9b70-8539d562f9b6",
      "metadata": {
        "colab": {
          "base_uri": "https://localhost:8080/"
        },
        "collapsed": true,
        "id": "9b4e4b60-709d-4a1c-9b70-8539d562f9b6",
        "jupyter": {
          "outputs_hidden": true
        },
        "outputId": "4acea448-6542-4073-d01b-77f5900c7539",
        "tags": []
      },
      "outputs": [
        {
          "data": {
            "text/plain": [
              "array([0, 0, 0, 0, 0, 0, 1, 0, 0, 0, 1, 0, 1, 0, 1, 0, 0, 0, 0, 0, 0, 0,\n",
              "       0, 0, 0])"
            ]
          },
          "execution_count": 30,
          "metadata": {},
          "output_type": "execute_result"
        }
      ],
      "source": [
        "l_length = int(max_new_var*(max_new_var**2 + 5)/6 )\n",
        "l_pol_short = np.zeros(l_length,dtype=int)\n",
        "for t in terms:\n",
        "    in_ = polyterm_index(t)\n",
        "    if l_pol_short[in_]: l_pol_short[in_]=0\n",
        "    else: l_pol_short[in_]=1\n",
        "l_pol_short"
      ]
    },
    {
      "cell_type": "code",
      "execution_count": 31,
      "id": "804912ce-dd43-4fb1-bdb9-856ba96ed2db",
      "metadata": {
        "id": "804912ce-dd43-4fb1-bdb9-856ba96ed2db",
        "tags": []
      },
      "outputs": [],
      "source": [
        "from math import *\n",
        "l_pol = np.array([terms.count(i)%2 for i in lref])\n",
        "#for i in range(len(l_pol)):\n",
        "#    print(lref[i],':',l_pol[i])"
      ]
    },
    {
      "cell_type": "code",
      "execution_count": 32,
      "id": "c257cb4c-e1b4-402a-9b98-73fb31de0cc4",
      "metadata": {
        "id": "c257cb4c-e1b4-402a-9b98-73fb31de0cc4",
        "tags": []
      },
      "outputs": [],
      "source": [
        "polyvector_big = np.pad(l_pol, (1, 2**(max_new_var)-len(l_pol)-1), 'constant')"
      ]
    },
    {
      "cell_type": "markdown",
      "id": "4971bd71-399f-4163-9e1d-be41c6eae52d",
      "metadata": {
        "id": "4971bd71-399f-4163-9e1d-be41c6eae52d",
        "tags": []
      },
      "source": [
        "###### l_pol"
      ]
    },
    {
      "cell_type": "code",
      "execution_count": 33,
      "id": "6813de8b-563e-47ec-b7c0-8c5aba831d2f",
      "metadata": {
        "colab": {
          "base_uri": "https://localhost:8080/"
        },
        "collapsed": true,
        "id": "6813de8b-563e-47ec-b7c0-8c5aba831d2f",
        "jupyter": {
          "outputs_hidden": true
        },
        "outputId": "f2bfc5b5-9666-4b1e-fe84-813a19561cc5",
        "tags": []
      },
      "outputs": [
        {
          "name": "stdout",
          "output_type": "stream",
          "text": [
            "32\n"
          ]
        },
        {
          "data": {
            "text/plain": [
              "array([0, 0, 0, 0, 0, 0, 0, 1, 0, 0, 0, 1, 0, 1, 0, 1, 0, 0, 0, 0, 0, 0,\n",
              "       0, 0, 0, 0, 0, 0, 0, 0, 0, 0])"
            ]
          },
          "execution_count": 33,
          "metadata": {},
          "output_type": "execute_result"
        }
      ],
      "source": [
        "print(len(polyvector_big))\n",
        "polyvector_big"
      ]
    },
    {
      "cell_type": "markdown",
      "id": "e6cd00bd-81f6-4563-af7a-835a728f738f",
      "metadata": {
        "id": "e6cd00bd-81f6-4563-af7a-835a728f738f"
      },
      "source": [
        "# Output from qiskit statevector simulator\n"
      ]
    },
    {
      "cell_type": "code",
      "execution_count": 34,
      "id": "923d9208-d432-4a78-b1bb-700027126436",
      "metadata": {
        "colab": {
          "base_uri": "https://localhost:8080/"
        },
        "id": "923d9208-d432-4a78-b1bb-700027126436",
        "outputId": "66cc6f51-07c8-469a-83ff-4147bdd3533d"
      },
      "outputs": [
        {
          "name": "stdout",
          "output_type": "stream",
          "text": [
            "Statevector([0.70710678-4.32978028e-17j, 0.        +4.32978028e-17j,\n",
            "             0.        +4.32978028e-17j, 0.70710678-4.32978028e-17j],\n",
            "            dims=(2, 2))\n",
            "{'00': 0.5, '11': 0.5}\n"
          ]
        }
      ],
      "source": [
        "\n",
        "from qiskit_aer import StatevectorSimulator\n",
        "backend = StatevectorSimulator()\n",
        "res = backend.run(qc_).result()\n",
        "print(res.get_statevector())\n",
        "print(res.get_counts())\n",
        "\n"
      ]
    },
    {
      "cell_type": "code",
      "execution_count": null,
      "id": "0FyCz-9bo2Yt",
      "metadata": {
        "colab": {
          "base_uri": "https://localhost:8080/"
        },
        "collapsed": true,
        "id": "0FyCz-9bo2Yt",
        "outputId": "1c672f01-870b-4a3a-a5d9-f6659f01fe79"
      },
      "outputs": [
        {
          "name": "stdout",
          "output_type": "stream",
          "text": [
            "Collecting qiskit_aer\n",
            "  Downloading qiskit_aer-0.14.2-cp310-cp310-manylinux_2_17_x86_64.manylinux2014_x86_64.whl (12.4 MB)\n",
            "\u001b[2K     \u001b[90m━━━━━━━━━━━━━━━━━━━━━━━━━━━━━━━━━━━━━━━━\u001b[0m \u001b[32m12.4/12.4 MB\u001b[0m \u001b[31m33.2 MB/s\u001b[0m eta \u001b[36m0:00:00\u001b[0m\n",
            "\u001b[?25hRequirement already satisfied: qiskit>=0.45.2 in /usr/local/lib/python3.10/dist-packages (from qiskit_aer) (1.1.1)\n",
            "Requirement already satisfied: numpy>=1.16.3 in /usr/local/lib/python3.10/dist-packages (from qiskit_aer) (1.25.2)\n",
            "Requirement already satisfied: scipy>=1.0 in /usr/local/lib/python3.10/dist-packages (from qiskit_aer) (1.11.4)\n",
            "Requirement already satisfied: psutil>=5 in /usr/local/lib/python3.10/dist-packages (from qiskit_aer) (5.9.5)\n",
            "Requirement already satisfied: rustworkx>=0.14.0 in /usr/local/lib/python3.10/dist-packages (from qiskit>=0.45.2->qiskit_aer) (0.15.1)\n",
            "Requirement already satisfied: sympy>=1.3 in /usr/local/lib/python3.10/dist-packages (from qiskit>=0.45.2->qiskit_aer) (1.12.1)\n",
            "Requirement already satisfied: dill>=0.3 in /usr/local/lib/python3.10/dist-packages (from qiskit>=0.45.2->qiskit_aer) (0.3.8)\n",
            "Requirement already satisfied: python-dateutil>=2.8.0 in /usr/local/lib/python3.10/dist-packages (from qiskit>=0.45.2->qiskit_aer) (2.8.2)\n",
            "Requirement already satisfied: stevedore>=3.0.0 in /usr/local/lib/python3.10/dist-packages (from qiskit>=0.45.2->qiskit_aer) (5.2.0)\n",
            "Requirement already satisfied: typing-extensions in /usr/local/lib/python3.10/dist-packages (from qiskit>=0.45.2->qiskit_aer) (4.12.2)\n",
            "Requirement already satisfied: symengine>=0.11 in /usr/local/lib/python3.10/dist-packages (from qiskit>=0.45.2->qiskit_aer) (0.11.0)\n",
            "Requirement already satisfied: six>=1.5 in /usr/local/lib/python3.10/dist-packages (from python-dateutil>=2.8.0->qiskit>=0.45.2->qiskit_aer) (1.16.0)\n",
            "Requirement already satisfied: pbr!=2.1.0,>=2.0.0 in /usr/local/lib/python3.10/dist-packages (from stevedore>=3.0.0->qiskit>=0.45.2->qiskit_aer) (6.0.0)\n",
            "Requirement already satisfied: mpmath<1.4.0,>=1.1.0 in /usr/local/lib/python3.10/dist-packages (from sympy>=1.3->qiskit>=0.45.2->qiskit_aer) (1.3.0)\n",
            "Installing collected packages: qiskit_aer\n",
            "Successfully installed qiskit_aer-0.14.2\n"
          ]
        }
      ],
      "source": [
        "!pip install qiskit_aer"
      ]
    },
    {
      "cell_type": "code",
      "execution_count": null,
      "id": "75c3cb5a-d512-4906-a829-61c400173f8f",
      "metadata": {
        "colab": {
          "base_uri": "https://localhost:8080/",
          "height": 94
        },
        "id": "75c3cb5a-d512-4906-a829-61c400173f8f",
        "outputId": "6ae15562-6024-4bca-a02d-91a44750bbf8",
        "tags": []
      },
      "outputs": [
        {
          "data": {
            "text/html": [
              "<pre style=\"word-wrap: normal;white-space: pre;background: #fff0;line-height: 1.1;font-family: &quot;Courier New&quot;,Courier,monospace\">     ┌───┐        \n",
              "q_0: ┤ H ├─■──────\n",
              "     ├───┤ │ ┌───┐\n",
              "q_1: ┤ H ├─■─┤ H ├\n",
              "     └───┘   └───┘</pre>"
            ],
            "text/plain": [
              "     ┌───┐        \n",
              "q_0: ┤ H ├─■──────\n",
              "     ├───┤ │ ┌───┐\n",
              "q_1: ┤ H ├─■─┤ H ├\n",
              "     └───┘   └───┘"
            ]
          },
          "execution_count": 34,
          "metadata": {},
          "output_type": "execute_result"
        }
      ],
      "source": [
        "qc_.draw()"
      ]
    },
    {
      "cell_type": "code",
      "execution_count": null,
      "id": "4b12f90c-e6a2-409b-a06b-0a7ca44de440",
      "metadata": {
        "id": "4b12f90c-e6a2-409b-a06b-0a7ca44de440"
      },
      "outputs": [],
      "source": []
    },
    {
      "cell_type": "markdown",
      "id": "e7d2798c-aa62-4027-b829-aae897b72078",
      "metadata": {
        "id": "e7d2798c-aa62-4027-b829-aae897b72078",
        "tags": []
      },
      "source": [
        "# Random Circuit Generation\n",
        "\n",
        "The below code generates a random circuit with the following parameters:\n",
        "1. Width = Number of Qubits/Wires\n",
        "2. Depth = Number of layers of simultaneously operating gates\n",
        "3. HGates = (Cap on) Number of Hadamard Gates\n",
        "\n",
        "##### [NOTE: There are chances of number of hadamards coming out to be lower. It is currently challenging to exactly monitor the number of hadamard gates for us but we can regulate it by fixing a cap.]\n",
        "\n",
        "    \n",
        "    "
      ]
    },
    {
      "cell_type": "code",
      "execution_count": null,
      "id": "a1b6be03-cb04-4b60-8d96-e0ce74fce903",
      "metadata": {
        "id": "a1b6be03-cb04-4b60-8d96-e0ce74fce903",
        "tags": []
      },
      "outputs": [],
      "source": [
        "def rnd_cg(width,depth,hgates=None):\n",
        "\n",
        "    if hgates==None: hgates=width*depth\n",
        "\n",
        "\n",
        "    qc = QuantumCircuit(width)\n",
        "\n",
        "    list_of_gates = [(qc.h,1),(qc.z,1),(qc.cz,2),(qc.ccz,3)]\n",
        "    if width<=2: del(list_of_gates[-1])\n",
        "    if width<=1: del(list_of_gates[-1])\n",
        "    #counts = {}\n",
        "    lasgate = [None for i in range(width)]\n",
        "\n",
        "\n",
        "    hcounter=0\n",
        " #   for i in range(number_of_gates):\n",
        "\n",
        "\n",
        "    while qc.depth()<depth+1:\n",
        "        gate,arg = choice(list_of_gates)\n",
        "        inp = []\n",
        "\n",
        "        #print(width,arg)\n",
        "\n",
        "        inp = sample(range(0,width),arg)\n",
        "        inp.sort()\n",
        "        #print(gate,inp)\n",
        "\n",
        "        #Check if [gate,inp] already in the circuit:\n",
        "        if lasgate.count([gate,inp])!=arg:\n",
        "            #print([gate,inp],arg)\n",
        "            for i in inp:\n",
        "                lasgate[i]=[gate,inp]\n",
        "            gate(*inp)\n",
        "\n",
        "#        try: counts[gate] +=1\n",
        "#        except KeyError: counts[gate] = 1\n",
        "\n",
        "            hcounter+=int(gate==qc.h)\n",
        "\n",
        "        if qc.depth() == depth+1:\n",
        "            hcounter+=(-int(gate==qc.h))\n",
        "            del(qc.data[-1])\n",
        "            break\n",
        "\n",
        "        if hcounter==hgates:\n",
        "            if list_of_gates[0]==(qc.h,1):\n",
        "                del(list_of_gates[0])\n",
        "\n",
        "\n",
        "        #print(qc.depth())\n",
        "    #for i in lasgate:\n",
        "    #    print(i)\n",
        "    return qc,hcounter\n",
        "\n"
      ]
    },
    {
      "cell_type": "code",
      "execution_count": null,
      "id": "b8a19270-0bce-499a-b7c7-1d75066e57af",
      "metadata": {
        "colab": {
          "base_uri": "https://localhost:8080/"
        },
        "id": "b8a19270-0bce-499a-b7c7-1d75066e57af",
        "outputId": "04371b38-451a-4bc4-9898-e2303c8cfb49",
        "tags": []
      },
      "outputs": [
        {
          "name": "stdout",
          "output_type": "stream",
          "text": [
            "5\n"
          ]
        }
      ],
      "source": [
        "qc,hg = rnd_cg(7,10)\n",
        "print(hg)"
      ]
    },
    {
      "cell_type": "code",
      "execution_count": null,
      "id": "7bb9e550-1ca4-43e8-87d5-5e4e1814bd67",
      "metadata": {
        "colab": {
          "base_uri": "https://localhost:8080/",
          "height": 248
        },
        "id": "7bb9e550-1ca4-43e8-87d5-5e4e1814bd67",
        "outputId": "3ea4d3e7-d9b5-4dcf-8ff3-79c0c2b96861",
        "tags": []
      },
      "outputs": [
        {
          "data": {
            "text/html": [
              "<pre style=\"word-wrap: normal;white-space: pre;background: #fff0;line-height: 1.1;font-family: &quot;Courier New&quot;,Courier,monospace\">                                                          \n",
              "q_0: ────■─────────────■────────────────────■────────■────\n",
              "         │             │              ┌───┐ │        │    \n",
              "q_1: ─■──┼───────■──■──┼────────────■─┤ Z ├─┼─────■──┼──■─\n",
              "      │  │ ┌───┐ │  │  │            │ └───┘ │     │  │  │ \n",
              "q_2: ─┼──┼─┤ H ├─┼──┼──┼────────────┼───────┼─────┼──■──┼─\n",
              "      │  │ └───┘ │  │  │ ┌───┐┌───┐ │       │     │  │  │ \n",
              "q_3: ─■──┼───────┼──■──┼─┤ Z ├┤ H ├─┼───────■──■──■──┼──■─\n",
              "         │ ┌───┐ │  │  │ ├───┤└───┘ │ ┌───┐    │  │  │    \n",
              "q_4: ────■─┤ H ├─■──┼──■─┤ Z ├──────■─┤ H ├────■──┼──■────\n",
              "         │ └───┘ │  │    └───┘        └───┘       │       \n",
              "q_5: ────■───────■──■─────────────────────────────┼───────\n",
              "           ┌───┐                                  │       \n",
              "q_6: ──────┤ H ├──────────────────────────────────■───────\n",
              "           └───┘                                          </pre>"
            ],
            "text/plain": [
              "                                                          \n",
              "q_0: ────■─────────────■────────────────────■────────■────\n",
              "         │             │              ┌───┐ │        │    \n",
              "q_1: ─■──┼───────■──■──┼────────────■─┤ Z ├─┼─────■──┼──■─\n",
              "      │  │ ┌───┐ │  │  │            │ └───┘ │     │  │  │ \n",
              "q_2: ─┼──┼─┤ H ├─┼──┼──┼────────────┼───────┼─────┼──■──┼─\n",
              "      │  │ └───┘ │  │  │ ┌───┐┌───┐ │       │     │  │  │ \n",
              "q_3: ─■──┼───────┼──■──┼─┤ Z ├┤ H ├─┼───────■──■──■──┼──■─\n",
              "         │ ┌───┐ │  │  │ ├───┤└───┘ │ ┌───┐    │  │  │    \n",
              "q_4: ────■─┤ H ├─■──┼──■─┤ Z ├──────■─┤ H ├────■──┼──■────\n",
              "         │ └───┘ │  │    └───┘        └───┘       │       \n",
              "q_5: ────■───────■──■─────────────────────────────┼───────\n",
              "           ┌───┐                                  │       \n",
              "q_6: ──────┤ H ├──────────────────────────────────■───────\n",
              "           └───┘                                          "
            ]
          },
          "execution_count": 11,
          "metadata": {},
          "output_type": "execute_result"
        }
      ],
      "source": [
        "qc.draw()"
      ]
    },
    {
      "cell_type": "markdown",
      "id": "653075f8-9c61-4af7-81c5-8196e5a3c706",
      "metadata": {
        "id": "653075f8-9c61-4af7-81c5-8196e5a3c706",
        "tags": []
      },
      "source": [
        "# Analysis of the random circuits:\n",
        "\n",
        "Now to perform an analysis, we use random circuits formed from various parameters and keep track of\n",
        "\n",
        "1. (parameter) Width 'n'\n",
        "2. (parameter) Depth 'd'\n",
        "3. (parameter) No. of hadamard gates 'h'\n",
        "4. Simulation Runtime\n",
        "\n",
        "We do the sampling 2 (cuz 3 was giving a complication) times, each time effectively generating data for a surface plot for two of the parameters v/s simulation runtime. I have modified the original function to just save the result into an object instead of printing it, since as of now our simulation tools are capableof simulating circuits upto 10-11 qubits at a decent speed. Have removed all print statements to prevent crashes occuring due to excessive printing.\n",
        "\n"
      ]
    },
    {
      "cell_type": "code",
      "execution_count": null,
      "id": "b252d1b7-e79c-4dd6-8844-b311dbac52d6",
      "metadata": {
        "id": "b252d1b7-e79c-4dd6-8844-b311dbac52d6"
      },
      "outputs": [],
      "source": []
    },
    {
      "cell_type": "code",
      "execution_count": null,
      "id": "5611b1b8-607d-4009-aa4e-42dfe576540f",
      "metadata": {
        "colab": {
          "base_uri": "https://localhost:8080/",
          "height": 35
        },
        "id": "5611b1b8-607d-4009-aa4e-42dfe576540f",
        "outputId": "93e0b432-c88c-426f-dbac-089197feb3e4",
        "tags": []
      },
      "outputs": [
        {
          "data": {
            "application/vnd.google.colaboratory.intrinsic+json": {
              "type": "string"
            },
            "text/plain": [
              "'\\nThe following fields go into table\\n    QC = generated quantum circuit\\n    n = Width\\n    d = Depth\\n    h = Hadamard Count\\n    R = runtime\\n'"
            ]
          },
          "execution_count": 63,
          "metadata": {},
          "output_type": "execute_result"
        }
      ],
      "source": [
        "import pandas as pd\n",
        "from time import time\n",
        "from qiskit import qasm3\n",
        "\n",
        "\"\"\"\n",
        "The following fields go into table\n",
        "    QC = generated quantum circuit\n",
        "    n = Width\n",
        "    d = Depth\n",
        "    h = Hadamard Count\n",
        "    R = runtime\n",
        "\"\"\""
      ]
    },
    {
      "cell_type": "code",
      "execution_count": null,
      "id": "9901153f-e5e8-4662-8aec-bda4191fda8f",
      "metadata": {
        "colab": {
          "base_uri": "https://localhost:8080/"
        },
        "id": "9901153f-e5e8-4662-8aec-bda4191fda8f",
        "outputId": "c9767f96-0ab2-4c51-f78c-376f67fe9124",
        "tags": []
      },
      "outputs": [
        {
          "name": "stdout",
          "output_type": "stream",
          "text": [
            "                                                     QC  Width(n)  Depth  \\\n",
            "0                                            [(h, [0])]         1      1   \n",
            "1                                            [(h, [0])]         1      1   \n",
            "2                                            [(h, [0])]         1      1   \n",
            "3                                            [(z, [0])]         1      1   \n",
            "4                              [(cz, [2, 3]), (h, [0])]         5      1   \n",
            "...                                                 ...       ...    ...   \n",
            "5995  [(z, [0]), (h, [0]), (z, [0]), (h, [0]), (z, [...         1      6   \n",
            "5996  [(z, [1]), (cz, [0, 1]), (z, [1]), (h, [0]), (...         2      6   \n",
            "5997  [(z, [1]), (z, [3]), (h, [4]), (cz, [4, 5]), (...         6      6   \n",
            "5998  [(h, [0]), (h, [1]), (cz, [0, 1]), (h, [1]), (...         2      6   \n",
            "5999  [(h, [0]), (h, [1]), (z, [0]), (cz, [0, 1]), (...         2      6   \n",
            "\n",
            "      Hadamard Counts   Runtime  \n",
            "0                   1  0.000732  \n",
            "1                   1  0.000589  \n",
            "2                   1  0.002291  \n",
            "3                   0  0.000542  \n",
            "4                   1  0.000814  \n",
            "...               ...       ...  \n",
            "5995                3  0.000304  \n",
            "5996                2  0.000295  \n",
            "5997                4  0.000300  \n",
            "5998                4  0.000309  \n",
            "5999                4  0.000303  \n",
            "\n",
            "[6000 rows x 5 columns]\n",
            "                                                     QC  Width(n)  Depth  \\\n",
            "0                                            [(h, [0])]         2      1   \n",
            "1                        [(h, [0]), (z, [0]), (h, [0])]         2      3   \n",
            "2     [(h, [0]), (z, [0]), (h, [0]), (z, [0]), (h, [...         2      5   \n",
            "3              [(z, [0]), (h, [0]), (z, [0]), (h, [0])]         2      4   \n",
            "4                                            [(h, [0])]         2      1   \n",
            "...                                                 ...       ...    ...   \n",
            "5995  [(cz, [1, 3]), (h, [4]), (cz, [2, 3]), (z, [5]...         2      3   \n",
            "5996  [(z, [0]), (z, [3]), (ccz, [1, 2, 4]), (ccz, [...         2      6   \n",
            "5997  [(cz, [1, 3]), (cz, [0, 1]), (ccz, [0, 2, 5]),...         2      6   \n",
            "5998  [(z, [2]), (cz, [0, 2]), (h, [3]), (z, [5]), (...         2      4   \n",
            "5999                                         [(h, [3])]         2      1   \n",
            "\n",
            "      Hadamard Counts   Runtime  \n",
            "0                   1  0.000420  \n",
            "1                   2  0.000401  \n",
            "2                   3  0.000400  \n",
            "3                   2  0.000396  \n",
            "4                   1  0.000322  \n",
            "...               ...       ...  \n",
            "5995                3  0.000416  \n",
            "5996                3  0.000391  \n",
            "5997                1  0.000415  \n",
            "5998                1  0.000397  \n",
            "5999                1  0.000435  \n",
            "\n",
            "[6000 rows x 5 columns]\n"
          ]
        }
      ],
      "source": [
        "#Part 1: n vs h at a given d: We fix d at some depths and obtain n - h - runtime data\n",
        "\n",
        "df_fixed_d = pd.DataFrame()\n",
        "\n",
        "#We will iterate d = 1 to 6 and in each iteration we generate 1000 (will change value) of random circuits for random input values of n.\n",
        "#I am not setting any bar on the number of hadamards for now, and I will allow the width to vary randomly between 1 to 6\n",
        "\n",
        "for d in range(1,7):\n",
        "    for i in range(1000):\n",
        "        #Step 1: Choose a width\n",
        "        width = randrange(1,7)\n",
        "        #Step 2: Generate Random Circuit\n",
        "        qc,hg = rnd_cg(width,d)\n",
        "        #Step 3: Compute computation time of simulation of result\n",
        "        start_time = time()\n",
        "        simulate_viapoly(qc)#not storing it anywhere as of now\n",
        "        runtime = time() - start_time\n",
        "        #Step 4: Add record in our dataframe\n",
        "        recd = {\"QC\":[(instruction.operation.name,[qc.find_bit(q).index for q in instruction.qubits]) for index, instruction in enumerate(qc.data)],\n",
        "                \"Width(n)\":width,\n",
        "                \"Depth\":d,\n",
        "                \"Hadamard Counts\":hg,\n",
        "                \"Runtime\":runtime}\n",
        "        df_fixed_d = df_fixed_d._append(recd,ignore_index=True)\n",
        "\n",
        "print(df_fixed_d)\n",
        "\n",
        "#Part 2: now we do d vs h at a given h. We fix n at some number of qubits and obtain d - h - runtime data,\n",
        "\n",
        "df_fixed_n = pd.DataFrame()\n",
        "\n",
        "#We will iterate n = 1 to 6 and in each iteration we generate 1000 (will change value) of random circuits for random input values of n.\n",
        "#I am not setting any bar on the number of hadamards for now, and I will allow the width to vary randomly between 1 to 6\n",
        "\n",
        "\n",
        "for n in range(1,7):\n",
        "    for i in range(1000):\n",
        "        #Step 1: Choose a depth\n",
        "        d = randrange(1,7)\n",
        "        #Step 2: Generate Random Circuit\n",
        "        qc,hg = rnd_cg(n,d)\n",
        "        #Step 3: Compute computation time of simulation of result\n",
        "        start_time = time()\n",
        "        simulate_viapoly(qc)#not storing it anywhere as of now\n",
        "        runtime = time() - start_time\n",
        "        #Step 4: Add record in our dataframe\n",
        "        recd = {\"QC\":[(instruction.operation.name,[qc.find_bit(q).index for q in instruction.qubits]) for index, instruction in enumerate(qc.data)],#qasm3.dumps(qc),\n",
        "                \"Width(n)\":width,\n",
        "                \"Depth\":d,\n",
        "                \"Hadamard Counts\":hg,\n",
        "                \"Runtime\":runtime}\n",
        "        df_fixed_n = df_fixed_n._append(recd,ignore_index=True)\n",
        "\n",
        "\n",
        "print(df_fixed_n)\n"
      ]
    },
    {
      "cell_type": "code",
      "execution_count": null,
      "id": "17efd993-17fe-433f-833f-19d518b02009",
      "metadata": {
        "id": "17efd993-17fe-433f-833f-19d518b02009",
        "outputId": "f3b97234-0116-4f6f-923d-bd12dbca01fa",
        "tags": []
      },
      "outputs": [
        {
          "data": {
            "text/plain": [
              "3.0994415283203125e-05"
            ]
          },
          "execution_count": 602,
          "metadata": {},
          "output_type": "execute_result"
        }
      ],
      "source": [
        "from time import time,sleep\n",
        "start = time()\n",
        "\n",
        "time() - start"
      ]
    },
    {
      "cell_type": "code",
      "execution_count": null,
      "id": "b7e2073b-ebc9-43a1-a2a9-c8d8a7b67553",
      "metadata": {
        "id": "b7e2073b-ebc9-43a1-a2a9-c8d8a7b67553",
        "tags": []
      },
      "outputs": [],
      "source": [
        "for i in range(10):\n",
        "    i"
      ]
    },
    {
      "cell_type": "code",
      "execution_count": null,
      "id": "8576c9e3-441b-47f3-a34f-e993cd9948b5",
      "metadata": {
        "id": "8576c9e3-441b-47f3-a34f-e993cd9948b5",
        "outputId": "542b63e3-67dd-49ee-8e6e-834c5a40d6a1",
        "tags": []
      },
      "outputs": [
        {
          "name": "stdout",
          "output_type": "stream",
          "text": [
            "Empty DataFrame\n",
            "Columns: []\n",
            "Index: []\n"
          ]
        }
      ],
      "source": [
        "df_fixed_d._append(recd,ignore_index=True)\n",
        "print(df_fixed_d)"
      ]
    },
    {
      "cell_type": "code",
      "execution_count": null,
      "id": "f2c689bb-e674-4c82-a3e0-0534b3bb64ed",
      "metadata": {
        "id": "f2c689bb-e674-4c82-a3e0-0534b3bb64ed",
        "outputId": "fa024f32-33ef-46b4-9de4-f0fb88965495",
        "tags": []
      },
      "outputs": [
        {
          "data": {
            "text/plain": [
              "{'QC': 'OPENQASM 3.0;\\ninclude \"stdgates.inc\";\\ngate ccz _gate_q_0, _gate_q_1, _gate_q_2 {\\n  h _gate_q_2;\\n  ccx _gate_q_0, _gate_q_1, _gate_q_2;\\n  h _gate_q_2;\\n}\\nqubit[5] q;\\nz q[1];\\ncz q[2], q[4];\\ncz q[3], q[4];\\ncz q[2], q[3];\\ncz q[0], q[4];\\ncz q[0], q[2];\\ncz q[2], q[3];\\nh q[3];\\ncz q[1], q[4];\\nh q[0];\\nccz q[0], q[1], q[4];\\nz q[2];\\n',\n",
              " 'Width(n)': 5,\n",
              " 'Depth': 6,\n",
              " 'Hadamard Counts': 2,\n",
              " 'Runtime': 2.5464680194854736}"
            ]
          },
          "execution_count": 629,
          "metadata": {},
          "output_type": "execute_result"
        }
      ],
      "source": [
        "recd"
      ]
    },
    {
      "cell_type": "code",
      "execution_count": null,
      "id": "85fd6fd6-0add-482d-a217-7c8572dc2fe7",
      "metadata": {
        "colab": {
          "base_uri": "https://localhost:8080/"
        },
        "id": "85fd6fd6-0add-482d-a217-7c8572dc2fe7",
        "outputId": "b88ce898-7ba2-424a-8d1d-0263972ebe37",
        "tags": []
      },
      "outputs": [
        {
          "data": {
            "text/plain": [
              "[('cz', [1, 3]),\n",
              " ('ccz', [0, 4, 5]),\n",
              " ('h', [4]),\n",
              " ('ccz', [1, 4, 5]),\n",
              " ('ccz', [1, 3, 5]),\n",
              " ('cz', [0, 4]),\n",
              " ('z', [4]),\n",
              " ('z', [3]),\n",
              " ('h', [3]),\n",
              " ('h', [2]),\n",
              " ('cz', [1, 4]),\n",
              " ('h', [6]),\n",
              " ('h', [4]),\n",
              " ('z', [1]),\n",
              " ('cz', [0, 3]),\n",
              " ('cz', [3, 4]),\n",
              " ('ccz', [1, 3, 6]),\n",
              " ('cz', [1, 3]),\n",
              " ('ccz', [0, 2, 4])]"
            ]
          },
          "execution_count": 12,
          "metadata": {},
          "output_type": "execute_result"
        }
      ],
      "source": [
        "[(instruction.operation.name,[qc.find_bit(q).index for q in instruction.qubits]) for index, instruction in enumerate(qc.data)]"
      ]
    },
    {
      "cell_type": "code",
      "execution_count": null,
      "id": "854482b3-9f6d-4d17-80ac-cc945cf1d253",
      "metadata": {
        "colab": {
          "base_uri": "https://localhost:8080/",
          "height": 217
        },
        "id": "854482b3-9f6d-4d17-80ac-cc945cf1d253",
        "outputId": "17102244-9d63-4a0e-946d-89940e0ffb92",
        "tags": []
      },
      "outputs": [
        {
          "data": {
            "text/html": [
              "<pre style=\"word-wrap: normal;white-space: pre;background: #fff0;line-height: 1.1;font-family: &quot;Courier New&quot;,Courier,monospace\">                 ┌───┐\n",
              "q_0: ────■──■──■─┤ Z ├\n",
              "         │  │  │ └───┘\n",
              "q_1: ────┼──┼──■──────\n",
              "         │  │  │      \n",
              "q_2: ─■──┼──┼──┼──────\n",
              "      │  │  │  │      \n",
              "q_3: ─■──■──┼──┼──────\n",
              "         │  │  │      \n",
              "q_4: ────┼──┼──┼──────\n",
              "         │  │  │      \n",
              "q_5: ────■──■──■──────\n",
              "                      </pre>"
            ],
            "text/plain": [
              "                 ┌───┐\n",
              "q_0: ────■──■──■─┤ Z ├\n",
              "         │  │  │ └───┘\n",
              "q_1: ────┼──┼──■──────\n",
              "         │  │  │      \n",
              "q_2: ─■──┼──┼──┼──────\n",
              "      │  │  │  │      \n",
              "q_3: ─■──■──┼──┼──────\n",
              "         │  │  │      \n",
              "q_4: ────┼──┼──┼──────\n",
              "         │  │  │      \n",
              "q_5: ────■──■──■──────\n",
              "                      "
            ]
          },
          "execution_count": 70,
          "metadata": {},
          "output_type": "execute_result"
        }
      ],
      "source": [
        "qc.draw()"
      ]
    },
    {
      "cell_type": "code",
      "execution_count": null,
      "id": "bd5974f4-1495-472f-ab7a-944b89c4b939",
      "metadata": {
        "id": "bd5974f4-1495-472f-ab7a-944b89c4b939"
      },
      "outputs": [],
      "source": []
    },
    {
      "cell_type": "code",
      "execution_count": null,
      "id": "2Vzww66ZeTVN",
      "metadata": {
        "id": "2Vzww66ZeTVN"
      },
      "outputs": [],
      "source": []
    },
    {
      "cell_type": "code",
      "execution_count": null,
      "id": "jbWo1jOpeTOp",
      "metadata": {
        "colab": {
          "base_uri": "https://localhost:8080/"
        },
        "id": "jbWo1jOpeTOp",
        "outputId": "5c2122bb-bbec-4834-c3fd-6e1db0133ddb"
      },
      "outputs": [
        {
          "name": "stdout",
          "output_type": "stream",
          "text": [
            "CircuitInstruction(operation=Instruction(name='h', num_qubits=1, num_clbits=0, params=[]), qubits=(Qubit(QuantumRegister(2, 'q'), 0),), clbits=())\n",
            "CircuitInstruction(operation=Instruction(name='cx', num_qubits=2, num_clbits=0, params=[]), qubits=(Qubit(QuantumRegister(2, 'q'), 0), Qubit(QuantumRegister(2, 'q'), 1)), clbits=())\n",
            "CircuitInstruction(operation=Instruction(name='z', num_qubits=1, num_clbits=0, params=[]), qubits=(Qubit(QuantumRegister(2, 'q'), 1),), clbits=())\n"
          ]
        }
      ],
      "source": [
        "from qiskit import QuantumCircuit\n",
        "\n",
        "# Create your quantum circuit\n",
        "qc = QuantumCircuit(2)\n",
        "qc.h(0)\n",
        "qc.cx(0, 1)\n",
        "qc.z(1)\n",
        "\n",
        "# Get the list of gates in the order they are applied\n",
        "gate_list = qc.data\n",
        "\n",
        "# Print the gates\n",
        "for gate in gate_list:\n",
        "    print(gate)\n"
      ]
    },
    {
      "cell_type": "code",
      "execution_count": null,
      "id": "48nbmnlDgs0H",
      "metadata": {
        "id": "48nbmnlDgs0H"
      },
      "outputs": [],
      "source": [
        "import qiskit"
      ]
    },
    {
      "cell_type": "code",
      "execution_count": null,
      "id": "flvy4i7Cgi9K",
      "metadata": {
        "id": "flvy4i7Cgi9K"
      },
      "outputs": [],
      "source": [
        "import inspect"
      ]
    },
    {
      "cell_type": "code",
      "execution_count": null,
      "id": "G3L1n6xNhPHt",
      "metadata": {
        "colab": {
          "base_uri": "https://localhost:8080/"
        },
        "id": "G3L1n6xNhPHt",
        "outputId": "d135aff2-ff96-4113-a516-52912f7a4f4b"
      },
      "outputs": [
        {
          "name": "stdout",
          "output_type": "stream",
          "text": [
            "class Qubit(Bit):\n",
            "    \"\"\"Implement a quantum bit.\"\"\"\n",
            "\n",
            "    __slots__ = ()\n",
            "\n",
            "    def __init__(self, register=None, index=None):\n",
            "        \"\"\"Creates a qubit.\n",
            "\n",
            "        Args:\n",
            "            register (QuantumRegister): Optional. A quantum register containing the bit.\n",
            "            index (int): Optional. The index of the bit in its containing register.\n",
            "\n",
            "        Raises:\n",
            "            CircuitError: if the provided register is not a valid :class:`QuantumRegister`\n",
            "        \"\"\"\n",
            "\n",
            "        if register is None or isinstance(register, QuantumRegister):\n",
            "            super().__init__(register, index)\n",
            "        else:\n",
            "            raise CircuitError(\n",
            "                \"Qubit needs a QuantumRegister and %s was provided\" % type(register).__name__\n",
            "            )\n",
            "\n"
          ]
        }
      ],
      "source": [
        "print(inspect.getsource(qiskit.circuit.quantumregister.Qubit))"
      ]
    },
    {
      "cell_type": "code",
      "execution_count": null,
      "id": "gOr8wRn8eWQl",
      "metadata": {
        "colab": {
          "base_uri": "https://localhost:8080/"
        },
        "id": "gOr8wRn8eWQl",
        "outputId": "e0ff09b3-5612-4dcc-d324-3e717c098c4a"
      },
      "outputs": [
        {
          "name": "stdout",
          "output_type": "stream",
          "text": [
            "<class 'list'>\n",
            "Gate: h, Qubits: [0], Clbits: []\n",
            "<class 'list'>\n",
            "Gate: cx, Qubits: [0, 1], Clbits: []\n",
            "<class 'list'>\n",
            "Gate: z, Qubits: [1], Clbits: []\n"
          ]
        }
      ],
      "source": [
        "for gate in gate_list:\n",
        "    instruction, qargs, cargs = gate\n",
        "    print(type(qargs))\n",
        "    print(f\"Gate: {instruction.name}, Qubits: {[qc.find_bit(q).index for q in qargs]}, Clbits: {[clbit.index for clbit in cargs]}\")\n"
      ]
    },
    {
      "cell_type": "code",
      "execution_count": null,
      "id": "2JcvQ4_whORT",
      "metadata": {
        "id": "2JcvQ4_whORT"
      },
      "outputs": [],
      "source": []
    },
    {
      "cell_type": "code",
      "execution_count": null,
      "id": "tD5OYckzeXyn",
      "metadata": {
        "id": "tD5OYckzeXyn"
      },
      "outputs": [],
      "source": []
    }
  ],
  "metadata": {
    "accelerator": "GPU",
    "colab": {
      "gpuType": "T4",
      "provenance": []
    },
    "kernelspec": {
      "display_name": "Python 3",
      "name": "python3"
    },
    "language_info": {
      "codemirror_mode": {
        "name": "ipython",
        "version": 3
      },
      "file_extension": ".py",
      "mimetype": "text/x-python",
      "name": "python",
      "nbconvert_exporter": "python",
      "pygments_lexer": "ipython3",
      "version": "3.11.9"
    }
  },
  "nbformat": 4,
  "nbformat_minor": 5
}

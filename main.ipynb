{
 "cells": [
  {
   "cell_type": "code",
   "execution_count": 674,
   "metadata": {},
   "outputs": [
    {
     "name": "stdout",
     "output_type": "stream",
     "text": [
      "The autoreload extension is already loaded. To reload it, use:\n",
      "  %reload_ext autoreload\n"
     ]
    }
   ],
   "source": [
    "%load_ext autoreload\n",
    "%autoreload 2"
   ]
  },
  {
   "cell_type": "code",
   "execution_count": 675,
   "metadata": {},
   "outputs": [],
   "source": [
    "from Dependencies.random_circuit_generator_universal import * # Using universal set!\n",
    "from Dependencies.functions_list import *\n",
    "import psutil, time, numpy as np, csv\n",
    "from qiskit_aer import StatevectorSimulator\n",
    "import qiskit.qasm2, qiskit.qasm3\n",
    "from mqt import ddsim\n",
    "import signal, time"
   ]
  },
  {
   "cell_type": "code",
   "execution_count": 676,
   "metadata": {},
   "outputs": [
    {
     "data": {
      "text/plain": [
       "' # Bell State circuit\\n# qc = QuantumCircuit(2)\\n# qc.h([0,1])\\n# qc.cz(0,1)\\n# qc.h(1)\\n# d = qc.depth()\\n'"
      ]
     },
     "execution_count": 676,
     "metadata": {},
     "output_type": "execute_result"
    }
   ],
   "source": [
    "# @calculate_execution_time\n",
    "def get_random_circ_h(n: int,h: int, h_prob: float = None):\n",
    "    if h_prob == None:\n",
    "        qc, qr, seed = random_circ_h_const(n, h) # has default value set to 0.125\n",
    "    else:\n",
    "        qc, qr, seed = random_circ_h_const(n, h, h_prob)\n",
    "    return qc, qr, seed\n",
    "def get_random_circ_d(n: int, d: int):\n",
    "    qc, qr, seed = random_circ_d_const(n, d)\n",
    "    return qc, qr, seed\n",
    "def get_random_circ_g(n: int, g: int):\n",
    "    qc, qr, seed = random_circ_g_const(n, g)\n",
    "    return qc, qr, seed\n",
    "\n",
    "\"\"\" # Bell State circuit\n",
    "# qc = QuantumCircuit(2)\n",
    "# qc.h([0,1])\n",
    "# qc.cz(0,1)\n",
    "# qc.h(1)\n",
    "# d = qc.depth()\n",
    "\"\"\""
   ]
  },
  {
   "cell_type": "code",
   "execution_count": 677,
   "metadata": {},
   "outputs": [
    {
     "name": "stdout",
     "output_type": "stream",
     "text": [
      "CPU times: user 6 μs, sys: 0 ns, total: 6 μs\n",
      "Wall time: 12.4 μs\n",
      "     ┌───┐                ┌─────┐┌───┐   ┌───┐\n",
      "q_0: ┤ S ├─■─────────■──■─┤ Sdg ├┤ H ├─■─┤ H ├\n",
      "     └───┘ │ ┌─────┐ │  │ └─────┘└───┘ │ └───┘\n",
      "q_1: ──────■─┤ Tdg ├─┼──■──────────────┼──────\n",
      "     ┌───┐ │ └─────┘ │  │  ┌───┐       │      \n",
      "q_2: ┤ H ├─■─────────■──■──┤ T ├───────■──────\n",
      "     └───┘                 └───┘              \n"
     ]
    }
   ],
   "source": [
    "%time\n",
    "qc, qr , seed = get_random_circ_h(3,3,0.1)\n",
    "print(qc.draw(fold = -1))"
   ]
  },
  {
   "cell_type": "code",
   "execution_count": 678,
   "metadata": {},
   "outputs": [],
   "source": [
    "# @calculate_execution_time\n",
    "def get_stvec_poly(qc, n, t, initial_state):\n",
    "    if n == t :\n",
    "        return \n",
    "    terms, wire_array, max_new_var = create_poly(qc, n)\n",
    "    assert t == max_new_var, \"Value of 't' != 'max_new_var' from the create_poly function.\"\n",
    "    # print(\"terms are: \", terms)\n",
    "    # print(\"wires are: \", wire_array)\n",
    "    ovs = [j[-1] for j in wire_array]\n",
    "    # print(\"Output variables are: \", ovs)\n",
    "    ttb = get_truthtable(terms, n, t, initial_state)\n",
    "    # print(\"ttb is: \", ttb)\n",
    "    return get_statevector(ttb, n, t, ovs, np)\n",
    "    # counts = {} # : To-Do\n",
    "\n",
    "def get_stvec_ddsim(qc):\n",
    "    backend = ddsim.DDSIMProvider().get_backend(\"statevector_simulator\")\n",
    "    job = backend.run(qc)\n",
    "    result = job.result()\n",
    "    return result.get_statevector()\n",
    "\n",
    "def get_stvec_aer(qc):\n",
    "    backend = StatevectorSimulator()\n",
    "    res = backend.run(qc).result()\n",
    "    return res.get_statevector()\n"
   ]
  },
  {
   "cell_type": "code",
   "execution_count": 679,
   "metadata": {},
   "outputs": [],
   "source": [
    "def get_time_poly(qc, n, t, initial_state):\n",
    "    # Time Calculation for Simulation using polynomial equation\n",
    "    start_cpu_times = psutil.Process().cpu_times()\n",
    "    start_time = time.time()\n",
    "    # When there is no H gate in our circuit\n",
    "    if n == t : \n",
    "        state_vector = np.zeros(1,dtype=complex)\n",
    "    else:\n",
    "        state_vector = get_stvec_poly(qc, n, t, initial_state)\n",
    "\n",
    "    end_cpu_times = psutil.Process().cpu_times()\n",
    "    end_time = time.time()\n",
    "\n",
    "    # Calculate user and system CPU times\n",
    "    user_time = end_cpu_times.user - start_cpu_times.user\n",
    "    system_time = end_cpu_times.system - start_cpu_times.system\n",
    "    cpu_time = user_time + system_time\n",
    "    wall_time = end_time - start_time\n",
    "\n",
    "    return (state_vector, cpu_time, wall_time)\n",
    "\n",
    "def get_time_ddsim(qc):\n",
    "    # Time Calculation for Simulation using DDSIM by MQT\n",
    "    start_cpu_times = psutil.Process().cpu_times()\n",
    "    start_time = time.time()\n",
    "\n",
    "    state_vector = get_stvec_ddsim(qc)\n",
    "\n",
    "    end_cpu_times = psutil.Process().cpu_times()\n",
    "    end_time = time.time()\n",
    "\n",
    "    # Calculate user and system CPU times\n",
    "    user_time = end_cpu_times.user - start_cpu_times.user\n",
    "    system_time = end_cpu_times.system - start_cpu_times.system\n",
    "    cpu_time = user_time + system_time\n",
    "    wall_time = end_time - start_time\n",
    "\n",
    "    return (state_vector, cpu_time, wall_time)\n",
    "\n",
    "def get_time_aer(qc):\n",
    "    # Time Calculation for Simulation using Qiskit's Aer Simulator\n",
    "    start_cpu_times = psutil.Process().cpu_times()\n",
    "    start_time = time.time()\n",
    "\n",
    "    state_vector = get_stvec_aer(qc)\n",
    "    # printing the statevector amplitudes with a threshold\n",
    "\n",
    "    end_cpu_times = psutil.Process().cpu_times()\n",
    "    end_time = time.time()\n",
    "\n",
    "    # Calculate user and system CPU times\n",
    "    user_time = end_cpu_times.user - start_cpu_times.user\n",
    "    system_time = end_cpu_times.system - start_cpu_times.system\n",
    "    cpu_time = user_time + system_time\n",
    "    wall_time = end_time - start_time\n",
    "\n",
    "    return (state_vector, cpu_time, wall_time)\n"
   ]
  },
  {
   "cell_type": "code",
   "execution_count": 680,
   "metadata": {},
   "outputs": [],
   "source": [
    "def write_results(qc,n,h,h_prob,seed,result):            \n",
    "    qc_qasm2 = qiskit.qasm2.dumps(qc)\n",
    "    qc_qasm3 = qiskit.qasm3.dumps(qc)\n",
    "    qasm2_filename = f'Results/run2/arbitrary_h/circuits/qc_qasm2_n{n}_h{h}_h_prob{h_prob}.qasm2'\n",
    "    qasm3_filename = f'Results/run2/arbitrary_h/circuits/qc_qasm3_n{n}_h{h}_h_prob{h_prob}.qasm3'\n",
    "    with open(qasm2_filename, 'w') as file:\n",
    "        file.write(f\"The seed for the random circuit generator is: {seed}\\n\")\n",
    "        file.write(qc_qasm2)\n",
    "    with open(qasm3_filename, 'w') as file:\n",
    "        file.write(f\"The seed for the random circuit generator is: {seed}\\n\")\n",
    "        file.write(qc_qasm3)\n",
    "    with open('Results/run2/arbitrary_h/program_data_h.csv', 'a', newline='') as file:\n",
    "        writer = csv.writer(file)\n",
    "        writer.writerow(result)"
   ]
  },
  {
   "cell_type": "code",
   "execution_count": 683,
   "metadata": {},
   "outputs": [],
   "source": [
    "# TODO: Something is mismatching. keep it append mode\n",
    "\n",
    "def check_stvector(n, stvec_poly, stvec_aer, stvec_ddsim, circuit_filename, stvec_comp_filename, threshold=1e-6):\n",
    "    stvec_ddsim = np.asanyarray(stvec_ddsim)\n",
    "    stvec_aer = np.asanyarray(stvec_aer)\n",
    "\n",
    "    with open(stvec_comp_filename, 'a') as result_file:\n",
    "        for i in range(len(stvec_aer)):\n",
    "            reversed_index = int(format(i, f'0{n}b')[::-1], 2)\n",
    "            # print(f\"Reversed bit for i = {i} is: \", reversed_index)\n",
    "            if np.abs(stvec_aer[i] - stvec_poly[reversed_index]) > threshold:\n",
    "                result_file.write(f\"Mismatch found in circuit: {circuit_filename}\\n\")\n",
    "                result_file.write(f\"Mismatch in stvec_aer at index {i} and stvec_poly (reversed index {reversed_index})\\n\")\n",
    "                result_file.write(\"\\n\")  \n",
    "                break\n",
    "\n",
    "            if np.abs(stvec_aer[i] - stvec_ddsim[i]) > threshold:\n",
    "                result_file.write(f\"Mismatch found in circuit: {circuit_filename}\\n\")\n",
    "                result_file.write(f\"Mismatch in stvec_aer at index {i} and stvec_ddsim (reversed index {reversed_index})\\n\")\n",
    "                result_file.write(\"\\n\")  \n",
    "                break\n",
    "    # print(\"Poly State Vector: \", stvec_poly)\n",
    "    # print(\"Aer State Vector: \", stvec_aer)\n",
    "    # print(\"ddsim State Vector: \", stvec_ddsim)"
   ]
  },
  {
   "cell_type": "markdown",
   "metadata": {},
   "source": [
    "### For varying number of H gates"
   ]
  },
  {
   "cell_type": "code",
   "execution_count": 684,
   "metadata": {},
   "outputs": [
    {
     "name": "stdout",
     "output_type": "stream",
     "text": [
      "h = 13, n = 3, d = 152, g = 239\n",
      "Poly is stopped after h = 13, and for above values\n",
      "h = 13, n = 4, d = 101, g = 201\n",
      "Poly is stopped after h = 13, and for above values\n",
      "h = 13, n = 5, d = 106, g = 220\n",
      "Poly is stopped after h = 13, and for above values\n",
      "h = 14, n = 6, d = 67, g = 170\n",
      "Poly is stopped after h = 14, and for above values\n",
      "h = 13, n = 7, d = 91, g = 253\n",
      "Poly is stopped after h = 13, and for above values\n",
      "h = 12, n = 8, d = 129, g = 366\n",
      "Poly is stopped after h = 12, and for above values\n",
      "h = 13, n = 9, d = 83, g = 280\n",
      "Poly is stopped after h = 13, and for above values\n",
      "h = 13, n = 10, d = 62, g = 227\n",
      "Poly is stopped after h = 13, and for above values\n",
      "h = 13, n = 11, d = 65, g = 249\n",
      "Poly is stopped after h = 13, and for above values\n",
      "h = 14, n = 12, d = 43, g = 181\n",
      "Poly is stopped after h = 14, and for above values\n",
      "h = 98, n = 12, d = 550, g = 2204\n",
      "ddsim is stopped after n = 12, and for above values\n",
      "h = 13, n = 13, d = 48, g = 192\n",
      "Poly is stopped after h = 13, and for above values\n",
      "h = 13, n = 14, d = 56, g = 249\n",
      "Poly is stopped after h = 13, and for above values\n",
      "h = 13, n = 15, d = 38, g = 200\n",
      "Poly is stopped after h = 13, and for above values\n",
      "h = 13, n = 16, d = 42, g = 206\n",
      "Poly is stopped after h = 13, and for above values\n",
      "h = 13, n = 17, d = 71, g = 348\n",
      "Poly is stopped after h = 13, and for above values\n",
      "h = 13, n = 18, d = 55, g = 314\n",
      "Poly is stopped after h = 13, and for above values\n",
      "h = 13, n = 19, d = 41, g = 249\n",
      "Poly is stopped after h = 13, and for above values\n",
      "h = 13, n = 20, d = 56, g = 323\n",
      "Poly is stopped after h = 13, and for above values\n",
      "h = 13, n = 21, d = 41, g = 282\n",
      "Poly is stopped after h = 13, and for above values\n",
      "h = 13, n = 22, d = 44, g = 302\n",
      "Poly is stopped after h = 13, and for above values\n",
      "h = 13, n = 23, d = 38, g = 214\n",
      "Poly is stopped after h = 13, and for above values\n",
      "h = 12, n = 24, d = 47, g = 365\n",
      "Poly is stopped after h = 12, and for above values\n",
      "h = 55, n = 24, d = 192, g = 1346\n",
      "Aer is stopped after n = 24, and for above values\n",
      "h = 13, n = 25, d = 38, g = 311\n",
      "Poly is stopped after h = 13, and for above values\n",
      "h = 12, n = 26, d = 38, g = 301\n",
      "Poly is stopped after h = 12, and for above values\n",
      "h = 12, n = 27, d = 29, g = 206\n",
      "Poly is stopped after h = 12, and for above values\n",
      "h = 11, n = 28, d = 31, g = 236\n",
      "Poly is stopped after h = 11, and for above values\n",
      "h = 1, n = 29, d = 3, g = 28\n",
      "Poly is stopped after h = 1, and for above values\n",
      "h = 1, n = 30, d = 1, g = 6\n",
      "Poly is stopped after h = 1, and for above values\n",
      "h = 1, n = 31, d = 2, g = 14\n",
      "Poly is stopped after h = 1, and for above values\n",
      "h = 1, n = 32, d = 1, g = 3\n",
      "Poly is stopped after h = 1, and for above values\n",
      "h = 1, n = 33, d = 3, g = 18\n",
      "Poly is stopped after h = 1, and for above values\n",
      "h = 1, n = 34, d = 3, g = 30\n",
      "Poly is stopped after h = 1, and for above values\n"
     ]
    },
    {
     "ename": "MemoryError",
     "evalue": "Unable to allocate 512. GiB for an array with shape (34359738368,) and data type complex128",
     "output_type": "error",
     "traceback": [
      "\u001b[0;31m---------------------------------------------------------------------------\u001b[0m",
      "\u001b[0;31mMemoryError\u001b[0m                               Traceback (most recent call last)",
      "Cell \u001b[0;32mIn[684], line 48\u001b[0m\n\u001b[1;32m     46\u001b[0m \u001b[38;5;66;03m# Timeout for poly computation\u001b[39;00m\n\u001b[1;32m     47\u001b[0m \u001b[38;5;28;01mif\u001b[39;00m \u001b[38;5;129;01mnot\u001b[39;00m stop_poly:\n\u001b[0;32m---> 48\u001b[0m     result, stop_poly \u001b[38;5;241m=\u001b[39m \u001b[43mexecute_with_timeout\u001b[49m\u001b[43m(\u001b[49m\u001b[43mget_time_poly\u001b[49m\u001b[43m,\u001b[49m\u001b[43m \u001b[49m\u001b[43mqc\u001b[49m\u001b[43m,\u001b[49m\u001b[43m \u001b[49m\u001b[43mn\u001b[49m\u001b[43m,\u001b[49m\u001b[43m \u001b[49m\u001b[43mt\u001b[49m\u001b[43m,\u001b[49m\u001b[43m \u001b[49m\u001b[43minitial_state\u001b[49m\u001b[43m)\u001b[49m\n\u001b[1;32m     49\u001b[0m     \u001b[38;5;28;01mif\u001b[39;00m stop_poly: \n\u001b[1;32m     50\u001b[0m         \u001b[38;5;28mprint\u001b[39m(\u001b[38;5;124mf\u001b[39m\u001b[38;5;124m\"\u001b[39m\u001b[38;5;124mh = \u001b[39m\u001b[38;5;132;01m{\u001b[39;00mh\u001b[38;5;132;01m}\u001b[39;00m\u001b[38;5;124m, n = \u001b[39m\u001b[38;5;132;01m{\u001b[39;00mn\u001b[38;5;132;01m}\u001b[39;00m\u001b[38;5;124m, d = \u001b[39m\u001b[38;5;132;01m{\u001b[39;00md\u001b[38;5;132;01m}\u001b[39;00m\u001b[38;5;124m, g = \u001b[39m\u001b[38;5;132;01m{\u001b[39;00mg\u001b[38;5;132;01m}\u001b[39;00m\u001b[38;5;124m\"\u001b[39m)\n",
      "Cell \u001b[0;32mIn[684], line 18\u001b[0m, in \u001b[0;36mexecute_with_timeout\u001b[0;34m(func, *args)\u001b[0m\n\u001b[1;32m     16\u001b[0m signal\u001b[38;5;241m.\u001b[39malarm(timeout)\n\u001b[1;32m     17\u001b[0m \u001b[38;5;28;01mtry\u001b[39;00m:\n\u001b[0;32m---> 18\u001b[0m     result \u001b[38;5;241m=\u001b[39m \u001b[43mfunc\u001b[49m\u001b[43m(\u001b[49m\u001b[38;5;241;43m*\u001b[39;49m\u001b[43margs\u001b[49m\u001b[43m)\u001b[49m\n\u001b[1;32m     19\u001b[0m \u001b[38;5;28;01mexcept\u001b[39;00m \u001b[38;5;167;01mTimeoutError\u001b[39;00m:\n\u001b[1;32m     20\u001b[0m     \u001b[38;5;66;03m# print(f\"Process exceeded {timeout} seconds and was terminated.\")\u001b[39;00m\n\u001b[1;32m     21\u001b[0m     stop_flag \u001b[38;5;241m=\u001b[39m \u001b[38;5;28;01mTrue\u001b[39;00m\n",
      "Cell \u001b[0;32mIn[679], line 9\u001b[0m, in \u001b[0;36mget_time_poly\u001b[0;34m(qc, n, t, initial_state)\u001b[0m\n\u001b[1;32m      7\u001b[0m     state_vector \u001b[38;5;241m=\u001b[39m np\u001b[38;5;241m.\u001b[39mzeros(\u001b[38;5;241m1\u001b[39m,dtype\u001b[38;5;241m=\u001b[39m\u001b[38;5;28mcomplex\u001b[39m)\n\u001b[1;32m      8\u001b[0m \u001b[38;5;28;01melse\u001b[39;00m:\n\u001b[0;32m----> 9\u001b[0m     state_vector \u001b[38;5;241m=\u001b[39m \u001b[43mget_stvec_poly\u001b[49m\u001b[43m(\u001b[49m\u001b[43mqc\u001b[49m\u001b[43m,\u001b[49m\u001b[43m \u001b[49m\u001b[43mn\u001b[49m\u001b[43m,\u001b[49m\u001b[43m \u001b[49m\u001b[43mt\u001b[49m\u001b[43m,\u001b[49m\u001b[43m \u001b[49m\u001b[43minitial_state\u001b[49m\u001b[43m)\u001b[49m\n\u001b[1;32m     11\u001b[0m end_cpu_times \u001b[38;5;241m=\u001b[39m psutil\u001b[38;5;241m.\u001b[39mProcess()\u001b[38;5;241m.\u001b[39mcpu_times()\n\u001b[1;32m     12\u001b[0m end_time \u001b[38;5;241m=\u001b[39m time\u001b[38;5;241m.\u001b[39mtime()\n",
      "Cell \u001b[0;32mIn[678], line 13\u001b[0m, in \u001b[0;36mget_stvec_poly\u001b[0;34m(qc, n, t, initial_state)\u001b[0m\n\u001b[1;32m     11\u001b[0m ttb \u001b[38;5;241m=\u001b[39m get_truthtable(terms, n, t, initial_state)\n\u001b[1;32m     12\u001b[0m \u001b[38;5;66;03m# print(\"ttb is: \", ttb)\u001b[39;00m\n\u001b[0;32m---> 13\u001b[0m \u001b[38;5;28;01mreturn\u001b[39;00m \u001b[43mget_statevector\u001b[49m\u001b[43m(\u001b[49m\u001b[43mttb\u001b[49m\u001b[43m,\u001b[49m\u001b[43m \u001b[49m\u001b[43mn\u001b[49m\u001b[43m,\u001b[49m\u001b[43m \u001b[49m\u001b[43mt\u001b[49m\u001b[43m,\u001b[49m\u001b[43m \u001b[49m\u001b[43movs\u001b[49m\u001b[43m,\u001b[49m\u001b[43m \u001b[49m\u001b[43mnp\u001b[49m\u001b[43m)\u001b[49m\n",
      "File \u001b[0;32m/media/qsdal/vd1/Project1/Project1/Dependencies/functions_list.py:121\u001b[0m, in \u001b[0;36mget_statevector\u001b[0;34m(ttb, n, t, ovs, starting_index)\u001b[0m\n\u001b[1;32m    118\u001b[0m \u001b[38;5;28;01mdef\u001b[39;00m\u001b[38;5;250m \u001b[39m\u001b[38;5;21mget_statevector\u001b[39m(ttb, n, t, ovs, starting_index\u001b[38;5;241m=\u001b[39m\u001b[38;5;241m0\u001b[39m):\n\u001b[1;32m    119\u001b[0m     \u001b[38;5;66;03m# group_size = 2**(t-n) # == size of ttb, \u001b[39;00m\n\u001b[1;32m    120\u001b[0m     \u001b[38;5;66;03m# we might consider replacing the values in ttb itself because the ttb is used only once\u001b[39;00m\n\u001b[0;32m--> 121\u001b[0m     s \u001b[38;5;241m=\u001b[39m \u001b[43mnp\u001b[49m\u001b[38;5;241;43m.\u001b[39;49m\u001b[43mzeros\u001b[49m\u001b[43m(\u001b[49m\u001b[38;5;241;43m2\u001b[39;49m\u001b[38;5;241;43m*\u001b[39;49m\u001b[38;5;241;43m*\u001b[39;49m\u001b[38;5;28;43mlen\u001b[39;49m\u001b[43m(\u001b[49m\u001b[43movs\u001b[49m\u001b[43m)\u001b[49m\u001b[43m,\u001b[49m\u001b[43mdtype\u001b[49m\u001b[38;5;241;43m=\u001b[39;49m\u001b[38;5;28;43mcomplex\u001b[39;49m\u001b[43m)\u001b[49m\n\u001b[1;32m    122\u001b[0m     \u001b[38;5;66;03m# print(s)\u001b[39;00m\n\u001b[1;32m    123\u001b[0m     s_ldic \u001b[38;5;241m=\u001b[39m \u001b[38;5;28mdict\u001b[39m()\n",
      "\u001b[0;31mMemoryError\u001b[0m: Unable to allocate 512. GiB for an array with shape (34359738368,) and data type complex128"
     ]
    }
   ],
   "source": [
    "# If I by-mistake run this cell multiple times, past data will be overwritten, so don't use 'w'.\n",
    "with open('Results/run2/arbitrary_h/program_data_h.csv', 'a', newline='') as file: \n",
    "    writer = csv.writer(file)\n",
    "    writer.writerow(['n', 'h', 'd', 'g', 't', 'h_prob', 'cpu_time_poly', 'wall_time_poly',\n",
    "                        'cpu_time_ddsim', 'wall_time_ddsim', 'cpu_time_aer', 'wall_time_aer' ])\n",
    "\n",
    "timeout = 1  # Timeout period in seconds\n",
    "\n",
    "def timeout_handler(signum, frame):\n",
    "    raise TimeoutError(\"Process exceeded time limit\")\n",
    "\n",
    "def execute_with_timeout(func, *args):\n",
    "    \"\"\" Helper function to execute a function with timeout \"\"\"\n",
    "    stop_flag = False\n",
    "    signal.signal(signal.SIGALRM, timeout_handler)\n",
    "    signal.alarm(timeout)\n",
    "    try:\n",
    "        result = func(*args)\n",
    "    except TimeoutError:\n",
    "        # print(f\"Process exceeded {timeout} seconds and was terminated.\")\n",
    "        stop_flag = True\n",
    "        result = None\n",
    "    finally:\n",
    "        signal.alarm(0)  # Disable the alarm\n",
    "    return result, stop_flag\n",
    "should_break = False\n",
    "for h_prob in np.arange(0.05, 0.401, 0.025):  # change 6 to 40.1\n",
    "    stop_aer = False\n",
    "    stop_ddsim = False\n",
    "    for n in range(3, 100):\n",
    "        stop_poly = False\n",
    "        for h in range(1, 100):\n",
    "            # print(f\"n = {n}, h = {h}, h_prob = {h_prob}\")\n",
    "            if stop_poly and stop_aer and stop_ddsim:\n",
    "                break # so that random circ is not created\n",
    "            qc, qr, seed = get_random_circ_h(n, h, h_prob)\n",
    "            # print(qc)\n",
    "            n = qc.width() \n",
    "            h = list(instrct.operation.name for _index, instrct in enumerate(qc.data)).count('h')  # Count 'h' gates\n",
    "            d = qc.depth()  \n",
    "            g = gate_counts(qc)  \n",
    "            t = n + h  \n",
    "            # Initialize the state of the qubits\n",
    "            initial_state = [0 for _ in range(n)]\n",
    "\n",
    "            # Timeout for poly computation\n",
    "            if not stop_poly:\n",
    "                result, stop_poly = execute_with_timeout(get_time_poly, qc, n, t, initial_state)\n",
    "                if stop_poly: \n",
    "                    print(f\"h = {h}, n = {n}, d = {d}, g = {g}\")\n",
    "                    print(f\"Poly is stopped after h = {h}, and for above values\")\n",
    "                (stvec_poly, cpu_time_poly, wall_time_poly) = (None,-1,-1) if stop_poly else result  # Set appropriate values\n",
    "\n",
    "            # Timeout for aer computation\n",
    "            if not stop_aer:\n",
    "                result, stop_aer = execute_with_timeout(get_time_aer, qc)\n",
    "                if stop_aer: \n",
    "                    print(f\"h = {h}, n = {n}, d = {d}, g = {g}\")\n",
    "                    print(f\"Aer is stopped after n = {n}, and for above values\")\n",
    "                (stvec_aer, cpu_time_aer, wall_time_aer) = (None,-1,-1) if stop_aer else result\n",
    "\n",
    "            # Timeout for ddsim computation\n",
    "            if not stop_ddsim:\n",
    "                result, stop_ddsim = execute_with_timeout(get_time_ddsim, qc)\n",
    "                if stop_ddsim:\n",
    "                    print(f\"h = {h}, n = {n}, d = {d}, g = {g}\")\n",
    "                    print(f\"ddsim is stopped after n = {n}, and for above values\")\n",
    "                (stvec_ddsim, cpu_time_ddsim, wall_time_ddsim) = (None,-1,-1) if stop_ddsim else result\n",
    "\n",
    "            # Store the result for the current configuration\n",
    "            results = [n, h, d, g, t, h_prob, \n",
    "                    round(cpu_time_poly, 6), round(wall_time_poly, 6),\n",
    "                    round(cpu_time_ddsim, 6), round(wall_time_ddsim, 6),\n",
    "                    round(cpu_time_aer, 6), round(wall_time_aer, 6)]\n",
    "\n",
    "            # # If any computation exceeded the timeout, break out of the loop\n",
    "            # if stop_poly and stop_aer and stop_ddsim:\n",
    "            #     should_break = True\n",
    "            #     break\n",
    "\n",
    "            # Store the circuit in QASM2 and QASM3 format\n",
    "            write_results(qc,n,h,h_prob,seed,results)\n",
    "            circuit_filename = f\"qc_qasm3_n{n}_h{h}_h_prob{h_prob}.qasm3\"\n",
    "            stvec_comp_filename = f\"Results/run2/arbitrary_h/comparing_statevector_results.txt\"\n",
    "            if stvec_aer is not None and stvec_poly is not None and stvec_ddsim is not None:\n",
    "                check_stvector(n, stvec_poly, stvec_aer, stvec_ddsim, circuit_filename, stvec_comp_filename)\n",
    "        # if should_break:\n",
    "            # break"
   ]
  },
  {
   "cell_type": "code",
   "execution_count": null,
   "metadata": {},
   "outputs": [],
   "source": []
  },
  {
   "cell_type": "code",
   "execution_count": null,
   "metadata": {},
   "outputs": [
    {
     "name": "stdout",
     "output_type": "stream",
     "text": [
      "Process exceeded 5 seconds and was terminated.\n"
     ]
    }
   ],
   "source": [
    "import signal\n",
    "import time\n",
    "\n",
    "# Timeout handler\n",
    "def timeout_handler(signum, frame):\n",
    "    raise TimeoutError(\"Process exceeded time limit\")\n",
    "\n",
    "def your_function():\n",
    "    # Simulating a long-running task\n",
    "    time.sleep(10)  # This will take 10 seconds, exceeding the timeout\n",
    "\n",
    "def run_with_timeout(func, timeout):\n",
    "    # Set the signal handler to raise TimeoutError after timeout seconds\n",
    "    signal.signal(signal.SIGALRM, timeout_handler)\n",
    "    signal.alarm(timeout)  # Set the alarm for the timeout period\n",
    "\n",
    "    try:\n",
    "        func()  # Run the function\n",
    "    except TimeoutError:\n",
    "        print(f\"Process exceeded {timeout} seconds and was terminated.\")\n",
    "    finally:\n",
    "        signal.alarm(0)  # Disable the alarm\n",
    "\n",
    "# Run with a timeout of 5 seconds\n",
    "run_with_timeout(your_function, 5)\n"
   ]
  },
  {
   "cell_type": "code",
   "execution_count": null,
   "metadata": {},
   "outputs": [],
   "source": []
  },
  {
   "cell_type": "code",
   "execution_count": null,
   "metadata": {},
   "outputs": [],
   "source": []
  },
  {
   "cell_type": "code",
   "execution_count": null,
   "metadata": {},
   "outputs": [],
   "source": []
  },
  {
   "cell_type": "markdown",
   "metadata": {},
   "source": [
    "#### Rough Work! Excuse me please."
   ]
  },
  {
   "cell_type": "code",
   "execution_count": null,
   "metadata": {},
   "outputs": [
    {
     "name": "stdout",
     "output_type": "stream",
     "text": [
      "instructions of the circuit are:  [('sdg', [3]), ('z', [6]), ('cz', [8, 4]), ('ccz', [6, 3, 5]), ('cz', [1, 0]), ('z', [2]), ('z', [1]), ('ccz', [3, 6, 0]), ('sdg', [1]), ('h', [2]), ('tdg', [8]), ('z', [6]), ('sdg', [1]), ('ccz', [7, 5, 6]), ('s', [5]), ('tdg', [0]), ('sdg', [3]), ('tdg', [7]), ('ccz', [3, 1, 2]), ('z', [2]), ('z', [1]), ('sdg', [4]), ('z', [0]), ('t', [0]), ('sdg', [1]), ('z', [3]), ('s', [4]), ('s', [6]), ('z', [5]), ('s', [5]), ('sdg', [6]), ('cz', [5, 8]), ('sdg', [4]), ('s', [0]), ('tdg', [3]), ('cz', [5, 0]), ('t', [0]), ('t', [4]), ('sdg', [8]), ('h', [0]), ('s', [3]), ('s', [6]), ('s', [1]), ('z', [5]), ('sdg', [1]), ('z', [0]), ('cz', [3, 5]), ('z', [5]), ('s', [0]), ('cz', [1, 5]), ('ccz', [2, 6, 4]), ('z', [1]), ('t', [3]), ('z', [0]), ('ccz', [6, 7, 2]), ('z', [2]), ('h', [3]), ('h', [8]), ('t', [8]), ('tdg', [6]), ('t', [4]), ('s', [8]), ('z', [2]), ('z', [6]), ('z', [0]), ('tdg', [5]), ('cz', [1, 8]), ('t', [0]), ('t', [6]), ('h', [5]), ('ccz', [5, 6, 4]), ('ccz', [0, 7, 8]), ('tdg', [6]), ('tdg', [6]), ('ccz', [0, 5, 2]), ('cz', [8, 5]), ('tdg', [1]), ('z', [2]), ('z', [7]), ('z', [2]), ('cz', [5, 6]), ('s', [6]), ('t', [6]), ('t', [4]), ('cz', [5, 8]), ('h', [7]), ('t', [4]), ('s', [8]), ('h', [6]), ('s', [8]), ('h', [1]), ('s', [4]), ('tdg', [2]), ('z', [8]), ('ccz', [7, 4, 2]), ('tdg', [0]), ('s', [1]), ('cz', [7, 1]), ('h', [2])]\n"
     ]
    }
   ],
   "source": [
    "instructions = [(instruction.operation.name,\n",
    "                    [qc.find_bit(q).index for q in instruction.qubits]) \n",
    "                    for index, instruction in enumerate(qc.data)]\n",
    "print(\"instructions of the circuit are: \", instructions)"
   ]
  },
  {
   "cell_type": "code",
   "execution_count": null,
   "metadata": {},
   "outputs": [
    {
     "ename": "NameError",
     "evalue": "name 'get_random_circ' is not defined",
     "output_type": "error",
     "traceback": [
      "\u001b[0;31m---------------------------------------------------------------------------\u001b[0m",
      "\u001b[0;31mNameError\u001b[0m                                 Traceback (most recent call last)",
      "Cell \u001b[0;32mIn[657], line 3\u001b[0m\n\u001b[1;32m      1\u001b[0m n \u001b[38;5;241m=\u001b[39m \u001b[38;5;241m10\u001b[39m\n\u001b[1;32m      2\u001b[0m h \u001b[38;5;241m=\u001b[39m \u001b[38;5;241m15\u001b[39m\n\u001b[0;32m----> 3\u001b[0m qc, qr \u001b[38;5;241m=\u001b[39m \u001b[43mget_random_circ\u001b[49m(n\u001b[38;5;241m=\u001b[39mn, h\u001b[38;5;241m=\u001b[39mh)\n\u001b[1;32m      4\u001b[0m n \u001b[38;5;241m=\u001b[39m qc\u001b[38;5;241m.\u001b[39mwidth()\n\u001b[1;32m      5\u001b[0m h \u001b[38;5;241m=\u001b[39m \u001b[38;5;28mlist\u001b[39m(instruction\u001b[38;5;241m.\u001b[39moperation\u001b[38;5;241m.\u001b[39mname \u001b[38;5;28;01mfor\u001b[39;00m index,\n\u001b[1;32m      6\u001b[0m         instruction \u001b[38;5;129;01min\u001b[39;00m \u001b[38;5;28menumerate\u001b[39m(qc\u001b[38;5;241m.\u001b[39mdata))\u001b[38;5;241m.\u001b[39mcount(\u001b[38;5;124m'\u001b[39m\u001b[38;5;124mh\u001b[39m\u001b[38;5;124m'\u001b[39m)\n",
      "\u001b[0;31mNameError\u001b[0m: name 'get_random_circ' is not defined"
     ]
    }
   ],
   "source": [
    "n = 10\n",
    "h = 15\n",
    "qc, qr = get_random_circ(n=n, h=h)\n",
    "n = qc.width()\n",
    "h = list(instruction.operation.name for index,\n",
    "        instruction in enumerate(qc.data)).count('h')\n",
    "d = qc.depth()\n",
    "g = gate_counts(qc)\n",
    "t = n+h\n",
    "initial_state = [0 for _ in range(n)]\n",
    "print(gate_counts(qc))\n",
    "print(qc.count_ops())\n",
    "# qc.draw(fold=-1)"
   ]
  },
  {
   "cell_type": "code",
   "execution_count": 10,
   "metadata": {},
   "outputs": [
    {
     "name": "stdout",
     "output_type": "stream",
     "text": [
      "Input variables are:  [0, 1, 2, 3, 4, 5, 6, 7, 8, 9]\n",
      "Output variables are:  [21, 20, 2, 3, 24, 17, 23, 10, 22, 9]\n",
      "state vector using boolean equation: \n",
      " [0. 0. 0. ... 0. 0. 0.]\n",
      "3.421875 3.493514060974121\n"
     ]
    }
   ],
   "source": [
    "stvec_poly, cpu_time_poly, wall_time_poly = get_time_poly(qc, initial_state)\n",
    "print(cpu_time_poly, wall_time_poly)"
   ]
  },
  {
   "cell_type": "code",
   "execution_count": 38,
   "metadata": {},
   "outputs": [],
   "source": [
    "# # Load circuits from QASM file\n",
    "# filename = \"multiple_circuits.qasm\"\n",
    "# circuits = []\n",
    "\n",
    "# with open(filename, 'r') as file:\n",
    "#     qasm_code = file.read()\n",
    "\n",
    "# # Split QASM code based on markers\n",
    "# circuit_codes = qasm_code.split(\"//\")\n",
    "\n",
    "# for code in circuit_codes:\n",
    "#     code = code.strip()\n",
    "#     if code:\n",
    "#         circuit = QuantumCircuit.from_qasm_str(code)\n",
    "#         circuits.append(circuit)\n",
    "\n",
    "# Now `circuits` list contains all the reconstructed quantum circuits"
   ]
  }
 ],
 "metadata": {
  "kernelspec": {
   "display_name": "poly-env",
   "language": "python",
   "name": "python3"
  },
  "language_info": {
   "codemirror_mode": {
    "name": "ipython",
    "version": 3
   },
   "file_extension": ".py",
   "mimetype": "text/x-python",
   "name": "python",
   "nbconvert_exporter": "python",
   "pygments_lexer": "ipython3",
   "version": "3.10.12"
  }
 },
 "nbformat": 4,
 "nbformat_minor": 2
}

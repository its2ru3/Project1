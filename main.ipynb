{
 "cells": [
  {
   "cell_type": "code",
   "execution_count": 12,
   "metadata": {},
   "outputs": [
    {
     "name": "stdout",
     "output_type": "stream",
     "text": [
      "The autoreload extension is already loaded. To reload it, use:\n",
      "  %reload_ext autoreload\n"
     ]
    }
   ],
   "source": [
    "%load_ext autoreload\n",
    "%autoreload 2"
   ]
  },
  {
   "cell_type": "code",
   "execution_count": 13,
   "metadata": {},
   "outputs": [],
   "source": [
    "from Dependencies.random_circuit_generator_universal import * # Using universal set!\n",
    "from Dependencies.functions_list import *\n",
    "import psutil, time, numpy as np, csv\n",
    "from qiskit_aer import StatevectorSimulator\n",
    "import qiskit.qasm2, qiskit.qasm3\n",
    "from mqt import ddsim\n",
    "import signal, time\n",
    "from tqdm import tqdm\n",
    "import gc"
   ]
  },
  {
   "cell_type": "code",
   "execution_count": 14,
   "metadata": {},
   "outputs": [
    {
     "data": {
      "text/plain": [
       "' # Bell State circuit\\n# qc = QuantumCircuit(2)\\n# qc.h([0,1])\\n# qc.cz(0,1)\\n# qc.h(1)\\n# d = qc.depth()\\n'"
      ]
     },
     "execution_count": 14,
     "metadata": {},
     "output_type": "execute_result"
    }
   ],
   "source": [
    "# @calculate_execution_time\n",
    "def get_random_circ_h(n: int,h: int, h_prob: float = None):\n",
    "    if h_prob == None:\n",
    "        qc, qr, seed = random_circ_h_const(n, h) # has default value set to 0.125\n",
    "    else:\n",
    "        qc, qr, seed = random_circ_h_const(n, h, h_prob)\n",
    "    return qc, qr, seed\n",
    "def get_random_circ_d(n: int, d: int):\n",
    "    qc, qr, seed = random_circ_d_const(n, d)\n",
    "    return qc, qr, seed\n",
    "def get_random_circ_g(n: int, g: int):\n",
    "    qc, qr, seed = random_circ_g_const(n, g)\n",
    "    return qc, qr, seed\n",
    "\n",
    "\"\"\" # Bell State circuit\n",
    "# qc = QuantumCircuit(2)\n",
    "# qc.h([0,1])\n",
    "# qc.cz(0,1)\n",
    "# qc.h(1)\n",
    "# d = qc.depth()\n",
    "\"\"\""
   ]
  },
  {
   "cell_type": "code",
   "execution_count": 15,
   "metadata": {},
   "outputs": [
    {
     "name": "stdout",
     "output_type": "stream",
     "text": [
      "CPU times: user 5 μs, sys: 0 ns, total: 5 μs\n",
      "Wall time: 10.7 μs\n",
      "                                         ┌───┐                            ┌─────┐                \n",
      "q_0: ───────────────────────■───────■──■─┤ S ├───────────────────────■──■─┤ Tdg ├──■───■──■──────\n",
      "                ┌───┐       │ ┌───┐ │  │ ├───┤┌───┐   ┌─────┐┌─────┐ │  │ └─────┘  │   │  │      \n",
      "q_1: ────────■──┤ Z ├───────■─┤ T ├─■──┼─┤ T ├┤ T ├─■─┤ Tdg ├┤ Tdg ├─■──■────■─────■───■──■──────\n",
      "     ┌─────┐ │ ┌┴───┴┐┌───┐ │ └───┘ │  │ ├───┤├───┤ │ └┬───┬┘├─────┤         │   ┌───┐ │  │ ┌───┐\n",
      "q_2: ┤ Sdg ├─■─┤ Tdg ├┤ H ├─■───────■──■─┤ T ├┤ T ├─■──┤ H ├─┤ Sdg ├─────────■───┤ Z ├─■──■─┤ H ├\n",
      "     └─────┘   └─────┘└───┘              └───┘└───┘    └───┘ └─────┘             └───┘      └───┘\n"
     ]
    }
   ],
   "source": [
    "%time\n",
    "qc, qr , seed = get_random_circ_h(3,3,0.1)\n",
    "print(qc.draw(fold = -1))"
   ]
  },
  {
   "cell_type": "code",
   "execution_count": 16,
   "metadata": {},
   "outputs": [],
   "source": [
    "# @calculate_execution_time\n",
    "def get_stvec_poly(qc, n, t, initial_state):\n",
    "    if n == t :\n",
    "        return \n",
    "    terms, wire_array, max_new_var = create_poly(qc, n)\n",
    "    assert t == max_new_var, \"Value of 't' != 'max_new_var' from the create_poly function.\"\n",
    "    # print(\"terms are: \", terms)\n",
    "    # print(\"wires are: \", wire_array)\n",
    "    ovs = [j[-1] for j in wire_array]\n",
    "    # print(\"Output variables are: \", ovs)\n",
    "    ttb = get_truthtable_no_ivs(terms, n, t, initial_state)\n",
    "    # print(\"ttb is: \", ttb)\n",
    "    stvec = get_statevector_file(ttb, n, t, ovs)\n",
    "    del ttb, terms, wire_array, max_new_var\n",
    "    return stvec\n",
    "    # counts = {} # : To-Do\n",
    "\n",
    "def get_stvec_ddsim(qc):\n",
    "    backend = ddsim.DDSIMProvider().get_backend(\"statevector_simulator\")\n",
    "    job = backend.run(qc)\n",
    "    result = job.result()\n",
    "    return result.get_statevector()\n",
    "\n",
    "def get_stvec_aer(qc):\n",
    "    backend = StatevectorSimulator()\n",
    "    res = backend.run(qc).result()\n",
    "    return res.get_statevector()\n"
   ]
  },
  {
   "cell_type": "code",
   "execution_count": 17,
   "metadata": {},
   "outputs": [],
   "source": [
    "def get_time_poly(qc, n, t, initial_state):\n",
    "    # Time Calculation for Simulation using polynomial equation\n",
    "    start_cpu_times = psutil.Process().cpu_times()\n",
    "    start_time = time.time()\n",
    "    # When there is no H gate in our circuit\n",
    "    if n == t : \n",
    "        state_vector = np.zeros(1,dtype=complex)\n",
    "    else:\n",
    "        state_vector = get_stvec_poly(qc, n, t, initial_state)\n",
    "\n",
    "    end_cpu_times = psutil.Process().cpu_times()\n",
    "    end_time = time.time()\n",
    "\n",
    "    # Calculate user and system CPU times\n",
    "    user_time = end_cpu_times.user - start_cpu_times.user\n",
    "    system_time = end_cpu_times.system - start_cpu_times.system\n",
    "    cpu_time = user_time + system_time\n",
    "    wall_time = end_time - start_time\n",
    "\n",
    "    return (state_vector, cpu_time, wall_time)\n",
    "\n",
    "def get_time_ddsim(qc):\n",
    "    # Time Calculation for Simulation using DDSIM by MQT\n",
    "    start_cpu_times = psutil.Process().cpu_times()\n",
    "    start_time = time.time()\n",
    "\n",
    "    state_vector = get_stvec_ddsim(qc)\n",
    "\n",
    "    end_cpu_times = psutil.Process().cpu_times()\n",
    "    end_time = time.time()\n",
    "\n",
    "    # Calculate user and system CPU times\n",
    "    user_time = end_cpu_times.user - start_cpu_times.user\n",
    "    system_time = end_cpu_times.system - start_cpu_times.system\n",
    "    cpu_time = user_time + system_time\n",
    "    wall_time = end_time - start_time\n",
    "\n",
    "    return (state_vector, cpu_time, wall_time)\n",
    "\n",
    "def get_time_aer(qc):\n",
    "    # Time Calculation for Simulation using Qiskit's Aer Simulator\n",
    "    start_cpu_times = psutil.Process().cpu_times()\n",
    "    start_time = time.time()\n",
    "\n",
    "    state_vector = get_stvec_aer(qc)\n",
    "    # printing the statevector amplitudes with a threshold\n",
    "\n",
    "    end_cpu_times = psutil.Process().cpu_times()\n",
    "    end_time = time.time()\n",
    "\n",
    "    # Calculate user and system CPU times\n",
    "    user_time = end_cpu_times.user - start_cpu_times.user\n",
    "    system_time = end_cpu_times.system - start_cpu_times.system\n",
    "    cpu_time = user_time + system_time\n",
    "    wall_time = end_time - start_time\n",
    "\n",
    "    return (state_vector, cpu_time, wall_time)\n"
   ]
  },
  {
   "cell_type": "code",
   "execution_count": 18,
   "metadata": {},
   "outputs": [],
   "source": [
    "def write_results(qc,n,h,h_prob,seed,result):            \n",
    "    qc_qasm2 = qiskit.qasm2.dumps(qc)\n",
    "    qc_qasm3 = qiskit.qasm3.dumps(qc)\n",
    "    qasm2_filename = f'Results/run2/arbitrary_h/circuits/qc_qasm2_n{n}_h{h}_h_prob{h_prob}.qasm2'\n",
    "    qasm3_filename = f'Results/run2/arbitrary_h/circuits/qc_qasm3_n{n}_h{h}_h_prob{h_prob}.qasm3'\n",
    "    with open(qasm2_filename, 'w') as file:\n",
    "        file.write(f\"The seed for the random circuit generator is: {seed}\\n\")\n",
    "        file.write(qc_qasm2)\n",
    "    with open(qasm3_filename, 'w') as file:\n",
    "        file.write(f\"The seed for the random circuit generator is: {seed}\\n\")\n",
    "        file.write(qc_qasm3)\n",
    "    with open('Results/run2/arbitrary_h/program_data_h.csv', 'a', newline='') as file:\n",
    "        writer = csv.writer(file)\n",
    "        writer.writerow(result)"
   ]
  },
  {
   "cell_type": "code",
   "execution_count": 19,
   "metadata": {},
   "outputs": [],
   "source": [
    "# TODO: Something is mismatching. keep it append mode\n",
    "\n",
    "def check_stvector(n, stvec_poly, stvec_aer, stvec_ddsim, circuit_filename, stvec_comp_filename, threshold=1e-6):\n",
    "    stvec_ddsim = np.asanyarray(stvec_ddsim)\n",
    "    stvec_aer = np.asanyarray(stvec_aer)\n",
    "\n",
    "    with open(stvec_comp_filename, 'a') as result_file:\n",
    "        for i in range(len(stvec_aer)):\n",
    "            reversed_index = int(format(i, f'0{n}b')[::-1], 2)\n",
    "            # print(f\"Reversed bit for i = {i} is: \", reversed_index)\n",
    "            if np.abs(stvec_aer[i] - stvec_poly[reversed_index]) > threshold:\n",
    "                result_file.write(f\"Mismatch found in circuit: {circuit_filename}\\n\")\n",
    "                result_file.write(f\"Mismatch in stvec_aer at index {i} and stvec_poly (reversed index {reversed_index})\\n\")\n",
    "                result_file.write(\"\\n\")  \n",
    "                break\n",
    "\n",
    "            if np.abs(stvec_aer[i] - stvec_ddsim[i]) > threshold:\n",
    "                result_file.write(f\"Mismatch found in circuit: {circuit_filename}\\n\")\n",
    "                result_file.write(f\"Mismatch in stvec_aer at index {i} and stvec_ddsim (reversed index {reversed_index})\\n\")\n",
    "                result_file.write(\"\\n\")  \n",
    "                break\n",
    "    # print(\"Poly State Vector: \", stvec_poly)\n",
    "    # print(\"Aer State Vector: \", stvec_aer)\n",
    "    # print(\"ddsim State Vector: \", stvec_ddsim)"
   ]
  },
  {
   "cell_type": "code",
   "execution_count": 20,
   "metadata": {},
   "outputs": [],
   "source": [
    "def timeout_handler(signum, frame):\n",
    "    raise TimeoutError(\"Process exceeded time limit\")\n",
    "\n",
    "def execute_with_timeout(timeout, func, *args):\n",
    "    stop_flag = False\n",
    "    signal.signal(signal.SIGALRM, timeout_handler)\n",
    "    signal.alarm(timeout)\n",
    "    process = psutil.Process()  # Get current process\n",
    "    memory_usage = process.memory_info().rss  # Memory usage in bytes\n",
    "    print(f\"Memory usage before func call: {memory_usage / (1024 * 1024):.2f} MB\")\n",
    "\n",
    "    try:\n",
    "        try:\n",
    "            result = func(*args)  # Call the function and capture any errors\n",
    "            memory_usage = process.memory_info().rss  # Memory usage in bytes\n",
    "            print(f\"Memory usage after getting the stvec: {memory_usage / (1024 * 1024):.2f} MB\")\n",
    "            return result, stop_flag\n",
    "        # except MemoryError:  # If memory usage exceeds the system limit and throws MemoryError\n",
    "        #     print(\"Memory limit exceeded during function execution.\")\n",
    "        #     stop_flag = True\n",
    "        #     result = None\n",
    "        except Exception as e:  # Catch any other exception raised during function execution\n",
    "            print(f\"Error during function execution: {e}\")\n",
    "            stop_flag = True\n",
    "            result = None\n",
    "    except TimeoutError:\n",
    "        # print(f\"Process exceeded {timeout} seconds and was terminated.\")\n",
    "        stop_flag = True\n",
    "        result = None\n",
    "    finally:\n",
    "        signal.alarm(0)  # Disable the alarm\n",
    "    return result, stop_flag"
   ]
  },
  {
   "cell_type": "markdown",
   "metadata": {},
   "source": [
    "### For varying number of H gates"
   ]
  },
  {
   "cell_type": "code",
   "execution_count": 21,
   "metadata": {},
   "outputs": [
    {
     "name": "stdout",
     "output_type": "stream",
     "text": [
      "Running the circuit for n = 31, h = 18, h_prob = 0.05, d = 26, g = 244, t = 49\n",
      "running poly\n",
      "Memory usage before func call: 65568.67 MB\n",
      "Memory usage after getting the stvec: 65573.16 MB\n",
      "running ddsim\n",
      "Memory usage before func call: 65573.16 MB\n",
      "Memory usage after getting the stvec: 98346.26 MB\n",
      "running aer\n",
      "Memory usage before func call: 65578.26 MB\n",
      "Memory usage after getting the stvec: 98396.76 MB\n",
      "\n",
      "Running the circuit for n = 31, h = 19, h_prob = 0.05, d = 49, g = 437, t = 50\n",
      "running poly\n",
      "Memory usage before func call: 65629.93 MB\n",
      "Memory usage after getting the stvec: 65634.43 MB\n",
      "running ddsim\n",
      "Memory usage before func call: 32865.25 MB\n",
      "Memory usage after getting the stvec: 65643.51 MB\n",
      "running aer\n",
      "Memory usage before func call: 65643.51 MB\n",
      "Memory usage after getting the stvec: 98451.51 MB\n",
      "\n"
     ]
    }
   ],
   "source": [
    "# If I by-mistake run this cell multiple times, past data will be overwritten, so don't use 'w'.\n",
    "with open('Results/run2/arbitrary_h/program_data_h.csv', 'a', newline='') as file: \n",
    "    writer = csv.writer(file)\n",
    "    writer.writerow(['n', 'h', 'd', 'g', 't', 'h_prob', 'cpu_time_poly', 'wall_time_poly',\n",
    "                        'cpu_time_ddsim', 'wall_time_ddsim', 'cpu_time_aer', 'wall_time_aer' ])\n",
    "\n",
    "timeout = 1800 # Timeout period in seconds\n",
    "# memory_limit = 1 * 1024 * 1024 * 1024 * 535  # 535 GB upper limit for Aer and ddsim \n",
    "\n",
    "should_break = False\n",
    "# for h_prob in tqdm(np.arange(0.05, 0.401, 0.025), desc=\"Looping on h_prob\", unit=\"h_prob\", position=0):  # change 6 to 40.1\n",
    "for h_prob in np.arange(0.05, 0.051, 0.025):  # change 6 to 40.1\n",
    "    stop_aer = False\n",
    "    stop_ddsim = False\n",
    "    # for n in tqdm(range(20, 100), desc=\"Looping on n\", unit=\"n\", position=0, leave=\"False\"):\n",
    "    for n in range(31,100):\n",
    "        stop_poly = False\n",
    "        # for h in tqdm(range(29,30), desc=\"Looping on h\", unit=\"h\"):\n",
    "        for h in range(1,30):\n",
    "            # print(f\"n = {n}, h = {h}, h_prob = {h_prob}\")\n",
    "            if stop_poly and stop_aer and stop_ddsim:\n",
    "                break # so that random circ is not created\n",
    "            qc, qr, seed = get_random_circ_h(n, h, h_prob)\n",
    "            # print(qc)\n",
    "            n = qc.width() \n",
    "            h = list(instrct.operation.name for _index, instrct in enumerate(qc.data)).count('h') \n",
    "            d = qc.depth()  \n",
    "            g = gate_counts(qc)  \n",
    "            t = n + h  \n",
    "            print(f\"Running the circuit for n = {n}, h = {h}, h_prob = {h_prob}, d = {d}, g = {g}, t = {t}\")\n",
    "            # Initialize the state of the qubits\n",
    "            initial_state = [0 for _ in range(n)]\n",
    "\n",
    "            # Timeout for poly computation\n",
    "            if not stop_poly:\n",
    "                print(\"running poly\")\n",
    "                result, stop_poly = execute_with_timeout(timeout, get_time_poly, qc, n, t, initial_state)\n",
    "                if stop_poly: \n",
    "                    print(f\"h = {h}, n = {n}, d = {d}, g = {g}\")\n",
    "                    print(f\"Poly is stopped after h = {h}, and for above values\")\n",
    "                (stvec_poly, cpu_time_poly, wall_time_poly) = (None,-1,-1) if stop_poly else result \n",
    "            else:\n",
    "                (stvec_poly, cpu_time_poly, wall_time_poly) = (None,-1,-1)\n",
    "\n",
    "            # Timeout for ddsim computation\n",
    "            if not stop_ddsim:\n",
    "                print(\"running ddsim\")\n",
    "                result, stop_ddsim = execute_with_timeout(timeout, get_time_ddsim, qc)\n",
    "                if stop_ddsim:\n",
    "                    print(f\"h = {h}, n = {n}, d = {d}, g = {g}\")\n",
    "                    print(f\"ddsim is stopped after n = {n}, and for above values\")\n",
    "                (stvec_ddsim, cpu_time_ddsim, wall_time_ddsim) = (None,-1,-1) if stop_ddsim else result\n",
    "            else:\n",
    "                (stvec_ddsim, cpu_time_ddsim, wall_time_ddsim) = (None,-1,-1)\n",
    "            \n",
    "            # Timeout for aer computation\n",
    "            if not stop_aer:\n",
    "                print(\"running aer\")\n",
    "                result, stop_aer = execute_with_timeout(timeout, get_time_aer, qc)\n",
    "                if stop_aer: \n",
    "                    print(f\"h = {h}, n = {n}, d = {d}, g = {g}\")\n",
    "                    print(f\"Aer is stopped after n = {n}, and for above values\")\n",
    "                (stvec_aer, cpu_time_aer, wall_time_aer) = (None,-1,-1) if stop_aer else result\n",
    "            else:\n",
    "                (stvec_aer, cpu_time_aer, wall_time_aer) = (None,-1,-1)\n",
    "\n",
    "            # Store the result for the current configuration\n",
    "            results = [n, h, d, g, t, h_prob, \n",
    "                    round(cpu_time_poly, 6), round(wall_time_poly, 6),\n",
    "                    round(cpu_time_ddsim, 6), round(wall_time_ddsim, 6),\n",
    "                    round(cpu_time_aer, 6), round(wall_time_aer, 6)]\n",
    "\n",
    "            # # If any computation exceeded the timeout, break out of the loop\n",
    "            # if stop_poly and stop_aer and stop_ddsim:\n",
    "            #     should_break = True\n",
    "            #     break\n",
    "\n",
    "            # Store the circuit in QASM2 and QASM3 format\n",
    "            write_results(qc,n,h,h_prob,seed,results)\n",
    "            del results, qc, qr, seed, d, g, t, initial_state, stvec_poly, cpu_time_poly, wall_time_poly, stvec_aer, cpu_time_aer, wall_time_aer, stvec_ddsim, cpu_time_ddsim, wall_time_ddsim\n",
    "            gc.collect()\n",
    "            # circuit_filename = f\"qc_qasm3_n{n}_h{h}_h_prob{h_prob}.qasm3\"\n",
    "            # stvec_comp_filename = f\"Results/run2/arbitrary_h/comparing_statevector_results.txt\"\n",
    "            # if stvec_aer is not None and stvec_poly is not None and stvec_ddsim is not None:\n",
    "            #     check_stvector(n, stvec_poly, stvec_aer, stvec_ddsim, circuit_filename, stvec_comp_filename)\n",
    "            print()\n",
    "        # if should_break:\n",
    "            # break\n",
    "\n",
    "# timeout = 1, "
   ]
  },
  {
   "cell_type": "code",
   "execution_count": 22,
   "metadata": {},
   "outputs": [
    {
     "name": "stdout",
     "output_type": "stream",
     "text": [
      "2.1.3\n"
     ]
    }
   ],
   "source": [
    "import numpy as np\n",
    "print(np.__version__)"
   ]
  },
  {
   "cell_type": "code",
   "execution_count": null,
   "metadata": {},
   "outputs": [],
   "source": []
  },
  {
   "cell_type": "code",
   "execution_count": null,
   "metadata": {},
   "outputs": [],
   "source": []
  },
  {
   "cell_type": "code",
   "execution_count": 23,
   "metadata": {},
   "outputs": [
    {
     "name": "stdout",
     "output_type": "stream",
     "text": [
      "Memory usage: 65683.84 MB\n",
      "Memory usage: 66121.84 MB\n",
      "Memory usage exceeded the limit. Taking action...\n"
     ]
    }
   ],
   "source": [
    "import psutil\n",
    "import os\n",
    "\n",
    "# Set a memory threshold in bytes (e.g., 1 GB = 1024*1024*1024 bytes)\n",
    "memory_limit = 1 * 1024 * 1024 * 1  # 1 GB\n",
    "\n",
    "# Get the current process\n",
    "process = psutil.Process()\n",
    "\n",
    "# Get the memory usage of the current process (in bytes)\n",
    "memory_usage = process.memory_info().rss  # rss: Resident Set Size (physical memory used)\n",
    "\n",
    "print(f\"Memory usage: {memory_usage / (1024 * 1024):.2f} MB\")\n",
    "arr = [i for i in range(1024*1024*10)]\n",
    "arr2 = [i for i in range(1024*1024)]\n",
    "memory_usage = process.memory_info().rss\n",
    "print(f\"Memory usage: {memory_usage / (1024 * 1024):.2f} MB\")\n",
    "del arr, arr2\n",
    "\n",
    "# Check if memory usage exceeds the limit\n",
    "if memory_usage > memory_limit:\n",
    "    print(\"Memory usage exceeded the limit. Taking action...\")\n",
    "    # Do something else here (e.g., terminate process, free resources, etc.)\n"
   ]
  },
  {
   "cell_type": "code",
   "execution_count": null,
   "metadata": {},
   "outputs": [],
   "source": []
  },
  {
   "cell_type": "code",
   "execution_count": 24,
   "metadata": {},
   "outputs": [
    {
     "name": "stdout",
     "output_type": "stream",
     "text": [
      "Process exceeded 5 seconds and was terminated.\n"
     ]
    }
   ],
   "source": [
    "import signal\n",
    "import time\n",
    "\n",
    "# Timeout handler\n",
    "def timeout_handler(signum, frame):\n",
    "    raise TimeoutError(\"Process exceeded time limit\")\n",
    "\n",
    "def your_function():\n",
    "    # Simulating a long-running task\n",
    "    time.sleep(10)  # This will take 10 seconds, exceeding the timeout\n",
    "\n",
    "def run_with_timeout(func, timeout):\n",
    "    # Set the signal handler to raise TimeoutError after timeout seconds\n",
    "    signal.signal(signal.SIGALRM, timeout_handler)\n",
    "    signal.alarm(timeout)  # Set the alarm for the timeout period\n",
    "\n",
    "    try:\n",
    "        func()  # Run the function\n",
    "    except TimeoutError:\n",
    "        print(f\"Process exceeded {timeout} seconds and was terminated.\")\n",
    "    finally:\n",
    "        signal.alarm(0)  # Disable the alarm\n",
    "\n",
    "# Run with a timeout of 5 seconds\n",
    "run_with_timeout(your_function, 5)\n"
   ]
  },
  {
   "cell_type": "code",
   "execution_count": 25,
   "metadata": {},
   "outputs": [
    {
     "name": "stdout",
     "output_type": "stream",
     "text": [
      "Size of dictionary before dtype change: 232 bytes\n",
      "Size of dictionary after dtype change: 232 bytes\n"
     ]
    }
   ],
   "source": [
    "import numpy as np\n",
    "import sys\n",
    "\n",
    "# Create a dictionary with ndarray values\n",
    "my_dict = {\n",
    "    \"array1\": np.array([1, 2, 3], dtype=np.uint16),\n",
    "    \"array2\": np.array([4, 5, 6], dtype=np.uint16),\n",
    "}\n",
    "\n",
    "# Get the size of the dictionary\n",
    "print(f\"Size of dictionary before dtype change: {sys.getsizeof(my_dict)} bytes\")\n",
    "\n",
    "# Change dtype of the arrays (to a smaller type)\n",
    "my_dict[\"array1\"] = my_dict[\"array1\"].astype(np.uint8)  # Decrease dtype precision\n",
    "my_dict[\"array2\"] = my_dict[\"array2\"].astype(np.uint8)\n",
    "\n",
    "# Get the size of the dictionary after dtype change\n",
    "print(f\"Size of dictionary after dtype change: {sys.getsizeof(my_dict)} bytes\")\n"
   ]
  },
  {
   "cell_type": "code",
   "execution_count": null,
   "metadata": {},
   "outputs": [],
   "source": []
  },
  {
   "cell_type": "code",
   "execution_count": null,
   "metadata": {},
   "outputs": [],
   "source": []
  },
  {
   "cell_type": "markdown",
   "metadata": {},
   "source": [
    "#### Rough Work! Excuse me please."
   ]
  },
  {
   "cell_type": "code",
   "execution_count": 26,
   "metadata": {},
   "outputs": [
    {
     "ename": "NameError",
     "evalue": "name 'qc' is not defined",
     "output_type": "error",
     "traceback": [
      "\u001b[0;31m---------------------------------------------------------------------------\u001b[0m",
      "\u001b[0;31mNameError\u001b[0m                                 Traceback (most recent call last)",
      "Cell \u001b[0;32mIn[26], line 3\u001b[0m\n\u001b[1;32m      1\u001b[0m instructions \u001b[38;5;241m=\u001b[39m [(instruction\u001b[38;5;241m.\u001b[39moperation\u001b[38;5;241m.\u001b[39mname,\n\u001b[1;32m      2\u001b[0m                     [qc\u001b[38;5;241m.\u001b[39mfind_bit(q)\u001b[38;5;241m.\u001b[39mindex \u001b[38;5;28;01mfor\u001b[39;00m q \u001b[38;5;129;01min\u001b[39;00m instruction\u001b[38;5;241m.\u001b[39mqubits]) \n\u001b[0;32m----> 3\u001b[0m                     \u001b[38;5;28;01mfor\u001b[39;00m index, instruction \u001b[38;5;129;01min\u001b[39;00m \u001b[38;5;28menumerate\u001b[39m(\u001b[43mqc\u001b[49m\u001b[38;5;241m.\u001b[39mdata)]\n\u001b[1;32m      4\u001b[0m \u001b[38;5;28mprint\u001b[39m(\u001b[38;5;124m\"\u001b[39m\u001b[38;5;124minstructions of the circuit are: \u001b[39m\u001b[38;5;124m\"\u001b[39m, instructions)\n",
      "\u001b[0;31mNameError\u001b[0m: name 'qc' is not defined"
     ]
    }
   ],
   "source": [
    "instructions = [(instruction.operation.name,\n",
    "                    [qc.find_bit(q).index for q in instruction.qubits]) \n",
    "                    for index, instruction in enumerate(qc.data)]\n",
    "print(\"instructions of the circuit are: \", instructions)"
   ]
  },
  {
   "cell_type": "code",
   "execution_count": null,
   "metadata": {},
   "outputs": [
    {
     "ename": "NameError",
     "evalue": "name 'get_random_circ' is not defined",
     "output_type": "error",
     "traceback": [
      "\u001b[0;31m---------------------------------------------------------------------------\u001b[0m",
      "\u001b[0;31mNameError\u001b[0m                                 Traceback (most recent call last)",
      "Cell \u001b[0;32mIn[15], line 3\u001b[0m\n\u001b[1;32m      1\u001b[0m n \u001b[38;5;241m=\u001b[39m \u001b[38;5;241m10\u001b[39m\n\u001b[1;32m      2\u001b[0m h \u001b[38;5;241m=\u001b[39m \u001b[38;5;241m15\u001b[39m\n\u001b[0;32m----> 3\u001b[0m qc, qr \u001b[38;5;241m=\u001b[39m \u001b[43mget_random_circ\u001b[49m(n\u001b[38;5;241m=\u001b[39mn, h\u001b[38;5;241m=\u001b[39mh)\n\u001b[1;32m      4\u001b[0m n \u001b[38;5;241m=\u001b[39m qc\u001b[38;5;241m.\u001b[39mwidth()\n\u001b[1;32m      5\u001b[0m h \u001b[38;5;241m=\u001b[39m \u001b[38;5;28mlist\u001b[39m(instruction\u001b[38;5;241m.\u001b[39moperation\u001b[38;5;241m.\u001b[39mname \u001b[38;5;28;01mfor\u001b[39;00m index,\n\u001b[1;32m      6\u001b[0m         instruction \u001b[38;5;129;01min\u001b[39;00m \u001b[38;5;28menumerate\u001b[39m(qc\u001b[38;5;241m.\u001b[39mdata))\u001b[38;5;241m.\u001b[39mcount(\u001b[38;5;124m'\u001b[39m\u001b[38;5;124mh\u001b[39m\u001b[38;5;124m'\u001b[39m)\n",
      "\u001b[0;31mNameError\u001b[0m: name 'get_random_circ' is not defined"
     ]
    }
   ],
   "source": [
    "n = 10\n",
    "h = 15\n",
    "qc, qr = get_random_circ(n=n, h=h)\n",
    "n = qc.width()\n",
    "h = list(instruction.operation.name for index,\n",
    "        instruction in enumerate(qc.data)).count('h')\n",
    "d = qc.depth()\n",
    "g = gate_counts(qc)\n",
    "t = n+h\n",
    "initial_state = [0 for _ in range(n)]\n",
    "print(gate_counts(qc))\n",
    "print(qc.count_ops())\n",
    "# qc.draw(fold=-1)"
   ]
  },
  {
   "cell_type": "code",
   "execution_count": 10,
   "metadata": {},
   "outputs": [
    {
     "name": "stdout",
     "output_type": "stream",
     "text": [
      "Input variables are:  [0, 1, 2, 3, 4, 5, 6, 7, 8, 9]\n",
      "Output variables are:  [21, 20, 2, 3, 24, 17, 23, 10, 22, 9]\n",
      "state vector using boolean equation: \n",
      " [0. 0. 0. ... 0. 0. 0.]\n",
      "3.421875 3.493514060974121\n"
     ]
    }
   ],
   "source": [
    "stvec_poly, cpu_time_poly, wall_time_poly = get_time_poly(qc, initial_state)\n",
    "print(cpu_time_poly, wall_time_poly)"
   ]
  },
  {
   "cell_type": "code",
   "execution_count": 38,
   "metadata": {},
   "outputs": [],
   "source": [
    "# # Load circuits from QASM file\n",
    "# filename = \"multiple_circuits.qasm\"\n",
    "# circuits = []\n",
    "\n",
    "# with open(filename, 'r') as file:\n",
    "#     qasm_code = file.read()\n",
    "\n",
    "# # Split QASM code based on markers\n",
    "# circuit_codes = qasm_code.split(\"//\")\n",
    "\n",
    "# for code in circuit_codes:\n",
    "#     code = code.strip()\n",
    "#     if code:\n",
    "#         circuit = QuantumCircuit.from_qasm_str(code)\n",
    "#         circuits.append(circuit)\n",
    "\n",
    "# Now `circuits` list contains all the reconstructed quantum circuits"
   ]
  }
 ],
 "metadata": {
  "kernelspec": {
   "display_name": "poly-env",
   "language": "python",
   "name": "python3"
  },
  "language_info": {
   "codemirror_mode": {
    "name": "ipython",
    "version": 3
   },
   "file_extension": ".py",
   "mimetype": "text/x-python",
   "name": "python",
   "nbconvert_exporter": "python",
   "pygments_lexer": "ipython3",
   "version": "3.10.12"
  }
 },
 "nbformat": 4,
 "nbformat_minor": 2
}

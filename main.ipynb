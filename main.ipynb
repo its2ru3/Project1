{
 "cells": [
  {
   "cell_type": "code",
   "execution_count": 32,
   "metadata": {},
   "outputs": [
    {
     "name": "stdout",
     "output_type": "stream",
     "text": [
      "The autoreload extension is already loaded. To reload it, use:\n",
      "  %reload_ext autoreload\n"
     ]
    }
   ],
   "source": [
    "%load_ext autoreload\n",
    "%autoreload 2"
   ]
  },
  {
   "cell_type": "code",
   "execution_count": 33,
   "metadata": {},
   "outputs": [],
   "source": [
    "from Dependencies.random_circuit_generator_universal import * # Using universal set!\n",
    "from Dependencies.functions_list import *\n",
    "import psutil, time, numpy as np, csv\n",
    "from qiskit_aer import StatevectorSimulator\n",
    "import qiskit.qasm2, qiskit.qasm3\n",
    "from mqt import ddsim"
   ]
  },
  {
   "cell_type": "code",
   "execution_count": 44,
   "metadata": {},
   "outputs": [
    {
     "data": {
      "text/plain": [
       "' # Bell State circuit\\n# qc = QuantumCircuit(2)\\n# qc.h([0,1])\\n# qc.cz(0,1)\\n# qc.h(1)\\n# d = qc.depth()\\n'"
      ]
     },
     "execution_count": 44,
     "metadata": {},
     "output_type": "execute_result"
    }
   ],
   "source": [
    "# @calculate_execution_time\n",
    "def get_random_circ_h(n: int,h: int, h_prob: float = None):\n",
    "    if h_prob == None:\n",
    "        qc, qr, seed = random_circ_h_const(n, h) # has default value set to 0.125\n",
    "    else:\n",
    "        qc, qr, seed = random_circ_h_const(n, h, h_prob)\n",
    "    return qc, qr, seed\n",
    "def get_random_circ_d(n: int, d: int):\n",
    "    qc, qr, seed = random_circ_d_const(n, d)\n",
    "    return qc, qr, seed\n",
    "def get_random_circ_g(n: int, g: int):\n",
    "    qc, qr, seed = random_circ_g_const(n, g)\n",
    "    return qc, qr, seed\n",
    "\n",
    "\"\"\" # Bell State circuit\n",
    "# qc = QuantumCircuit(2)\n",
    "# qc.h([0,1])\n",
    "# qc.cz(0,1)\n",
    "# qc.h(1)\n",
    "# d = qc.depth()\n",
    "\"\"\""
   ]
  },
  {
   "cell_type": "code",
   "execution_count": 45,
   "metadata": {},
   "outputs": [],
   "source": [
    "# @calculate_execution_time\n",
    "def get_stvec_poly(qc, n, t, initial_state):\n",
    "    if n == t :\n",
    "        return \n",
    "    terms, wire_array, max_new_var = create_poly(qc, n)\n",
    "    assert t == max_new_var, \"Value of 't' != 'max_new_var' from the create_poly function.\"\n",
    "    # print(\"terms are: \", terms)\n",
    "    # print(\"wires are: \", wire_array)\n",
    "    ovs = [j[-1] for j in wire_array]\n",
    "    # print(\"Output variables are: \", ovs)\n",
    "    ttb = get_truthtable(terms, n, t, initial_state)\n",
    "    # print(\"ttb is: \", ttb)\n",
    "    return get_statevector(ttb, n, t, ovs, np)\n",
    "    # counts = {} # : To-Do\n",
    "\n",
    "def get_stvec_ddsim(qc):\n",
    "    backend = ddsim.DDSIMProvider().get_backend(\"statevector_simulator\")\n",
    "    job = backend.run(qc)\n",
    "    result = job.result()\n",
    "    return result.get_statevector()\n",
    "\n",
    "def get_stvec_aer(qc):\n",
    "    backend = StatevectorSimulator()\n",
    "    res = backend.run(qc).result()\n",
    "    return res.get_statevector()\n"
   ]
  },
  {
   "cell_type": "code",
   "execution_count": 46,
   "metadata": {},
   "outputs": [],
   "source": [
    "def get_time_poly(qc, n, t, initial_state):\n",
    "    # Time Calculation for Simulation using polynomial equation\n",
    "    start_cpu_times = psutil.Process().cpu_times()\n",
    "    start_time = time.time()\n",
    "    # When there is no H gate in our circuit\n",
    "    if n == t : \n",
    "        state_vector = np.zeros(1,dtype=complex)\n",
    "    else:\n",
    "        state_vector = get_stvec_poly(qc, n, t, initial_state)\n",
    "\n",
    "    end_cpu_times = psutil.Process().cpu_times()\n",
    "    end_time = time.time()\n",
    "\n",
    "    # Calculate user and system CPU times\n",
    "    user_time = end_cpu_times.user - start_cpu_times.user\n",
    "    system_time = end_cpu_times.system - start_cpu_times.system\n",
    "    cpu_time = user_time + system_time\n",
    "    wall_time = end_time - start_time\n",
    "\n",
    "    return state_vector, cpu_time, wall_time\n",
    "\n",
    "def get_time_ddsim(qc):\n",
    "    # Time Calculation for Simulation using DDSIM by MQT\n",
    "    start_cpu_times = psutil.Process().cpu_times()\n",
    "    start_time = time.time()\n",
    "\n",
    "    state_vector = get_stvec_ddsim(qc)\n",
    "\n",
    "    end_cpu_times = psutil.Process().cpu_times()\n",
    "    end_time = time.time()\n",
    "\n",
    "    # Calculate user and system CPU times\n",
    "    user_time = end_cpu_times.user - start_cpu_times.user\n",
    "    system_time = end_cpu_times.system - start_cpu_times.system\n",
    "    cpu_time = user_time + system_time\n",
    "    wall_time = end_time - start_time\n",
    "\n",
    "    return state_vector, cpu_time, wall_time\n",
    "\n",
    "def get_time_aer(qc):\n",
    "    # Time Calculation for Simulation using Qiskit's Aer Simulator\n",
    "    start_cpu_times = psutil.Process().cpu_times()\n",
    "    start_time = time.time()\n",
    "\n",
    "    state_vector = get_stvec_aer(qc)\n",
    "    # printing the statevector amplitudes with a threshold\n",
    "\n",
    "    end_cpu_times = psutil.Process().cpu_times()\n",
    "    end_time = time.time()\n",
    "\n",
    "    # Calculate user and system CPU times\n",
    "    user_time = end_cpu_times.user - start_cpu_times.user\n",
    "    system_time = end_cpu_times.system - start_cpu_times.system\n",
    "    cpu_time = user_time + system_time\n",
    "    wall_time = end_time - start_time\n",
    "\n",
    "    return state_vector, cpu_time, wall_time\n"
   ]
  },
  {
   "cell_type": "code",
   "execution_count": 63,
   "metadata": {},
   "outputs": [],
   "source": [
    "def write_results(qc,n,h,h_prob,seed,result):            \n",
    "    qc_qasm2 = qiskit.qasm2.dumps(qc)\n",
    "    qc_qasm3 = qiskit.qasm3.dumps(qc)\n",
    "    qasm2_filename = f'Results/run2/arbitrary_h/qc_qasm2_n{n}_h{h}_h_prob{h_prob}.qasm2'\n",
    "    qasm3_filename = f'Results/run2/arbitrary_h/qc_qasm3_n{n}_h{h}_h_prob{h_prob}.qasm3'\n",
    "    with open(qasm2_filename, 'w') as file:\n",
    "        file.write(f\"The seed for the random circuit generator is: {seed}\\n\")\n",
    "        file.write(qc_qasm2)\n",
    "    with open(qasm3_filename, 'w') as file:\n",
    "        file.write(f\"The seed for the random circuit generator is: {seed}\\n\")\n",
    "        file.write(qc_qasm3)\n",
    "    with open('Results/run2/arbitrary_h/program_data_h.csv', 'a', newline='') as file:\n",
    "        writer = csv.writer(file)\n",
    "        writer.writerow(result)"
   ]
  },
  {
   "cell_type": "code",
   "execution_count": 72,
   "metadata": {},
   "outputs": [],
   "source": [
    "# TODO: Something is mismatching. keep it append mode\n",
    "\n",
    "def check_stvector(n, stvec_poly, stvec_aer, stvec_ddsim, circuit_filename, stvec_comp_filename):\n",
    "    stvec_ddsim = np.asanyarray(stvec_ddsim)\n",
    "    stvec_aer = np.asanyarray(stvec_aer)\n",
    "\n",
    "    with open(stvec_comp_filename, 'a') as result_file:\n",
    "        for i in range(len(stvec_aer)):\n",
    "            reversed_index = int(format(i, f'0{n}b')[::-1], 2)\n",
    "            if stvec_aer[i] != stvec_poly[reversed_index]:\n",
    "                result_file.write(f\"Mismatch found in circuit: {circuit_filename}\\n\")\n",
    "                result_file.write(f\"Mismatch in stvec_aer at index {i} and stvec_poly (reversed index {reversed_index})\\n\")\n",
    "                result_file.write(\"\\n\")  \n",
    "                break\n",
    "\n",
    "            if stvec_aer[i] != stvec_ddsim[reversed_index]:\n",
    "                result_file.write(f\"Mismatch found in circuit: {circuit_filename}\\n\")\n",
    "                result_file.write(f\"Mismatch in stvec_aer at index {i} and stvec_ddsim (reversed index {reversed_index})\\n\")\n",
    "                result_file.write(\"\\n\")  \n",
    "                break\n",
    "    print(stvec_poly)\n",
    "    print(stvec_aer)\n",
    "    print(stvec_ddsim)"
   ]
  },
  {
   "cell_type": "markdown",
   "metadata": {},
   "source": [
    "### For varying number of H gates"
   ]
  },
  {
   "cell_type": "code",
   "execution_count": 73,
   "metadata": {},
   "outputs": [
    {
     "name": "stdout",
     "output_type": "stream",
     "text": [
      "[0.70710678+0.j 0.70710678+0.j 0.        +0.j 0.        +0.j\n",
      " 0.        +0.j 0.        +0.j 0.        +0.j 0.        +0.j]\n",
      "[0.70710678+0.j 0.        +0.j 0.        +0.j 0.        +0.j\n",
      " 0.70710678+0.j 0.        +0.j 0.        +0.j 0.        +0.j]\n",
      "[0.70710678+0.j 0.        +0.j 0.        +0.j 0.        +0.j\n",
      " 0.70710678+0.j 0.        +0.j 0.        +0.j 0.        +0.j]\n"
     ]
    }
   ],
   "source": [
    "# If I by-mistake run this cell multiple times, past data will be overwritten, so don't use 'w'.\n",
    "with open('Results/run2/arbitrary_h/program_data_h.csv', 'a', newline='') as file: \n",
    "    writer = csv.writer(file)\n",
    "    writer.writerow(['n', 'h', 'd', 'g', 't', 'cpu_time_poly', 'wall_time_poly',\n",
    "                        'cpu_time_ddsim', 'wall_time_ddsim', 'cpu_time_aer', 'wall_time_aer' ])\n",
    "            \n",
    "for h_prob in np.arange(5, 6, 2.5):\n",
    "    for n in range(3,4): \n",
    "        for h in range(1,2):\n",
    "            # print(f\"Value of h: {h}\")\n",
    "            h_prob = h_prob/100\n",
    "            qc, qr, seed = get_random_circ_h(n, h, h_prob)\n",
    "            # print(qc)\n",
    "            n = qc.width() \n",
    "            h = list(instrct.operation.name for _index, instrct in enumerate(qc.data)).count('h')\n",
    "            d = qc.depth()\n",
    "            g = gate_counts(qc)\n",
    "            t = n + h\n",
    "            # print(f'Value of n: {n}, d: {d}, g: {g}, h: {h}')\n",
    "            # Initial state on variables x0 x1 x2 x3 .... continuosly upto n\n",
    "            # initial_state = [random.randint(0, 1) for _ in range(n)]\n",
    "            initial_state = [0 for _ in range(n)]\n",
    "            # print(f'Initial state of qubits is: {initial_state}')\n",
    "\n",
    "            stvec_poly, cpu_time_poly, wall_time_poly = get_time_poly(qc, n, t, initial_state)\n",
    "            stvec_aer, cpu_time_aer, wall_time_aer = get_time_aer(qc)\n",
    "            stvec_ddsim, cpu_time_ddsim, wall_time_ddsim = get_time_ddsim(qc)\n",
    "\n",
    "            result = [n, h, d, g, t, cpu_time_poly, wall_time_poly,\n",
    "                        cpu_time_ddsim, wall_time_ddsim, cpu_time_aer, wall_time_aer ]\n",
    "            # Store the circuit in QASM2 and QASM3 format\n",
    "            write_results(qc,n,h,h_prob,seed,result)\n",
    "            circuit_filename = f\"qc_qasm3_n{n}_h{h}_h_prob{h_prob}.qasm3\"\n",
    "            stvec_comp_filename = f\"Results/run2/arbitrary_h/comparing_statevector_results.txt\"\n",
    "            check_stvector(n, stvec_poly, stvec_aer, stvec_ddsim, circuit_filename, stvec_comp_filename)"
   ]
  },
  {
   "cell_type": "code",
   "execution_count": 74,
   "metadata": {},
   "outputs": [
    {
     "name": "stdout",
     "output_type": "stream",
     "text": [
      "Process exceeded 5 seconds and was terminated.\n"
     ]
    }
   ],
   "source": [
    "import signal\n",
    "import time\n",
    "\n",
    "# Timeout handler\n",
    "def timeout_handler(signum, frame):\n",
    "    raise TimeoutError(\"Process exceeded time limit\")\n",
    "\n",
    "def your_function():\n",
    "    # Simulating a long-running task\n",
    "    time.sleep(10)  # This will take 10 seconds, exceeding the timeout\n",
    "\n",
    "def run_with_timeout(func, timeout):\n",
    "    # Set the signal handler to raise TimeoutError after timeout seconds\n",
    "    signal.signal(signal.SIGALRM, timeout_handler)\n",
    "    signal.alarm(timeout)  # Set the alarm for the timeout period\n",
    "\n",
    "    try:\n",
    "        func()  # Run the function\n",
    "    except TimeoutError:\n",
    "        print(f\"Process exceeded {timeout} seconds and was terminated.\")\n",
    "    finally:\n",
    "        signal.alarm(0)  # Disable the alarm\n",
    "\n",
    "# Run with a timeout of 5 seconds\n",
    "run_with_timeout(your_function, 5)\n"
   ]
  },
  {
   "cell_type": "code",
   "execution_count": null,
   "metadata": {},
   "outputs": [],
   "source": []
  },
  {
   "cell_type": "code",
   "execution_count": null,
   "metadata": {},
   "outputs": [],
   "source": []
  },
  {
   "cell_type": "code",
   "execution_count": null,
   "metadata": {},
   "outputs": [],
   "source": []
  },
  {
   "cell_type": "markdown",
   "metadata": {},
   "source": [
    "#### Rough Work! Excuse me please."
   ]
  },
  {
   "cell_type": "code",
   "execution_count": 20,
   "metadata": {},
   "outputs": [
    {
     "name": "stdout",
     "output_type": "stream",
     "text": [
      "instructions of the circuit are:  [('h', [0]), ('h', [0]), ('h', [0])]\n"
     ]
    }
   ],
   "source": [
    "instructions = [(instruction.operation.name,\n",
    "                    [qc.find_bit(q).index for q in instruction.qubits]) \n",
    "                    for index, instruction in enumerate(qc.data)]\n",
    "print(\"instructions of the circuit are: \", instructions)"
   ]
  },
  {
   "cell_type": "code",
   "execution_count": 21,
   "metadata": {},
   "outputs": [
    {
     "ename": "NameError",
     "evalue": "name 'get_random_circ' is not defined",
     "output_type": "error",
     "traceback": [
      "\u001b[0;31m---------------------------------------------------------------------------\u001b[0m",
      "\u001b[0;31mNameError\u001b[0m                                 Traceback (most recent call last)",
      "Cell \u001b[0;32mIn[21], line 3\u001b[0m\n\u001b[1;32m      1\u001b[0m n \u001b[38;5;241m=\u001b[39m \u001b[38;5;241m10\u001b[39m\n\u001b[1;32m      2\u001b[0m h \u001b[38;5;241m=\u001b[39m \u001b[38;5;241m15\u001b[39m\n\u001b[0;32m----> 3\u001b[0m qc, qr \u001b[38;5;241m=\u001b[39m \u001b[43mget_random_circ\u001b[49m(n\u001b[38;5;241m=\u001b[39mn, h\u001b[38;5;241m=\u001b[39mh)\n\u001b[1;32m      4\u001b[0m n \u001b[38;5;241m=\u001b[39m qc\u001b[38;5;241m.\u001b[39mwidth()\n\u001b[1;32m      5\u001b[0m h \u001b[38;5;241m=\u001b[39m \u001b[38;5;28mlist\u001b[39m(instruction\u001b[38;5;241m.\u001b[39moperation\u001b[38;5;241m.\u001b[39mname \u001b[38;5;28;01mfor\u001b[39;00m index,\n\u001b[1;32m      6\u001b[0m         instruction \u001b[38;5;129;01min\u001b[39;00m \u001b[38;5;28menumerate\u001b[39m(qc\u001b[38;5;241m.\u001b[39mdata))\u001b[38;5;241m.\u001b[39mcount(\u001b[38;5;124m'\u001b[39m\u001b[38;5;124mh\u001b[39m\u001b[38;5;124m'\u001b[39m)\n",
      "\u001b[0;31mNameError\u001b[0m: name 'get_random_circ' is not defined"
     ]
    }
   ],
   "source": [
    "n = 10\n",
    "h = 15\n",
    "qc, qr = get_random_circ(n=n, h=h)\n",
    "n = qc.width()\n",
    "h = list(instruction.operation.name for index,\n",
    "        instruction in enumerate(qc.data)).count('h')\n",
    "d = qc.depth()\n",
    "g = gate_counts(qc)\n",
    "t = n+h\n",
    "initial_state = [0 for _ in range(n)]\n",
    "print(gate_counts(qc))\n",
    "print(qc.count_ops())\n",
    "# qc.draw(fold=-1)"
   ]
  },
  {
   "cell_type": "code",
   "execution_count": 10,
   "metadata": {},
   "outputs": [
    {
     "name": "stdout",
     "output_type": "stream",
     "text": [
      "Input variables are:  [0, 1, 2, 3, 4, 5, 6, 7, 8, 9]\n",
      "Output variables are:  [21, 20, 2, 3, 24, 17, 23, 10, 22, 9]\n",
      "state vector using boolean equation: \n",
      " [0. 0. 0. ... 0. 0. 0.]\n",
      "3.421875 3.493514060974121\n"
     ]
    }
   ],
   "source": [
    "stvec_poly, cpu_time_poly, wall_time_poly = get_time_poly(qc, initial_state)\n",
    "print(cpu_time_poly, wall_time_poly)"
   ]
  },
  {
   "cell_type": "code",
   "execution_count": 38,
   "metadata": {},
   "outputs": [],
   "source": [
    "# # Load circuits from QASM file\n",
    "# filename = \"multiple_circuits.qasm\"\n",
    "# circuits = []\n",
    "\n",
    "# with open(filename, 'r') as file:\n",
    "#     qasm_code = file.read()\n",
    "\n",
    "# # Split QASM code based on markers\n",
    "# circuit_codes = qasm_code.split(\"//\")\n",
    "\n",
    "# for code in circuit_codes:\n",
    "#     code = code.strip()\n",
    "#     if code:\n",
    "#         circuit = QuantumCircuit.from_qasm_str(code)\n",
    "#         circuits.append(circuit)\n",
    "\n",
    "# Now `circuits` list contains all the reconstructed quantum circuits"
   ]
  }
 ],
 "metadata": {
  "kernelspec": {
   "display_name": "poly-env",
   "language": "python",
   "name": "python3"
  },
  "language_info": {
   "codemirror_mode": {
    "name": "ipython",
    "version": 3
   },
   "file_extension": ".py",
   "mimetype": "text/x-python",
   "name": "python",
   "nbconvert_exporter": "python",
   "pygments_lexer": "ipython3",
   "version": "3.10.12"
  }
 },
 "nbformat": 4,
 "nbformat_minor": 2
}

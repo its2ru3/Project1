{
 "cells": [
  {
   "cell_type": "code",
   "execution_count": 2,
   "metadata": {},
   "outputs": [],
   "source": [
    "from Dependencies.random_circuit_generator import *\n",
    "from Dependencies.functions_list import *\n",
    "import random, psutil, time, numpy as np, csv\n",
    "from qiskit_aer import StatevectorSimulator\n",
    "import qiskit.qasm2, qiskit.qasm3\n",
    "from mqt import ddsim"
   ]
  },
  {
   "cell_type": "code",
   "execution_count": 3,
   "metadata": {},
   "outputs": [],
   "source": [
    "# @calculate_execution_time\n",
    "def get_random_circ(n=None, d=None, g=None, h=None):\n",
    "    qc, qr = random_circ_h_const(n, h, 0.2)\n",
    "    # qc, qr = random_circ_g_const(n, d)\n",
    "    return qc, qr\n",
    "\n",
    "# Bell State circuit\n",
    "# qc = QuantumCircuit(2)\n",
    "# qc.h([0,1])\n",
    "# qc.cz(0,1)\n",
    "# qc.h(1)\n",
    "# d = qc.depth()\n"
   ]
  },
  {
   "cell_type": "code",
   "execution_count": 4,
   "metadata": {},
   "outputs": [],
   "source": [
    "# @calculate_execution_time\n",
    "def get_stvec_poly(qc, n, t, initial_state):\n",
    "    if n == t :\n",
    "        return \n",
    "    terms, wire_array, max_new_var = create_poly(qc, n)\n",
    "    assert t == max_new_var, \"Value of 't' != 'max_new_var' from the create_poly function.\"\n",
    "    print(\"terms are: \", terms)\n",
    "    print(\"wires are: \", wire_array)\n",
    "    ovs = [j[-1] for j in wire_array]\n",
    "    print(\"Output variables are: \", ovs)\n",
    "    ttb = get_truthtable(terms, n, t, initial_state)\n",
    "    print(\"ttb is: \", ttb)\n",
    "    return get_statevector(ttb, n, t, ovs, np)\n",
    "    # counts = {} # : To-Do\n",
    "\n",
    "def get_stvec_ddsim(qc):\n",
    "    backend = ddsim.DDSIMProvider().get_backend(\"statevector_simulator\")\n",
    "    job = backend.run(qc)\n",
    "    result = job.result()\n",
    "    return result.get_statevector()\n",
    "\n",
    "def get_stvec_aer(qc):\n",
    "    backend = StatevectorSimulator()\n",
    "    res = backend.run(qc).result()\n",
    "    return res.get_statevector()\n"
   ]
  },
  {
   "cell_type": "code",
   "execution_count": 5,
   "metadata": {},
   "outputs": [],
   "source": [
    "def get_time_poly(qc, n, t, initial_state):\n",
    "    # Time Calculation for Simulation using polynomial equation\n",
    "    start_cpu_times = psutil.Process().cpu_times()\n",
    "    start_time = time.time()\n",
    "    if n == t : \n",
    "        state_vector = np.zeros(1,dtype=complex)\n",
    "    else:\n",
    "        state_vector = get_stvec_poly(qc, n, t, initial_state)\n",
    "    print(\"Statevector using boolean equation: \")\n",
    "    threshold = 1e-8\n",
    "    for i, amp in enumerate(state_vector):\n",
    "        if abs(amp) > threshold:\n",
    "            print(f\"|{i:0{n}b}> : {amp:.6f}\")\n",
    "\n",
    "    end_cpu_times = psutil.Process().cpu_times()\n",
    "    end_time = time.time()\n",
    "\n",
    "    # Calculate user and system CPU times\n",
    "    user_time = end_cpu_times.user - start_cpu_times.user\n",
    "    system_time = end_cpu_times.system - start_cpu_times.system\n",
    "    cpu_time = user_time + system_time\n",
    "    wall_time = end_time - start_time\n",
    "\n",
    "    return state_vector, cpu_time, wall_time\n",
    "\n",
    "def get_time_ddsim(qc):\n",
    "    # Time Calculation for Simulation using DDSIM by MQT\n",
    "    start_cpu_times = psutil.Process().cpu_times()\n",
    "    start_time = time.time()\n",
    "\n",
    "    state_vector = get_stvec_ddsim(qc)\n",
    "\n",
    "    end_cpu_times = psutil.Process().cpu_times()\n",
    "    end_time = time.time()\n",
    "\n",
    "    # Calculate user and system CPU times\n",
    "    user_time = end_cpu_times.user - start_cpu_times.user\n",
    "    system_time = end_cpu_times.system - start_cpu_times.system\n",
    "    cpu_time = user_time + system_time\n",
    "    wall_time = end_time - start_time\n",
    "\n",
    "    return state_vector, cpu_time, wall_time\n",
    "\n",
    "def get_time_aer(qc):\n",
    "    # Time Calculation for Simulation using Qiskit's Aer Simulator\n",
    "    start_cpu_times = psutil.Process().cpu_times()\n",
    "    start_time = time.time()\n",
    "\n",
    "    state_vector = get_stvec_aer(qc)\n",
    "    # printing the statevector amplitudes with a threshold\n",
    "    from qiskit_aer import StatevectorSimulator\n",
    "\n",
    "\n",
    "    end_cpu_times = psutil.Process().cpu_times()\n",
    "    end_time = time.time()\n",
    "\n",
    "    # Calculate user and system CPU times\n",
    "    user_time = end_cpu_times.user - start_cpu_times.user\n",
    "    system_time = end_cpu_times.system - start_cpu_times.system\n",
    "    cpu_time = user_time + system_time\n",
    "    wall_time = end_time - start_time\n",
    "\n",
    "    return state_vector, cpu_time, wall_time\n"
   ]
  },
  {
   "cell_type": "code",
   "execution_count": 6,
   "metadata": {},
   "outputs": [
    {
     "name": "stdout",
     "output_type": "stream",
     "text": [
      "Value of h: 6\n",
      "                                              \n",
      "q_0: ─────────────────────────────────────────\n",
      "     ┌───┐┌───┐                     ┌───┐     \n",
      "q_1: ┤ H ├┤ H ├──────────────────■──┤ Z ├─────\n",
      "     ├───┤├───┤                  │  └───┘┌───┐\n",
      "q_2: ┤ Z ├┤ H ├──────────────────┼────■──┤ H ├\n",
      "     └───┘└───┘   ┌───┐   ┌───┐  │    │  └───┘\n",
      "q_3: ──■────────■─┤ Z ├─■─┤ Z ├──■────■───────\n",
      "       │  ┌───┐ │ ├───┤ │ └───┘  │    │       \n",
      "q_4: ──┼──┤ Z ├─┼─┤ H ├─┼────────■────■───────\n",
      "       │  └───┘ │ ├───┤ │ ┌───┐┌───┐          \n",
      "q_5: ──■────────■─┤ Z ├─■─┤ H ├┤ Z ├──────────\n",
      "                  └───┘ │ └───┘└───┘          \n",
      "q_6: ───────────────────■─────────────────────\n",
      "                                              \n",
      "Initial wire_array:  [[0], [1], [2], [3], [4], [5], [6]]\n",
      "terms are:  [[4, [2]], [4, [1, 7]], [4, [5, 3]], [4, [5, 3]], [4, [3]], [4, [4]], [4, [5]], [4, [6, 3, 5]], [4, [3]], [4, [5, 8]], [4, [4, 9]], [4, [7, 10]], [4, [8]], [4, [2, 11]], [4, [9, 10, 3]], [4, [11, 9, 3]], [4, [10]], [4, [11, 12]]]\n",
      "wires are:  [[0], [1, 7, 10], [2, 11, 12], [3], [4, 9], [5, 8], [6]]\n",
      "Output variables are:  [0, 10, 12, 3, 9, 8, 6]\n"
     ]
    },
    {
     "ename": "NameError",
     "evalue": "name 'get_truthtable' is not defined",
     "output_type": "error",
     "traceback": [
      "\u001b[0;31m---------------------------------------------------------------------------\u001b[0m",
      "\u001b[0;31mNameError\u001b[0m                                 Traceback (most recent call last)",
      "Cell \u001b[0;32mIn[6], line 21\u001b[0m\n\u001b[1;32m     18\u001b[0m initial_state \u001b[38;5;241m=\u001b[39m [\u001b[38;5;241m0\u001b[39m \u001b[38;5;28;01mfor\u001b[39;00m _ \u001b[38;5;129;01min\u001b[39;00m \u001b[38;5;28mrange\u001b[39m(n)]\n\u001b[1;32m     19\u001b[0m \u001b[38;5;66;03m# print(f'Initial state of qubits is: {initial_state}')\u001b[39;00m\n\u001b[0;32m---> 21\u001b[0m stvec_poly, cpu_time_poly, wall_time_poly \u001b[38;5;241m=\u001b[39m \u001b[43mget_time_poly\u001b[49m\u001b[43m(\u001b[49m\u001b[43mqc\u001b[49m\u001b[43m,\u001b[49m\u001b[43m \u001b[49m\u001b[43mn\u001b[49m\u001b[43m,\u001b[49m\u001b[43m \u001b[49m\u001b[43mt\u001b[49m\u001b[43m,\u001b[49m\u001b[43m \u001b[49m\u001b[43minitial_state\u001b[49m\u001b[43m)\u001b[49m\n\u001b[1;32m     22\u001b[0m stvec_ddsim, cpu_time_ddsim, wall_time_ddsim \u001b[38;5;241m=\u001b[39m get_time_ddsim(qc)\n\u001b[1;32m     23\u001b[0m stvec_aer, cpu_time_aer, wall_time_aer \u001b[38;5;241m=\u001b[39m get_time_aer(qc)\n",
      "Cell \u001b[0;32mIn[5], line 8\u001b[0m, in \u001b[0;36mget_time_poly\u001b[0;34m(qc, n, t, initial_state)\u001b[0m\n\u001b[1;32m      6\u001b[0m     state_vector \u001b[38;5;241m=\u001b[39m np\u001b[38;5;241m.\u001b[39mzeros(\u001b[38;5;241m1\u001b[39m,dtype\u001b[38;5;241m=\u001b[39m\u001b[38;5;28mcomplex\u001b[39m)\n\u001b[1;32m      7\u001b[0m \u001b[38;5;28;01melse\u001b[39;00m:\n\u001b[0;32m----> 8\u001b[0m     state_vector \u001b[38;5;241m=\u001b[39m \u001b[43mget_stvec_poly\u001b[49m\u001b[43m(\u001b[49m\u001b[43mqc\u001b[49m\u001b[43m,\u001b[49m\u001b[43m \u001b[49m\u001b[43mn\u001b[49m\u001b[43m,\u001b[49m\u001b[43m \u001b[49m\u001b[43mt\u001b[49m\u001b[43m,\u001b[49m\u001b[43m \u001b[49m\u001b[43minitial_state\u001b[49m\u001b[43m)\u001b[49m\n\u001b[1;32m      9\u001b[0m \u001b[38;5;28mprint\u001b[39m(\u001b[38;5;124m\"\u001b[39m\u001b[38;5;124mStatevector using boolean equation: \u001b[39m\u001b[38;5;124m\"\u001b[39m)\n\u001b[1;32m     10\u001b[0m threshold \u001b[38;5;241m=\u001b[39m \u001b[38;5;241m1e-8\u001b[39m\n",
      "Cell \u001b[0;32mIn[4], line 11\u001b[0m, in \u001b[0;36mget_stvec_poly\u001b[0;34m(qc, n, t, initial_state)\u001b[0m\n\u001b[1;32m      9\u001b[0m ovs \u001b[38;5;241m=\u001b[39m [j[\u001b[38;5;241m-\u001b[39m\u001b[38;5;241m1\u001b[39m] \u001b[38;5;28;01mfor\u001b[39;00m j \u001b[38;5;129;01min\u001b[39;00m wire_array]\n\u001b[1;32m     10\u001b[0m \u001b[38;5;28mprint\u001b[39m(\u001b[38;5;124m\"\u001b[39m\u001b[38;5;124mOutput variables are: \u001b[39m\u001b[38;5;124m\"\u001b[39m, ovs)\n\u001b[0;32m---> 11\u001b[0m ttb \u001b[38;5;241m=\u001b[39m \u001b[43mget_truthtable\u001b[49m(terms, n, t, initial_state)\n\u001b[1;32m     12\u001b[0m \u001b[38;5;28mprint\u001b[39m(\u001b[38;5;124m\"\u001b[39m\u001b[38;5;124mttb is: \u001b[39m\u001b[38;5;124m\"\u001b[39m, ttb)\n\u001b[1;32m     13\u001b[0m \u001b[38;5;28;01mreturn\u001b[39;00m get_statevector(ttb, n, t, ovs, np)\n",
      "\u001b[0;31mNameError\u001b[0m: name 'get_truthtable' is not defined"
     ]
    }
   ],
   "source": [
    "result = []\n",
    "stVectors = []\n",
    "for n in range(7,8):\n",
    "    for h in range(6,7):\n",
    "        print(f\"Value of h: {h}\")\n",
    "        qc, qr = get_random_circ(n=n, h=h)\n",
    "        print(qc)\n",
    "        n = qc.width()\n",
    "        h = list(instruction.operation.name for index,\n",
    "                instruction in enumerate(qc.data)).count('h')\n",
    "        d = qc.depth()\n",
    "        g = gate_counts(qc)\n",
    "        t = n + h\n",
    "        # print(f'Value of n: {n}, d: {d}, g: {g}, h: {h}')\n",
    "\n",
    "        # Initial state on variables x0 x1 x2 x3 .... continuosly upto n\n",
    "        # initial_state = [random.randint(0, 1) for _ in range(n)]\n",
    "        initial_state = [0 for _ in range(n)]\n",
    "        # print(f'Initial state of qubits is: {initial_state}')\n",
    "\n",
    "        stvec_poly, cpu_time_poly, wall_time_poly = get_time_poly(qc, n, t, initial_state)\n",
    "        stvec_ddsim, cpu_time_ddsim, wall_time_ddsim = get_time_ddsim(qc)\n",
    "        stvec_aer, cpu_time_aer, wall_time_aer = get_time_aer(qc)\n",
    "\n",
    "        stVectors.append([stvec_poly, stvec_ddsim, stvec_aer])\n",
    "        result.append([n, h, d, g, t,\n",
    "                    cpu_time_poly, wall_time_poly,\n",
    "                    cpu_time_ddsim, wall_time_ddsim,\n",
    "                    cpu_time_aer, wall_time_aer\n",
    "                    ])\n",
    "        # Store the circuit in QASM2 and QASM3 format\n",
    "        qc_qasm2 = qiskit.qasm2.dumps(qc)\n",
    "        qc_qasm3 = qiskit.qasm3.dumps(qc)\n",
    "        with open('Results/run2/qc_qasm2.qasm', 'a') as file:\n",
    "            file.write(f\"\\n\\n// Circuit: n={n}, h={h}, d={d}, g={g}\\n\")\n",
    "            file.write(qc_qasm2)\n",
    "        with open('Results/run2/qc_qasm3.qasm', 'a') as file:\n",
    "            file.write(f\"\\n\\n// Circuit: n={n}, h={h}, d={d}, g={g}\\n\")\n",
    "            file.write(qc_qasm3)\n",
    "                \n",
    "        with open('Results/run2/program_data.csv', 'a', newline='') as file:\n",
    "            writer = csv.writer(file)\n",
    "            # writer.writerow(['n', 'h', 'd', 'g', 't',\n",
    "            #                     'cpu_time_poly', 'wall_time_poly',\n",
    "            #                     'cpu_time_ddsim', 'wall_time_ddsim',\n",
    "            #                     'cpu_time_aer', 'wall_time_aer'\n",
    "            #                     ])\n",
    "            writer.writerows(result)"
   ]
  },
  {
   "cell_type": "code",
   "execution_count": null,
   "metadata": {},
   "outputs": [],
   "source": []
  },
  {
   "cell_type": "code",
   "execution_count": null,
   "metadata": {},
   "outputs": [],
   "source": []
  },
  {
   "cell_type": "code",
   "execution_count": 79,
   "metadata": {},
   "outputs": [
    {
     "name": "stdout",
     "output_type": "stream",
     "text": [
      "instructions of the circuit are:  [('h', [0]), ('h', [1]), ('cz', [0, 1]), ('h', [1])]\n"
     ]
    }
   ],
   "source": [
    "instructions = [(instruction.operation.name,\n",
    "                    [qc.find_bit(q).index for q in instruction.qubits]) \n",
    "                    for index, instruction in enumerate(qc.data)]\n",
    "print(\"instructions of the circuit are: \", instructions)"
   ]
  },
  {
   "cell_type": "code",
   "execution_count": 13,
   "metadata": {},
   "outputs": [
    {
     "name": "stdout",
     "output_type": "stream",
     "text": [
      "33\n",
      "OrderedDict([('h', 15), ('barrier', 15), ('z', 1), ('cz', 1), ('ccz', 1)])\n"
     ]
    }
   ],
   "source": [
    "n = 10\n",
    "h = 15\n",
    "qc, qr = get_random_circ(n=n, h=h)\n",
    "n = qc.width()\n",
    "h = list(instruction.operation.name for index,\n",
    "        instruction in enumerate(qc.data)).count('h')\n",
    "d = qc.depth()\n",
    "g = gate_counts(qc)\n",
    "t = n+h\n",
    "initial_state = [0 for _ in range(n)]\n",
    "print(gate_counts(qc))\n",
    "print(qc.count_ops())\n",
    "# qc.draw(fold=-1)"
   ]
  },
  {
   "cell_type": "code",
   "execution_count": 10,
   "metadata": {},
   "outputs": [
    {
     "name": "stdout",
     "output_type": "stream",
     "text": [
      "Input variables are:  [0, 1, 2, 3, 4, 5, 6, 7, 8, 9]\n",
      "Output variables are:  [21, 20, 2, 3, 24, 17, 23, 10, 22, 9]\n",
      "state vector using boolean equation: \n",
      " [0. 0. 0. ... 0. 0. 0.]\n",
      "3.421875 3.493514060974121\n"
     ]
    }
   ],
   "source": [
    "stvec_poly, cpu_time_poly, wall_time_poly = get_time_poly(qc, initial_state)\n",
    "print(cpu_time_poly, wall_time_poly)"
   ]
  },
  {
   "cell_type": "code",
   "execution_count": 38,
   "metadata": {},
   "outputs": [],
   "source": [
    "# # Load circuits from QASM file\n",
    "# filename = \"multiple_circuits.qasm\"\n",
    "# circuits = []\n",
    "\n",
    "# with open(filename, 'r') as file:\n",
    "#     qasm_code = file.read()\n",
    "\n",
    "# # Split QASM code based on markers\n",
    "# circuit_codes = qasm_code.split(\"//\")\n",
    "\n",
    "# for code in circuit_codes:\n",
    "#     code = code.strip()\n",
    "#     if code:\n",
    "#         circuit = QuantumCircuit.from_qasm_str(code)\n",
    "#         circuits.append(circuit)\n",
    "\n",
    "# Now `circuits` list contains all the reconstructed quantum circuits"
   ]
  }
 ],
 "metadata": {
  "kernelspec": {
   "display_name": "poly-env",
   "language": "python",
   "name": "python3"
  },
  "language_info": {
   "codemirror_mode": {
    "name": "ipython",
    "version": 3
   },
   "file_extension": ".py",
   "mimetype": "text/x-python",
   "name": "python",
   "nbconvert_exporter": "python",
   "pygments_lexer": "ipython3",
   "version": "3.10.12"
  }
 },
 "nbformat": 4,
 "nbformat_minor": 2
}
